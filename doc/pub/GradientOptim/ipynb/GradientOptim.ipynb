{
 "cells": [
  {
   "cell_type": "markdown",
   "metadata": {},
   "source": [
    "<!-- dom:TITLE: Data Analysis and Machine Learning  Lectures: Optimization and  Gradient Methods -->\n",
    "# Data Analysis and Machine Learning  Lectures: Optimization and  Gradient Methods\n",
    "<!-- dom:AUTHOR: Morten Hjorth-Jensen at Department of Physics, University of Oslo & Department of Physics and Astronomy and National Superconducting Cyclotron Laboratory, Michigan State University -->\n",
    "<!-- Author: -->  \n",
    "**Morten Hjorth-Jensen**, Department of Physics, University of Oslo and Department of Physics and Astronomy and National Superconducting Cyclotron Laboratory, Michigan State University\n",
    "\n",
    "Date: **Mar 11, 2019**\n",
    "\n",
    "Copyright 1999-2019, Morten Hjorth-Jensen. Released under CC Attribution-NonCommercial 4.0 license\n",
    "\n",
    "\n",
    "\n",
    "\n",
    "## Optimization problems, why?\n",
    "\n",
    "## Optimization, the central part of any Machine Learning algortithm\n",
    "\n",
    "Almost every problem in machine learning and data science starts with\n",
    "a dataset $X$, a model $g(\\beta)$, which is a function of the\n",
    "parameters $\\beta$ and a cost function $C(X, g(\\beta))$ that allows\n",
    "us to judge how well the model $g(\\beta)$ explains the observations\n",
    "$X$. The model is fit by finding the values of $\\beta$ that minimize\n",
    "the cost function. Ideally we would be able to solve for $\\beta$\n",
    "analytically, however this is not possible in general and we must use\n",
    "some approximative/numerical method to compute the minimum.\n",
    "\n",
    "\n",
    "## Revisiting our Logistic Regression case\n",
    "\n",
    "In our discussion on Logistic Regression we studied the \n",
    "case of\n",
    "two classes, with $y_i$ either\n",
    "$0$ or $1$. Furthermore we assumed also that we have only two\n",
    "parameters $\\beta$ in our fitting, that is we\n",
    "defined probabilities"
   ]
  },
  {
   "cell_type": "markdown",
   "metadata": {},
   "source": [
    "$$\n",
    "\\begin{align*}\n",
    "p(y_i=1|x_i,\\hat{\\beta}) &= \\frac{\\exp{(\\beta_0+\\beta_1x_i)}}{1+\\exp{(\\beta_0+\\beta_1x_i)}},\\nonumber\\\\\n",
    "p(y_i=0|x_i,\\hat{\\beta}) &= 1 - p(y_i=1|x_i,\\hat{\\beta}),\n",
    "\\end{align*}\n",
    "$$"
   ]
  },
  {
   "cell_type": "markdown",
   "metadata": {},
   "source": [
    "where $\\hat{\\beta}$ are the weights we wish to extract from data, in our case $\\beta_0$ and $\\beta_1$. \n",
    "\n",
    "## The equations to solve\n",
    "\n",
    "Our compact equations used a definition of a vector $\\hat{y}$ with $n$\n",
    "elements $y_i$, an $n\\times p$ matrix $\\hat{X}$ which contains the\n",
    "$x_i$ values and a vector $\\hat{p}$ of fitted probabilities\n",
    "$p(y_i\\vert x_i,\\hat{\\beta})$. We rewrote in a more compact form\n",
    "the first derivative of the cost function as"
   ]
  },
  {
   "cell_type": "markdown",
   "metadata": {},
   "source": [
    "$$\n",
    "\\frac{\\partial \\mathcal{C}(\\hat{\\beta})}{\\partial \\hat{\\beta}} = -\\hat{X}^T\\left(\\hat{y}-\\hat{p}\\right).\n",
    "$$"
   ]
  },
  {
   "cell_type": "markdown",
   "metadata": {},
   "source": [
    "If we in addition define a diagonal matrix $\\hat{W}$ with elements \n",
    "$p(y_i\\vert x_i,\\hat{\\beta})(1-p(y_i\\vert x_i,\\hat{\\beta})$, we can obtain a compact expression of the second derivative as"
   ]
  },
  {
   "cell_type": "markdown",
   "metadata": {},
   "source": [
    "$$\n",
    "\\frac{\\partial^2 \\mathcal{C}(\\hat{\\beta})}{\\partial \\hat{\\beta}\\partial \\hat{\\beta}^T} = \\hat{X}^T\\hat{W}\\hat{X}.\n",
    "$$"
   ]
  },
  {
   "cell_type": "markdown",
   "metadata": {},
   "source": [
    "This defines what is called  the Hessian matrix.\n",
    "\n",
    "## Solving using Newton-Raphson's method\n",
    "\n",
    "If we can set up these equations, Newton-Raphson's iterative method is normally the method of choice. It requires however that we can compute in an efficient way the  matrices that define the first and second derivatives. \n",
    "\n",
    "Our iterative scheme is then given by"
   ]
  },
  {
   "cell_type": "markdown",
   "metadata": {},
   "source": [
    "$$\n",
    "\\hat{\\beta}^{\\mathrm{new}} = \\hat{\\beta}^{\\mathrm{old}}-\\left(\\frac{\\partial^2 \\mathcal{C}(\\hat{\\beta})}{\\partial \\hat{\\beta}\\partial \\hat{\\beta}^T}\\right)^{-1}_{\\hat{\\beta}^{\\mathrm{old}}}\\times \\left(\\frac{\\partial \\mathcal{C}(\\hat{\\beta})}{\\partial \\hat{\\beta}}\\right)_{\\hat{\\beta}^{\\mathrm{old}}},\n",
    "$$"
   ]
  },
  {
   "cell_type": "markdown",
   "metadata": {},
   "source": [
    "or in matrix form as"
   ]
  },
  {
   "cell_type": "markdown",
   "metadata": {},
   "source": [
    "$$\n",
    "\\hat{\\beta}^{\\mathrm{new}} = \\hat{\\beta}^{\\mathrm{old}}-\\left(\\hat{X}^T\\hat{W}\\hat{X} \\right)^{-1}\\times \\left(-\\hat{X}^T(\\hat{y}-\\hat{p}) \\right)_{\\hat{\\beta}^{\\mathrm{old}}}.\n",
    "$$"
   ]
  },
  {
   "cell_type": "markdown",
   "metadata": {},
   "source": [
    "The right-hand side is computed with the old values of $\\beta$. \n",
    "\n",
    "If we can compute these matrices, in particular the Hessian, the above is often the easiest method to implement. \n",
    "\n",
    "\n",
    "## Brief reminder on Newton-Raphson's method\n",
    "\n",
    "Let us quickly remind ourselves how we derive the above method.\n",
    "\n",
    "Perhaps the most celebrated of all one-dimensional root-finding\n",
    "routines is Newton's method, also called the Newton-Raphson\n",
    "method. This method  requires the evaluation of both the\n",
    "function $f$ and its derivative $f'$ at arbitrary points. \n",
    "If you can only calculate the derivative\n",
    "numerically and/or your function is not of the smooth type, we\n",
    "normally discourage the use of this method.\n",
    "\n",
    "## The equations\n",
    "\n",
    "The Newton-Raphson formula consists geometrically of extending the\n",
    "tangent line at a current point until it crosses zero, then setting\n",
    "the next guess to the abscissa of that zero-crossing.  The mathematics\n",
    "behind this method is rather simple. Employing a Taylor expansion for\n",
    "$x$ sufficiently close to the solution $s$, we have"
   ]
  },
  {
   "cell_type": "markdown",
   "metadata": {},
   "source": [
    "<!-- Equation labels as ordinary links -->\n",
    "<div id=\"eq:taylornr\"></div>\n",
    "\n",
    "$$\n",
    "f(s)=0=f(x)+(s-x)f'(x)+\\frac{(s-x)^2}{2}f''(x) +\\dots.\n",
    "    \\label{eq:taylornr} \\tag{1}\n",
    "$$"
   ]
  },
  {
   "cell_type": "markdown",
   "metadata": {},
   "source": [
    "For small enough values of the function and for well-behaved\n",
    "functions, the terms beyond linear are unimportant, hence we obtain"
   ]
  },
  {
   "cell_type": "markdown",
   "metadata": {},
   "source": [
    "$$\n",
    "f(x)+(s-x)f'(x)\\approx 0,\n",
    "$$"
   ]
  },
  {
   "cell_type": "markdown",
   "metadata": {},
   "source": [
    "yielding"
   ]
  },
  {
   "cell_type": "markdown",
   "metadata": {},
   "source": [
    "$$\n",
    "s\\approx x-\\frac{f(x)}{f'(x)}.\n",
    "$$"
   ]
  },
  {
   "cell_type": "markdown",
   "metadata": {},
   "source": [
    "Having in mind an iterative procedure, it is natural to start iterating with"
   ]
  },
  {
   "cell_type": "markdown",
   "metadata": {},
   "source": [
    "$$\n",
    "x_{n+1}=x_n-\\frac{f(x_n)}{f'(x_n)}.\n",
    "$$"
   ]
  },
  {
   "cell_type": "markdown",
   "metadata": {},
   "source": [
    "## Simple geometric interpretation\n",
    "\n",
    "The above is Newton-Raphson's method. It has a simple geometric\n",
    "interpretation, namely $x_{n+1}$ is the point where the tangent from\n",
    "$(x_n,f(x_n))$ crosses the $x$-axis.  Close to the solution,\n",
    "Newton-Raphson converges fast to the desired result. However, if we\n",
    "are far from a root, where the higher-order terms in the series are\n",
    "important, the Newton-Raphson formula can give grossly inaccurate\n",
    "results. For instance, the initial guess for the root might be so far\n",
    "from the true root as to let the search interval include a local\n",
    "maximum or minimum of the function.  If an iteration places a trial\n",
    "guess near such a local extremum, so that the first derivative nearly\n",
    "vanishes, then Newton-Raphson may fail totally\n",
    "\n",
    "\n",
    "## Extending to more than one variable\n",
    "\n",
    "Newton's method can be generalized to systems of several non-linear equations\n",
    "and variables. Consider the case with two equations"
   ]
  },
  {
   "cell_type": "markdown",
   "metadata": {},
   "source": [
    "$$\n",
    "\\begin{array}{cc} f_1(x_1,x_2) &=0\\\\\n",
    "                     f_2(x_1,x_2) &=0,\\end{array}\n",
    "$$"
   ]
  },
  {
   "cell_type": "markdown",
   "metadata": {},
   "source": [
    "which we Taylor expand to obtain"
   ]
  },
  {
   "cell_type": "markdown",
   "metadata": {},
   "source": [
    "$$\n",
    "\\begin{array}{cc} 0=f_1(x_1+h_1,x_2+h_2)=&f_1(x_1,x_2)+h_1\n",
    "                     \\partial f_1/\\partial x_1+h_2\n",
    "                     \\partial f_1/\\partial x_2+\\dots\\\\\n",
    "                     0=f_2(x_1+h_1,x_2+h_2)=&f_2(x_1,x_2)+h_1\n",
    "                     \\partial f_2/\\partial x_1+h_2\n",
    "                     \\partial f_2/\\partial x_2+\\dots\n",
    "                       \\end{array}.\n",
    "$$"
   ]
  },
  {
   "cell_type": "markdown",
   "metadata": {},
   "source": [
    "Defining the Jacobian matrix ${\\bf \\hat{J}}$ we have"
   ]
  },
  {
   "cell_type": "markdown",
   "metadata": {},
   "source": [
    "$$\n",
    "{\\bf \\hat{J}}=\\left( \\begin{array}{cc}\n",
    "                         \\partial f_1/\\partial x_1  & \\partial f_1/\\partial x_2 \\\\\n",
    "                          \\partial f_2/\\partial x_1     &\\partial f_2/\\partial x_2\n",
    "             \\end{array} \\right),\n",
    "$$"
   ]
  },
  {
   "cell_type": "markdown",
   "metadata": {},
   "source": [
    "we can rephrase Newton's method as"
   ]
  },
  {
   "cell_type": "markdown",
   "metadata": {},
   "source": [
    "$$\n",
    "\\left(\\begin{array}{c} x_1^{n+1} \\\\ x_2^{n+1} \\end{array} \\right)=\n",
    "\\left(\\begin{array}{c} x_1^{n} \\\\ x_2^{n} \\end{array} \\right)+\n",
    "\\left(\\begin{array}{c} h_1^{n} \\\\ h_2^{n} \\end{array} \\right),\n",
    "$$"
   ]
  },
  {
   "cell_type": "markdown",
   "metadata": {},
   "source": [
    "where we have defined"
   ]
  },
  {
   "cell_type": "markdown",
   "metadata": {},
   "source": [
    "$$\n",
    "\\left(\\begin{array}{c} h_1^{n} \\\\ h_2^{n} \\end{array} \\right)=\n",
    "   -{\\bf \\hat{J}}^{-1}\n",
    "   \\left(\\begin{array}{c} f_1(x_1^{n},x_2^{n}) \\\\ f_2(x_1^{n},x_2^{n}) \\end{array} \\right).\n",
    "$$"
   ]
  },
  {
   "cell_type": "markdown",
   "metadata": {},
   "source": [
    "We need thus to compute the inverse of the Jacobian matrix and it\n",
    "is to understand that difficulties  may\n",
    "arise in case ${\\bf \\hat{J}}$ is nearly singular.\n",
    "\n",
    "It is rather straightforward to extend the above scheme to systems of\n",
    "more than two non-linear equations. In our case, the Jacobian matrix is given by the Hessian that represents the second derivative of cost function. \n",
    "\n",
    "\n",
    "\n",
    "## Steepest descent\n",
    "\n",
    "The basic idea of gradient descent is\n",
    "that a function $F(\\mathbf{x})$, \n",
    "$\\mathbf{x} \\equiv (x_1,\\cdots,x_n)$, decreases fastest if one goes from $\\bf {x}$ in the\n",
    "direction of the negative gradient $-\\nabla F(\\mathbf{x})$.\n",
    "\n",
    "It can be shown that if"
   ]
  },
  {
   "cell_type": "markdown",
   "metadata": {},
   "source": [
    "$$\n",
    "\\mathbf{x}_{k+1} = \\mathbf{x}_k - \\gamma_k \\nabla F(\\mathbf{x}_k),\n",
    "$$"
   ]
  },
  {
   "cell_type": "markdown",
   "metadata": {},
   "source": [
    "with $\\gamma_k > 0$.\n",
    "\n",
    "For $\\gamma_k$ small enough, then $F(\\mathbf{x}_{k+1}) \\leq\n",
    "F(\\mathbf{x}_k)$. This means that for a sufficiently small $\\gamma_k$\n",
    "we are always moving towards smaller function values, i.e a minimum.\n",
    "\n",
    "<!-- !split  -->\n",
    "## More on Steepest descent\n",
    "\n",
    "The previous observation is the basis of the method of steepest\n",
    "descent, which is also referred to as just gradient descent (GD). One\n",
    "starts with an initial guess $\\mathbf{x}_0$ for a minimum of $F$ and\n",
    "computes new approximations according to"
   ]
  },
  {
   "cell_type": "markdown",
   "metadata": {},
   "source": [
    "$$\n",
    "\\mathbf{x}_{k+1} = \\mathbf{x}_k - \\gamma_k \\nabla F(\\mathbf{x}_k), \\ \\ k \\geq 0.\n",
    "$$"
   ]
  },
  {
   "cell_type": "markdown",
   "metadata": {},
   "source": [
    "The parameter $\\gamma_k$ is often referred to as the step length or\n",
    "the learning rate within the context of Machine Learning.\n",
    "\n",
    "<!-- !split  -->\n",
    "## The ideal\n",
    "\n",
    "Ideally the sequence $\\{\\mathbf{x}_k \\}_{k=0}$ converges to a global\n",
    "minimum of the function $F$. In general we do not know if we are in a\n",
    "global or local minimum. In the special case when $F$ is a convex\n",
    "function, all local minima are also global minima, so in this case\n",
    "gradient descent can converge to the global solution. The advantage of\n",
    "this scheme is that it is conceptually simple and straightforward to\n",
    "implement. However the method in this form has some severe\n",
    "limitations:\n",
    "\n",
    "In machine learing we are often faced with non-convex high dimensional\n",
    "cost functions with many local minima. Since GD is deterministic we\n",
    "will get stuck in a local minimum, if the method converges, unless we\n",
    "have a very good intial guess. This also implies that the scheme is\n",
    "sensitive to the chosen initial condition.\n",
    "\n",
    "Note that the gradient is a function of $\\mathbf{x} =\n",
    "(x_1,\\cdots,x_n)$ which makes it expensive to compute numerically.\n",
    "\n",
    "\n",
    "<!-- !split  -->\n",
    "## The sensitiveness of the gradient descent\n",
    "\n",
    "The gradient descent method \n",
    "is sensitive to the choice of learning rate $\\gamma_k$. This is due\n",
    "to the fact that we are only guaranteed that $F(\\mathbf{x}_{k+1}) \\leq\n",
    "F(\\mathbf{x}_k)$ for sufficiently small $\\gamma_k$. The problem is to\n",
    "determine an optimal learning rate. If the learning rate is chosen too\n",
    "small the method will take a long time to converge and if it is too\n",
    "large we can experience erratic behavior.\n",
    "\n",
    "Many of these shortcomings can be alleviated by introducing\n",
    "randomness. One such method is that of Stochastic Gradient Descent\n",
    "(SGD), see below.\n",
    "\n",
    "\n",
    "<!-- !split  -->\n",
    "## Convex functions\n",
    "\n",
    "Ideally we want our cost/loss function to be convex(concave).\n",
    "\n",
    "First we give the definition of a convex set: A set $C$ in\n",
    "$\\mathbb{R}^n$ is said to be convex if, for all $x$ and $y$ in $C$ and\n",
    "all $t \\in (0,1)$ , the point $(1 − t)x + ty$ also belongs to\n",
    "C. Geometrically this means that every point on the line segment\n",
    "connecting $x$ and $y$ is in $C$ as discussed below.\n",
    "\n",
    "The convex subsets of $\\mathbb{R}$ are the intervals of\n",
    "$\\mathbb{R}$. Examples of convex sets of $\\mathbb{R}^2$ are the\n",
    "regular polygons (triangles, rectangles, pentagons, etc...).\n",
    "\n",
    "## Convex function\n",
    "\n",
    "**Convex function**: Let $X \\subset \\mathbb{R}^n$ be a convex set. Assume that the function $f: X \\rightarrow \\mathbb{R}$ is continuous, then $f$ is said to be convex if $$f(tx_1 + (1-t)x_2) \\leq tf(x_1) + (1-t)f(x_2) $$ for all $x_1, x_2 \\in X$ and for all $t \\in [0,1]$. If $\\leq$ is replaced with a strict inequaltiy in the definition, we demand $x_1 \\neq x_2$ and $t\\in(0,1)$ then $f$ is said to be strictly convex. For a single variable function, convexity means that if you draw a straight line connecting $f(x_1)$ and $f(x_2)$, the value of the function on the interval $[x_1,x_2]$ is always below the line as illustrated below.\n",
    "\n",
    "## Conditions on convex functions\n",
    "\n",
    "In the following we state first and second-order conditions which\n",
    "ensures convexity of a function $f$. We write $D_f$ to denote the\n",
    "domain of $f$, i.e the subset of $R^n$ where $f$ is defined. For more\n",
    "details and proofs we refer to: [S. Boyd and L. Vandenberghe. Convex Optimization. Cambridge University Press](http://stanford.edu/boyd/cvxbook/, 2004).\n",
    "\n",
    "**First order condition.**\n",
    "\n",
    "Suppose $f$ is differentiable (i.e $\\nabla f(x)$ is well defined for\n",
    "all $x$ in the domain of $f$). Then $f$ is convex if and only if $D_f$\n",
    "is a convex set and $$f(y) \\geq f(x) + \\nabla f(x)^T (y-x) $$ holds\n",
    "for all $x,y \\in D_f$. This condition means that for a convex function\n",
    "the first order Taylor expansion (right hand side above) at any point\n",
    "a global under estimator of the function. To convince yourself you can\n",
    "make a drawing of $f(x) = x^2+1$ and draw the tangent line to $f(x)$ and\n",
    "note that it is always below the graph.\n",
    "\n",
    "\n",
    "\n",
    "**Second order condition.**\n",
    "\n",
    "Assume that $f$ is twice\n",
    "differentiable, i.e the Hessian matrix exists at each point in\n",
    "$D_f$. Then $f$ is convex if and only if $D_f$ is a convex set and its\n",
    "Hessian is positive semi-definite for all $x\\in D_f$. For a\n",
    "single-variable function this reduces to $f''(x) \\geq 0$. Geometrically this means that $f$ has nonnegative curvature\n",
    "everywhere.\n",
    "\n",
    "\n",
    "\n",
    "This condition is particularly useful since it gives us an procedure for determining if the function under consideration is convex, apart from using the definition.\n",
    "\n",
    "## More on convex functions\n",
    "\n",
    "The next result is of great importance to us and the reason why we are\n",
    "going on about convex functions. In machine learning we frequently\n",
    "have to minimize a loss/cost function in order to find the best\n",
    "parameters for the model we are considering. \n",
    "\n",
    "Ideally we want the\n",
    "global minimum (for high-dimensional models it is hard to know\n",
    "if we have local or global minimum). However, if the cost/loss function\n",
    "is convex the following result provides invaluable information:\n",
    "\n",
    "**Any minimum is global for convex functions.**\n",
    "\n",
    "Consider the problem of finding $x \\in \\mathbb{R}^n$ such that $f(x)$\n",
    "is minimal, where $f$ is convex and differentiable. Then, any point\n",
    "$x^*$ that satisfies $\\nabla f(x^*) = 0$ is a global minimum.\n",
    "\n",
    "\n",
    "\n",
    "This result means that if we know that the cost/loss function is convex and we are able to find a minimum, we are guaranteed that it is a global minimum.\n",
    "\n",
    "## Some simple problems\n",
    "\n",
    "1. Show that $f(x)=x^2$ is convex for $x \\in \\mathbb{R}$ using the definition of convexity. Hint: If you re-write the definition, $f$ is convex if the following holds for all $x,y \\in D_f$ and any $\\lambda \\in [0,1]$ $\\lambda f(x)+(1-\\lambda)f(y)-f(\\lambda x + (1-\\lambda) y ) \\geq 0$.\n",
    "\n",
    "2. Using the second order condition show that the following functions are convex on the specified domain.\n",
    "\n",
    " * $f(x) = e^x$ is convex for $x \\in \\mathbb{R}$.\n",
    "\n",
    " * $g(x) = -\\ln(x)$ is convex for $x \\in (0,\\infty)$.\n",
    "\n",
    "\n",
    "3. Let $f(x) = x^2$ and $g(x) = e^x$. Show that $f(g(x))$ and $g(f(x))$ is convex for $x \\in \\mathbb{R}$. Also show that if $f(x)$ is any convex function than $h(x) = e^{f(x)}$ is convex.\n",
    "\n",
    "4. A norm is any function that satisfy the following properties\n",
    "\n",
    " * $f(\\alpha x) = |\\alpha| f(x)$ for all $\\alpha \\in \\mathbb{R}$.\n",
    "\n",
    " * $f(x+y) \\leq f(x) + f(y)$\n",
    "\n",
    " * $f(x) \\leq 0$ for all $x \\in \\mathbb{R}^n$ with equality if and only if $x = 0$\n",
    "\n",
    "\n",
    "Using the definition of convexity, try to show that a function satisfying the properties above is convex (the third condition is not needed to show this).\n",
    "\n",
    "\n",
    "## Standard steepest descent\n",
    "\n",
    "\n",
    "Before we proceed, we would like to discuss the approach called the\n",
    "**standard Steepest descent**, which again leads to us having to be able\n",
    "to compute a matrix. It belongs to the class of Conjugate Gradient methods (CG).\n",
    "\n",
    "[The success of the CG method](https://www.cs.cmu.edu/~quake-papers/painless-conjugate-gradient.pdf)\n",
    "for finding solutions of non-linear problems is based on the theory\n",
    "of conjugate gradients for linear systems of equations. It belongs to\n",
    "the class of iterative methods for solving problems from linear\n",
    "algebra of the type"
   ]
  },
  {
   "cell_type": "markdown",
   "metadata": {},
   "source": [
    "$$\n",
    "\\hat{A}\\hat{x} = \\hat{b}.\n",
    "$$"
   ]
  },
  {
   "cell_type": "markdown",
   "metadata": {},
   "source": [
    "In the iterative process we end up with a problem like"
   ]
  },
  {
   "cell_type": "markdown",
   "metadata": {},
   "source": [
    "$$\n",
    "\\hat{r}= \\hat{b}-\\hat{A}\\hat{x},\n",
    "$$"
   ]
  },
  {
   "cell_type": "markdown",
   "metadata": {},
   "source": [
    "where $\\hat{r}$ is the so-called residual or error in the iterative process.\n",
    "\n",
    "When we have found the exact solution, $\\hat{r}=0$.\n",
    "\n",
    "## Gradient method\n",
    "\n",
    "The residual is zero when we reach the minimum of the quadratic equation"
   ]
  },
  {
   "cell_type": "markdown",
   "metadata": {},
   "source": [
    "$$\n",
    "P(\\hat{x})=\\frac{1}{2}\\hat{x}^T\\hat{A}\\hat{x} - \\hat{x}^T\\hat{b},\n",
    "$$"
   ]
  },
  {
   "cell_type": "markdown",
   "metadata": {},
   "source": [
    "with the constraint that the matrix $\\hat{A}$ is positive definite and\n",
    "symmetric.  This defines also the Hessian and we want it to be  positive definite.  \n",
    "\n",
    "\n",
    "## Steepest descent  method\n",
    "\n",
    "We denote the initial guess for $\\hat{x}$ as $\\hat{x}_0$. \n",
    "We can assume without loss of generality that"
   ]
  },
  {
   "cell_type": "markdown",
   "metadata": {},
   "source": [
    "$$\n",
    "\\hat{x}_0=0,\n",
    "$$"
   ]
  },
  {
   "cell_type": "markdown",
   "metadata": {},
   "source": [
    "or consider the system"
   ]
  },
  {
   "cell_type": "markdown",
   "metadata": {},
   "source": [
    "$$\n",
    "\\hat{A}\\hat{z} = \\hat{b}-\\hat{A}\\hat{x}_0,\n",
    "$$"
   ]
  },
  {
   "cell_type": "markdown",
   "metadata": {},
   "source": [
    "instead.\n",
    "\n",
    "\n",
    "## Steepest descent  method\n",
    "One can show that the solution $\\hat{x}$ is also the unique minimizer of the quadratic form"
   ]
  },
  {
   "cell_type": "markdown",
   "metadata": {},
   "source": [
    "$$\n",
    "f(\\hat{x}) = \\frac{1}{2}\\hat{x}^T\\hat{A}\\hat{x} - \\hat{x}^T \\hat{x} , \\quad \\hat{x}\\in\\mathbf{R}^n.\n",
    "$$"
   ]
  },
  {
   "cell_type": "markdown",
   "metadata": {},
   "source": [
    "This suggests taking the first basis vector $\\hat{r}_1$ (see below for definition) \n",
    "to be the gradient of $f$ at $\\hat{x}=\\hat{x}_0$, \n",
    "which equals"
   ]
  },
  {
   "cell_type": "markdown",
   "metadata": {},
   "source": [
    "$$\n",
    "\\hat{A}\\hat{x}_0-\\hat{b},\n",
    "$$"
   ]
  },
  {
   "cell_type": "markdown",
   "metadata": {},
   "source": [
    "and \n",
    "$\\hat{x}_0=0$ it is equal $-\\hat{b}$.\n",
    "\n",
    "\n",
    "\n",
    "## Final expressions\n",
    "We can compute the residual iteratively as"
   ]
  },
  {
   "cell_type": "markdown",
   "metadata": {},
   "source": [
    "$$\n",
    "\\hat{r}_{k+1}=\\hat{b}-\\hat{A}\\hat{x}_{k+1},\n",
    "$$"
   ]
  },
  {
   "cell_type": "markdown",
   "metadata": {},
   "source": [
    "which equals"
   ]
  },
  {
   "cell_type": "markdown",
   "metadata": {},
   "source": [
    "$$\n",
    "\\hat{b}-\\hat{A}(\\hat{x}_k+\\alpha_k\\hat{r}_k),\n",
    "$$"
   ]
  },
  {
   "cell_type": "markdown",
   "metadata": {},
   "source": [
    "or"
   ]
  },
  {
   "cell_type": "markdown",
   "metadata": {},
   "source": [
    "$$\n",
    "(\\hat{b}-\\hat{A}\\hat{x}_k)-\\alpha_k\\hat{A}\\hat{r}_k,\n",
    "$$"
   ]
  },
  {
   "cell_type": "markdown",
   "metadata": {},
   "source": [
    "which gives"
   ]
  },
  {
   "cell_type": "markdown",
   "metadata": {},
   "source": [
    "$$\n",
    "\\alpha_k = \\frac{\\hat{r}_k^T\\hat{r}_k}{\\hat{r}_k^T\\hat{A}\\hat{r}_k}\n",
    "$$"
   ]
  },
  {
   "cell_type": "markdown",
   "metadata": {},
   "source": [
    "leading to the iterative scheme"
   ]
  },
  {
   "cell_type": "markdown",
   "metadata": {},
   "source": [
    "$$\n",
    "\\hat{x}_{k+1}=\\hat{x}_k-\\alpha_k\\hat{r}_{k},\n",
    "$$"
   ]
  },
  {
   "cell_type": "markdown",
   "metadata": {},
   "source": [
    "## Code examples for steepest descent\n",
    "\n",
    "## Simple codes for  steepest descent and conjugate gradient using a $2\\times 2$ matrix, in c++, Python code to come"
   ]
  },
  {
   "cell_type": "markdown",
   "metadata": {},
   "source": [
    "        #include <cmath>\n",
    "        #include <iostream>\n",
    "        #include <fstream>\n",
    "        #include <iomanip>\n",
    "        #include \"vectormatrixclass.h\"\n",
    "        using namespace  std;\n",
    "        //   Main function begins here\n",
    "        int main(int  argc, char * argv[]){\n",
    "          int dim = 2;\n",
    "          Vector x(dim),xsd(dim), b(dim),x0(dim);\n",
    "          Matrix A(dim,dim);\n",
    "        \n",
    "          // Set our initial guess\n",
    "          x0(0) = x0(1) = 0;\n",
    "          // Set the matrix\n",
    "          A(0,0) =  3;    A(1,0) =  2;   A(0,1) =  2;   A(1,1) =  6;\n",
    "          b(0) = 2; b(1) = -8;\n",
    "          cout << \"The Matrix A that we are using: \" << endl;\n",
    "          A.Print();\n",
    "          cout << endl;\n",
    "          xsd = SteepestDescent(A,b,x0);\n",
    "          cout << \"The approximate solution using Steepest Descent is: \" << endl;\n",
    "          xsd.Print();\n",
    "          cout << endl;\n",
    "        }\n"
   ]
  },
  {
   "cell_type": "markdown",
   "metadata": {},
   "source": [
    "## The routine for the steepest descent method"
   ]
  },
  {
   "cell_type": "markdown",
   "metadata": {},
   "source": [
    "        Vector SteepestDescent(Matrix A, Vector b, Vector x0){\n",
    "          int IterMax, i;\n",
    "          int dim = x0.Dimension();\n",
    "          const double tolerance = 1.0e-14;\n",
    "          Vector x(dim),f(dim),z(dim);\n",
    "          double c,alpha,d;\n",
    "          IterMax = 30;\n",
    "          x = x0;\n",
    "          r = A*x-b;\n",
    "          i = 0;\n",
    "          while (i <= IterMax){\n",
    "            z = A*r;\n",
    "            c = dot(r,r);\n",
    "            alpha = c/dot(r,z);\n",
    "            x = x - alpha*r;\n",
    "            r =  A*x-b;\n",
    "            if(sqrt(dot(r,r)) < tolerance) break;\n",
    "            i++;\n",
    "          }\n",
    "          return x;\n",
    "        }\n"
   ]
  },
  {
   "cell_type": "markdown",
   "metadata": {},
   "source": [
    "## Steepest descent example"
   ]
  },
  {
   "cell_type": "code",
   "execution_count": 1,
   "metadata": {},
   "outputs": [],
   "source": [
    "%matplotlib inline\n",
    "\n",
    "import numpy as np\n",
    "import numpy.linalg as la\n",
    "\n",
    "import scipy.optimize as sopt\n",
    "\n",
    "import matplotlib.pyplot as pt\n",
    "from mpl_toolkits.mplot3d import axes3d\n",
    "\n",
    "def f(x):\n",
    "    return 0.5*x[0]**2 + 2.5*x[1]**2\n",
    "\n",
    "def df(x):\n",
    "    return np.array([x[0], 5*x[1]])\n",
    "\n",
    "fig = pt.figure()\n",
    "ax = fig.gca(projection=\"3d\")\n",
    "\n",
    "xmesh, ymesh = np.mgrid[-2:2:50j,-2:2:50j]\n",
    "fmesh = f(np.array([xmesh, ymesh]))\n",
    "ax.plot_surface(xmesh, ymesh, fmesh)"
   ]
  },
  {
   "cell_type": "markdown",
   "metadata": {},
   "source": [
    "And then as countor plot"
   ]
  },
  {
   "cell_type": "code",
   "execution_count": 2,
   "metadata": {},
   "outputs": [],
   "source": [
    "pt.axis(\"equal\")\n",
    "pt.contour(xmesh, ymesh, fmesh)\n",
    "guesses = [np.array([2, 2./5])]"
   ]
  },
  {
   "cell_type": "markdown",
   "metadata": {},
   "source": [
    "Find guesses"
   ]
  },
  {
   "cell_type": "code",
   "execution_count": 3,
   "metadata": {},
   "outputs": [],
   "source": [
    "x = guesses[-1]\n",
    "s = -df(x)"
   ]
  },
  {
   "cell_type": "markdown",
   "metadata": {},
   "source": [
    "Run it!"
   ]
  },
  {
   "cell_type": "code",
   "execution_count": 4,
   "metadata": {},
   "outputs": [],
   "source": [
    "def f1d(alpha):\n",
    "    return f(x + alpha*s)\n",
    "\n",
    "alpha_opt = sopt.golden(f1d)\n",
    "next_guess = x + alpha_opt * s\n",
    "guesses.append(next_guess)\n",
    "print(next_guess)"
   ]
  },
  {
   "cell_type": "markdown",
   "metadata": {},
   "source": [
    "What happened?"
   ]
  },
  {
   "cell_type": "code",
   "execution_count": 5,
   "metadata": {},
   "outputs": [],
   "source": [
    "pt.axis(\"equal\")\n",
    "pt.contour(xmesh, ymesh, fmesh, 50)\n",
    "it_array = np.array(guesses)\n",
    "pt.plot(it_array.T[0], it_array.T[1], \"x-\")"
   ]
  },
  {
   "cell_type": "markdown",
   "metadata": {},
   "source": [
    "## Conjugate gradient method\n",
    "In the CG method we define so-called conjugate directions and two vectors \n",
    "$\\hat{s}$ and $\\hat{t}$\n",
    "are said to be\n",
    "conjugate if"
   ]
  },
  {
   "cell_type": "markdown",
   "metadata": {},
   "source": [
    "$$\n",
    "\\hat{s}^T\\hat{A}\\hat{t}= 0.\n",
    "$$"
   ]
  },
  {
   "cell_type": "markdown",
   "metadata": {},
   "source": [
    "The philosophy of the CG method is to perform searches in various conjugate directions\n",
    "of our vectors $\\hat{x}_i$ obeying the above criterion, namely"
   ]
  },
  {
   "cell_type": "markdown",
   "metadata": {},
   "source": [
    "$$\n",
    "\\hat{x}_i^T\\hat{A}\\hat{x}_j= 0.\n",
    "$$"
   ]
  },
  {
   "cell_type": "markdown",
   "metadata": {},
   "source": [
    "Two vectors are conjugate if they are orthogonal with respect to \n",
    "this inner product. Being conjugate is a symmetric relation: if $\\hat{s}$ is conjugate to $\\hat{t}$, then $\\hat{t}$ is conjugate to $\\hat{s}$.\n",
    "\n",
    "\n",
    "\n",
    "## Conjugate gradient method\n",
    "An example is given by the eigenvectors of the matrix"
   ]
  },
  {
   "cell_type": "markdown",
   "metadata": {},
   "source": [
    "$$\n",
    "\\hat{v}_i^T\\hat{A}\\hat{v}_j= \\lambda\\hat{v}_i^T\\hat{v}_j,\n",
    "$$"
   ]
  },
  {
   "cell_type": "markdown",
   "metadata": {},
   "source": [
    "which is zero unless $i=j$.\n",
    "\n",
    "\n",
    "\n",
    "\n",
    "## Conjugate gradient method\n",
    "Assume now that we have a symmetric positive-definite matrix $\\hat{A}$ of size\n",
    "$n\\times n$. At each iteration $i+1$ we obtain the conjugate direction of a vector"
   ]
  },
  {
   "cell_type": "markdown",
   "metadata": {},
   "source": [
    "$$\n",
    "\\hat{x}_{i+1}=\\hat{x}_{i}+\\alpha_i\\hat{p}_{i}.\n",
    "$$"
   ]
  },
  {
   "cell_type": "markdown",
   "metadata": {},
   "source": [
    "We assume that $\\hat{p}_{i}$ is a sequence of $n$ mutually conjugate directions. \n",
    "Then the $\\hat{p}_{i}$  form a basis of $R^n$ and we can expand the solution \n",
    "$  \\hat{A}\\hat{x} = \\hat{b}$ in this basis, namely"
   ]
  },
  {
   "cell_type": "markdown",
   "metadata": {},
   "source": [
    "$$\n",
    "\\hat{x}  = \\sum^{n}_{i=1} \\alpha_i \\hat{p}_i.\n",
    "$$"
   ]
  },
  {
   "cell_type": "markdown",
   "metadata": {},
   "source": [
    "## Conjugate gradient method\n",
    "The coefficients are given by"
   ]
  },
  {
   "cell_type": "markdown",
   "metadata": {},
   "source": [
    "$$\n",
    "\\mathbf{A}\\mathbf{x} = \\sum^{n}_{i=1} \\alpha_i \\mathbf{A} \\mathbf{p}_i = \\mathbf{b}.\n",
    "$$"
   ]
  },
  {
   "cell_type": "markdown",
   "metadata": {},
   "source": [
    "Multiplying with $\\hat{p}_k^T$  from the left gives"
   ]
  },
  {
   "cell_type": "markdown",
   "metadata": {},
   "source": [
    "$$\n",
    "\\hat{p}_k^T \\hat{A}\\hat{x} = \\sum^{n}_{i=1} \\alpha_i\\hat{p}_k^T \\hat{A}\\hat{p}_i= \\hat{p}_k^T \\hat{b},\n",
    "$$"
   ]
  },
  {
   "cell_type": "markdown",
   "metadata": {},
   "source": [
    "and we can define the coefficients $\\alpha_k$ as"
   ]
  },
  {
   "cell_type": "markdown",
   "metadata": {},
   "source": [
    "$$\n",
    "\\alpha_k = \\frac{\\hat{p}_k^T \\hat{b}}{\\hat{p}_k^T \\hat{A} \\hat{p}_k}\n",
    "$$"
   ]
  },
  {
   "cell_type": "markdown",
   "metadata": {},
   "source": [
    "## Conjugate gradient method and iterations\n",
    "\n",
    "If we choose the conjugate vectors $\\hat{p}_k$ carefully, \n",
    "then we may not need all of them to obtain a good approximation to the solution \n",
    "$\\hat{x}$. \n",
    "We want to regard the conjugate gradient method as an iterative method. \n",
    "This will us to solve systems where $n$ is so large that the direct \n",
    "method would take too much time.\n",
    "\n",
    "We denote the initial guess for $\\hat{x}$ as $\\hat{x}_0$. \n",
    "We can assume without loss of generality that"
   ]
  },
  {
   "cell_type": "markdown",
   "metadata": {},
   "source": [
    "$$\n",
    "\\hat{x}_0=0,\n",
    "$$"
   ]
  },
  {
   "cell_type": "markdown",
   "metadata": {},
   "source": [
    "or consider the system"
   ]
  },
  {
   "cell_type": "markdown",
   "metadata": {},
   "source": [
    "$$\n",
    "\\hat{A}\\hat{z} = \\hat{b}-\\hat{A}\\hat{x}_0,\n",
    "$$"
   ]
  },
  {
   "cell_type": "markdown",
   "metadata": {},
   "source": [
    "instead.\n",
    "\n",
    "\n",
    "\n",
    "\n",
    "## Conjugate gradient method\n",
    "One can show that the solution $\\hat{x}$ is also the unique minimizer of the quadratic form"
   ]
  },
  {
   "cell_type": "markdown",
   "metadata": {},
   "source": [
    "$$\n",
    "f(\\hat{x}) = \\frac{1}{2}\\hat{x}^T\\hat{A}\\hat{x} - \\hat{x}^T \\hat{x} , \\quad \\hat{x}\\in\\mathbf{R}^n.\n",
    "$$"
   ]
  },
  {
   "cell_type": "markdown",
   "metadata": {},
   "source": [
    "This suggests taking the first basis vector $\\hat{p}_1$ \n",
    "to be the gradient of $f$ at $\\hat{x}=\\hat{x}_0$, \n",
    "which equals"
   ]
  },
  {
   "cell_type": "markdown",
   "metadata": {},
   "source": [
    "$$\n",
    "\\hat{A}\\hat{x}_0-\\hat{b},\n",
    "$$"
   ]
  },
  {
   "cell_type": "markdown",
   "metadata": {},
   "source": [
    "and \n",
    "$\\hat{x}_0=0$ it is equal $-\\hat{b}$.\n",
    "The other vectors in the basis will be conjugate to the gradient, \n",
    "hence the name conjugate gradient method.\n",
    "\n",
    "\n",
    "\n",
    "\n",
    "## Conjugate gradient method\n",
    "Let  $\\hat{r}_k$ be the residual at the $k$-th step:"
   ]
  },
  {
   "cell_type": "markdown",
   "metadata": {},
   "source": [
    "$$\n",
    "\\hat{r}_k=\\hat{b}-\\hat{A}\\hat{x}_k.\n",
    "$$"
   ]
  },
  {
   "cell_type": "markdown",
   "metadata": {},
   "source": [
    "Note that $\\hat{r}_k$ is the negative gradient of $f$ at \n",
    "$\\hat{x}=\\hat{x}_k$, \n",
    "so the gradient descent method would be to move in the direction $\\hat{r}_k$. \n",
    "Here, we insist that the directions $\\hat{p}_k$ are conjugate to each other, \n",
    "so we take the direction closest to the gradient $\\hat{r}_k$  \n",
    "under the conjugacy constraint. \n",
    "This gives the following expression"
   ]
  },
  {
   "cell_type": "markdown",
   "metadata": {},
   "source": [
    "$$\n",
    "\\hat{p}_{k+1}=\\hat{r}_k-\\frac{\\hat{p}_k^T \\hat{A}\\hat{r}_k}{\\hat{p}_k^T\\hat{A}\\hat{p}_k} \\hat{p}_k.\n",
    "$$"
   ]
  },
  {
   "cell_type": "markdown",
   "metadata": {},
   "source": [
    "## Conjugate gradient method\n",
    "We can also  compute the residual iteratively as"
   ]
  },
  {
   "cell_type": "markdown",
   "metadata": {},
   "source": [
    "$$\n",
    "\\hat{r}_{k+1}=\\hat{b}-\\hat{A}\\hat{x}_{k+1},\n",
    "$$"
   ]
  },
  {
   "cell_type": "markdown",
   "metadata": {},
   "source": [
    "which equals"
   ]
  },
  {
   "cell_type": "markdown",
   "metadata": {},
   "source": [
    "$$\n",
    "\\hat{b}-\\hat{A}(\\hat{x}_k+\\alpha_k\\hat{p}_k),\n",
    "$$"
   ]
  },
  {
   "cell_type": "markdown",
   "metadata": {},
   "source": [
    "or"
   ]
  },
  {
   "cell_type": "markdown",
   "metadata": {},
   "source": [
    "$$\n",
    "(\\hat{b}-\\hat{A}\\hat{x}_k)-\\alpha_k\\hat{A}\\hat{p}_k,\n",
    "$$"
   ]
  },
  {
   "cell_type": "markdown",
   "metadata": {},
   "source": [
    "which gives"
   ]
  },
  {
   "cell_type": "markdown",
   "metadata": {},
   "source": [
    "$$\n",
    "\\hat{r}_{k+1}=\\hat{r}_k-\\hat{A}\\hat{p}_{k},\n",
    "$$"
   ]
  },
  {
   "cell_type": "markdown",
   "metadata": {},
   "source": [
    "## Simple implementation of the Conjugate gradient algorithm"
   ]
  },
  {
   "cell_type": "markdown",
   "metadata": {},
   "source": [
    "          Vector ConjugateGradient(Matrix A, Vector b, Vector x0){\n",
    "          int dim = x0.Dimension();\n",
    "          const double tolerance = 1.0e-14;\n",
    "          Vector x(dim),r(dim),v(dim),z(dim);\n",
    "          double c,t,d;\n",
    "        \n",
    "          x = x0;\n",
    "          r = b - A*x;\n",
    "          v = r;\n",
    "          c = dot(r,r);\n",
    "          int i = 0; IterMax = dim;\n",
    "          while(i <= IterMax){\n",
    "            z = A*v;\n",
    "            t = c/dot(v,z);\n",
    "            x = x + t*v;\n",
    "            r = r - t*z;\n",
    "            d = dot(r,r);\n",
    "            if(sqrt(d) < tolerance)\n",
    "              break;\n",
    "            v = r + (d/c)*v;\n",
    "            c = d;  i++;\n",
    "          }\n",
    "          return x;\n",
    "        } \n"
   ]
  },
  {
   "cell_type": "markdown",
   "metadata": {},
   "source": [
    "## Broyden–Fletcher–Goldfarb–Shanno algorithm\n",
    "The optimization problem is to minimize $f(\\mathbf {x} )$ where $\\mathbf {x}$  is a vector in $R^{n}$, and $f$ is a differentiable scalar function. There are no constraints on the values that  $\\mathbf {x}$  can take.\n",
    "\n",
    "The algorithm begins at an initial estimate for the optimal value $\\mathbf {x}_{0}$ and proceeds iteratively to get a better estimate at each stage.\n",
    "\n",
    "The search direction $p_k$ at stage $k$ is given by the solution of the analogue of the Newton equation"
   ]
  },
  {
   "cell_type": "markdown",
   "metadata": {},
   "source": [
    "$$\n",
    "B_{k}\\mathbf {p} _{k}=-\\nabla f(\\mathbf {x}_{k}),\n",
    "$$"
   ]
  },
  {
   "cell_type": "markdown",
   "metadata": {},
   "source": [
    "where $B_{k}$ is an approximation to the Hessian matrix, which is\n",
    "updated iteratively at each stage, and $\\nabla f(\\mathbf {x} _{k})$\n",
    "is the gradient of the function\n",
    "evaluated at $x_k$. \n",
    "A line search in the direction $p_k$ is then used to\n",
    "find the next point $x_{k+1}$ by minimising"
   ]
  },
  {
   "cell_type": "markdown",
   "metadata": {},
   "source": [
    "$$\n",
    "f(\\mathbf {x}_{k}+\\alpha \\mathbf {p}_{k}),\n",
    "$$"
   ]
  },
  {
   "cell_type": "markdown",
   "metadata": {},
   "source": [
    "over the scalar $\\alpha > 0$.\n",
    "\n",
    "\n",
    "\n",
    "\n",
    "\n",
    "\n",
    "\n",
    "<!-- !split  -->\n",
    "## Revisiting our first homework\n",
    "\n",
    "We will use linear regression as a case study for the gradient descent\n",
    "methods. Linear regression is a great test case for the gradient\n",
    "descent methods discussed in the lectures since it has several\n",
    "desirable properties such as:\n",
    "\n",
    "1. An analytical solution (recall homework set 1).\n",
    "\n",
    "2. The gradient can be computed analytically.\n",
    "\n",
    "3. The cost function is convex which guarantees that gradient descent converges for small enough learning rates\n",
    "\n",
    "We revisit the example from homework set 1 where we had"
   ]
  },
  {
   "cell_type": "markdown",
   "metadata": {},
   "source": [
    "$$\n",
    "y_i = 5x_i^2 + 0.1\\xi_i, \\ i=1,\\cdots,100\n",
    "$$"
   ]
  },
  {
   "cell_type": "markdown",
   "metadata": {},
   "source": [
    "with $x_i \\in [0,1] $ chosen randomly with a uniform distribution. Additionally $\\xi_i$ represents stochastic noise chosen according to a normal distribution $\\cal {N}(0,1)$. \n",
    "The linear regression model is given by"
   ]
  },
  {
   "cell_type": "markdown",
   "metadata": {},
   "source": [
    "$$\n",
    "h_\\beta(x) = \\hat{y} = \\beta_0 + \\beta_1 x,\n",
    "$$"
   ]
  },
  {
   "cell_type": "markdown",
   "metadata": {},
   "source": [
    "such that"
   ]
  },
  {
   "cell_type": "markdown",
   "metadata": {},
   "source": [
    "$$\n",
    "\\hat{y}_i = \\beta_0 + \\beta_1 x_i.\n",
    "$$"
   ]
  },
  {
   "cell_type": "markdown",
   "metadata": {},
   "source": [
    "<!-- !split  -->\n",
    "## Gradient descent example\n",
    "\n",
    "Let $\\mathbf{y} = (y_1,\\cdots,y_n)^T$, $\\mathbf{\\hat{y}} = (\\hat{y}_1,\\cdots,\\hat{y}_n)^T$ and $\\beta = (\\beta_0, \\beta_1)^T$\n",
    "\n",
    "It is convenient to write $\\mathbf{\\hat{y}} = X\\beta$ where $X \\in \\mathbb{R}^{100 \\times 2} $ is the design matrix given by"
   ]
  },
  {
   "cell_type": "markdown",
   "metadata": {},
   "source": [
    "$$\n",
    "X \\equiv \\begin{bmatrix}\n",
    "1 &amp; x_1  \\\\\n",
    "\\vdots &amp; \\vdots  \\\\\n",
    "1 &amp; x_{100} &amp;  \\\\\n",
    "\\end{bmatrix}.\n",
    "$$"
   ]
  },
  {
   "cell_type": "markdown",
   "metadata": {},
   "source": [
    "The loss function is given by"
   ]
  },
  {
   "cell_type": "markdown",
   "metadata": {},
   "source": [
    "$$\n",
    "C(\\beta) = ||X\\beta-\\mathbf{y}||^2 = ||X\\beta||^2 - 2 \\mathbf{y}^T X\\beta + ||\\mathbf{y}||^2 = \\sum_{i=1}^{100} (\\beta_0 + \\beta_1 x_i)^2 - 2 y_i (\\beta_0 + \\beta_1 x_i) + y_i^2\n",
    "$$"
   ]
  },
  {
   "cell_type": "markdown",
   "metadata": {},
   "source": [
    "and we want to find $\\beta$ such that $C(\\beta)$ is minimized.\n",
    "\n",
    "## The derivative of the cost/loss function\n",
    "\n",
    "Computing $\\partial C(\\beta) / \\partial \\beta_0$ and $\\partial C(\\beta) / \\partial \\beta_1$ we can show  that the gradient can be written as"
   ]
  },
  {
   "cell_type": "markdown",
   "metadata": {},
   "source": [
    "$$\n",
    "\\nabla_{\\beta} C(\\beta) = (\\partial C(\\beta) / \\partial \\beta_0, \\partial C(\\beta) / \\partial \\beta_1)^T = 2\\begin{bmatrix} \\sum_{i=1}^{100} \\left(\\beta_0+\\beta_1x_i-y_i\\right) \\\\\n",
    "\\sum_{i=1}^{100}\\left( x_i (\\beta_0+\\beta_1x_i)-y_ix_i\\right) \\\\\n",
    "\\end{bmatrix} = 2X^T(X\\beta - \\mathbf{y}),\n",
    "$$"
   ]
  },
  {
   "cell_type": "markdown",
   "metadata": {},
   "source": [
    "where $X$ is the design matrix defined above.\n",
    "\n",
    "## The Hessian matrix\n",
    "The Hessian matrix of $C(\\beta)$ is given by"
   ]
  },
  {
   "cell_type": "markdown",
   "metadata": {},
   "source": [
    "$$\n",
    "\\hat{H} \\equiv \\begin{bmatrix}\n",
    "\\frac{\\partial^2 C(\\beta)}{\\partial \\beta_0^2} &amp; \\frac{\\partial^2 C(\\beta)}{\\partial \\beta_0 \\partial \\beta_1}  \\\\\n",
    "\\frac{\\partial^2 C(\\beta)}{\\partial \\beta_0 \\partial \\beta_1} &amp; \\frac{\\partial^2 C(\\beta)}{\\partial \\beta_1^2} &amp;  \\\\\n",
    "\\end{bmatrix} = 2X^T X.\n",
    "$$"
   ]
  },
  {
   "cell_type": "markdown",
   "metadata": {},
   "source": [
    "This result implies that $C(\\beta)$ is a convex function since the matrix $X^T X$ always is positive semi-definite.\n",
    "\n",
    "\n",
    "\n",
    "\n",
    "## Simple program\n",
    "\n",
    "We can now write a program that minimizes $C(\\beta)$ using the gradient descent method with a constant learning rate $\\gamma$ according to"
   ]
  },
  {
   "cell_type": "markdown",
   "metadata": {},
   "source": [
    "$$\n",
    "\\beta_{k+1} = \\beta_k - \\gamma \\nabla_\\beta C(\\beta_k), \\ k=0,1,\\cdots\n",
    "$$"
   ]
  },
  {
   "cell_type": "markdown",
   "metadata": {},
   "source": [
    "We can use the expression we computed for the gradient and let use a\n",
    "$\\beta_0$ be chosen randomly and let $\\gamma = 0.001$. Stop iterating\n",
    "when $||\\nabla_\\beta C(\\beta_k) || \\leq \\epsilon = 10^{-8}$. \n",
    "\n",
    "And finally we can compare our solution for $\\beta$ with the analytic result given by \n",
    "$\\beta= (X^TX)^{-1} X^T \\mathbf{y}$."
   ]
  },
  {
   "cell_type": "code",
   "execution_count": 1,
   "metadata": {},
   "outputs": [
    {
     "name": "stdout",
     "output_type": "stream",
     "text": [
      "[-0.81411189  4.9280671 ]\n"
     ]
    }
   ],
   "source": [
    "import numpy as np\n",
    "\n",
    "\"\"\"\n",
    "The following setup is just a suggestion, feel free to write it the way you like.\n",
    "\"\"\"\n",
    "\n",
    "#Setup problem described in the exercise\n",
    "N  = 100 #Nr of datapoints\n",
    "M  = 2 #Nr of features\n",
    "x  = np.random.rand(N) #Uniformly generated x-values in [0,1]\n",
    "y  = 5*x**2 + 0.1*np.random.randn(N)\n",
    "X  = np.c_[np.ones(N),x] #Construct design matrix\n",
    "\n",
    "#Compute beta according to normal equations to compare with GD solution\n",
    "Xt_X_inv = np.linalg.inv(np.dot(X.T,X))\n",
    "Xt_y     = np.dot(X.transpose(),y)\n",
    "beta_NE = np.dot(Xt_X_inv,Xt_y)\n",
    "print(beta_NE)"
   ]
  },
  {
   "cell_type": "markdown",
   "metadata": {},
   "source": [
    "## Gradient Descent Example\n",
    "\n",
    "Another simple example is here"
   ]
  },
  {
   "cell_type": "code",
<<<<<<< Updated upstream
<<<<<<< Updated upstream
<<<<<<< Updated upstream
<<<<<<< Updated upstream
<<<<<<< Updated upstream
<<<<<<< Updated upstream
<<<<<<< Updated upstream
   "execution_count": 6,
=======
   "execution_count": 3,
>>>>>>> Stashed changes
=======
   "execution_count": 3,
>>>>>>> Stashed changes
=======
   "execution_count": 3,
>>>>>>> Stashed changes
=======
   "execution_count": 3,
>>>>>>> Stashed changes
=======
   "execution_count": 3,
>>>>>>> Stashed changes
=======
   "execution_count": 3,
>>>>>>> Stashed changes
=======
   "execution_count": 3,
>>>>>>> Stashed changes
   "metadata": {},
   "outputs": [
    {
     "name": "stdout",
     "output_type": "stream",
     "text": [
<<<<<<< Updated upstream
<<<<<<< Updated upstream
<<<<<<< Updated upstream
<<<<<<< Updated upstream
<<<<<<< Updated upstream
<<<<<<< Updated upstream
<<<<<<< Updated upstream
      "[[4.08505172]\n",
      " [2.87082446]]\n",
      "[[4.08505172]\n",
      " [2.87082446]]\n"
=======
=======
>>>>>>> Stashed changes
=======
>>>>>>> Stashed changes
=======
>>>>>>> Stashed changes
=======
>>>>>>> Stashed changes
=======
>>>>>>> Stashed changes
=======
>>>>>>> Stashed changes
      "[[3.42811753]\n",
      " [3.53140656]]\n",
      "[[3.42811743]\n",
      " [3.53140664]]\n"
<<<<<<< Updated upstream
<<<<<<< Updated upstream
<<<<<<< Updated upstream
<<<<<<< Updated upstream
<<<<<<< Updated upstream
<<<<<<< Updated upstream
>>>>>>> Stashed changes
=======
>>>>>>> Stashed changes
=======
>>>>>>> Stashed changes
=======
>>>>>>> Stashed changes
=======
>>>>>>> Stashed changes
=======
>>>>>>> Stashed changes
=======
>>>>>>> Stashed changes
     ]
    },
    {
     "data": {
<<<<<<< Updated upstream
<<<<<<< Updated upstream
<<<<<<< Updated upstream
<<<<<<< Updated upstream
<<<<<<< Updated upstream
<<<<<<< Updated upstream
<<<<<<< Updated upstream
      "image/png": "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\n",
=======
      "image/png": "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\n",
>>>>>>> Stashed changes
=======
      "image/png": "iVBORw0KGgoAAAANSUhEUgAAAYwAAAEWCAYAAAB1xKBvAAAABHNCSVQICAgIfAhkiAAAAAlwSFlzAAALEgAACxIB0t1+/AAAADl0RVh0U29mdHdhcmUAbWF0cGxvdGxpYiB2ZXJzaW9uIDMuMC4yLCBodHRwOi8vbWF0cGxvdGxpYi5vcmcvOIA7rQAAIABJREFUeJzt3XmcVmX9//HXh2EGGFDEYRGVGdQMFcSNci/8ZmlG0J5+0a9mxlf9VuZSfosWM/lWlmn+KhPNdcg0sxwNK80BUUQWFxbFBWQAQVZZh2WY+fz+OGfw5ua+Z87Mfe5t5v18PO4H95z1Ouc+XJ9zXdc512XujoiISGu65DsBIiJSHBQwREQkEgUMERGJRAFDREQiUcAQEZFIFDBERCQSBQzJOTNbYmZnht+/Z2Z35ikdI81seT723VmY2T1mdkO+0yHxUMCQPZjZuWb2gpltNbPV4ffLzcyysT93/z93vyTT7ZjZYDNzM+saR7ryTRmtFCIFDNnNzK4Gfg38AjgAGABcCpwKlKVZpyRnCRSRvFLAEADMrDdwPXC5uz/s7ps98JK7j3X3HeFy95jZbWY22cy2AmeY2afM7CUz22Rmy8zsuqRtX2BmdWa2zszGJ827zsyqE/4+ycymm9kGM3vFzEYmzJtiZj8xs+fMbLOZ/cvM+oaznwn/3WBmW8zs5BTH2CNM/3tm9irwoaT5B5rZX8xsjZm9bWbfTJj3YTObHR7jKjP7VcK80xLSvMzMLgqndzOzX5rZ0nCd35tZj3DeSDNbbmZXhyW5lWb2lXDeOGAs8J3wWB5L85sdYWZPmtl6M3vdzL4UTi8zs5fN7Bvh3yXhOfthwrE8H6Z3pZn9xszKErbrYanyzfA8/8TMDgvX2WRmDzUvn3Ac3zOztWF149hU6Q2XHxWmbUN4zoanW1YKkLvrow/A2cAuoGsry90DbCQodXQBugMjgaPDv4cDq4DPhMsfBWwBPgJ0A34V7ufMcP51QHX4/SBgHXBOuK2Ph3/3C+dPARYBHwR6hH//LJw3GPCW0g/8DJgG7A8MAuYDy8N5XYA5wA8JSlOHAouBs8L5zwMXhN97ASeF3yuBzcB5QClQARwbzrsFqAn3tw/wGPDTcN7I8DxcH653DlAP9Ek4zze0cCw9gWXAV4CuwPHAWmBoOH8Y8B5wJDAemAGUhPNOAE4K1xsMvAZ8K2HbHqZ7X2AosAP4d3hOegOvAhcmHcevwt/3o8BWYEjycYRpXA2cCJQAFwJLgG75vv71ifZRCUOa9QXWuvuu5gkJd83bzOwjCcs+6u7PuXuTu2939ynuPi/8ey7wAEHGAfAF4HF3f8aDUsoPgKY0aTgfmOzuk8NtPQnMJshMm93t7m+4+zbgIeDYNhzjl4AJ7r7e3ZcBtybM+xBBYLre3Xe6+2LgDuDccH4D8AEz6+vuW9x9Rjh9LPCUuz/g7g3uvs7dXw7bfL4GXBnubzPwfwnba97m9eF6kwkC65CIxzIKWOLud7v7Lnd/EfgLwfnG3ecDNwB/Ba4hCHaN4bw57j4jXG8JcDvv/17Nfu7um9x9AUFg/Ze7L3b3jcATwHFJy//A3Xe4+1Tg7+G5TvY14HZ3f8HdG939XoJgdFLEY5Y8U8CQZuuAvomNxu5+irvvF85LvFaWJa5oZieaWW1YlbORoN2juarowMTl3X1ruL1UqoAvhkFqg5ltAE4DBiYs827C93qCu/2o9kgLUJe07wOT9v09gnYcgK8SlGwWmtksMxsVTh9EUOpJ1g8oB+YkbO8f4fRm6xIDdBuPpwo4MSm9YwnanprdS1CCmOzubzZPNLMPmtnjZvaumW0iCGR92dOqhO/bUvydmM73wt+1WR3BuU6V5quT0jwozbJSgBQwpNnzBHd7YyIsm9zF8R8JqjAGuXtv4PdA81NVKwkyBQDMrJyg2iaVZcD97r5fwqenu/+sHWlKZY+0EFQnJe777aR97+Pu5wC4+5vufh7QH/g58LCZNVcLHZZiX2sJMtahCdvr7e5RA0Jrx7MMmJqU3l7uflnCMr8DHgfOMrPTEqbfBiwEDnf3fQkCYyZPwfUJz0WzSmBFmjRPSEpzubs/kMG+JYcUMAQAd98A/Bj4nZl9wcx6mVkXMzuWoL68JfsA6919u5l9GPjPhHkPA6PChuEygjr7dNddNfBpMzsrbKjtHjaqHhzhENYQVHUd2sIyDwHfNbM+4Ta/kTBvJrDJzK4NG8dLzGyYmX0IwMzON7N+7t4EbAjXaQQmAWea2ZfMrKuZVZjZseFydwA3m1n/cBsHmdlZEY4Fgjv6lo7lceCDFjxQUBp+PmRmR4b7uoCgreIi4JvAvWbWHKz2ATYBW8zsCOCyvTffZj8OG9tPJ6gu+3OKZe4ALg1LpGZmPS14YGKfGPYvOaCAIbu5+43AVcB3CBonVxHUb18LTG9h1cuB681sM0Gj8UMJ21wA/A9BKWQlQUNsypflwnaFMQR3vGsI7ki/TYTr1N3rgQnAc2F1R6p68R8TVJe8DfwLuD9h/Ubg0wRtIm8TlBDuJGjkheChgAVmtoXg0eNzw/abpQRtLFcD64GXgWPCda4F3gJmhFU/TxG9jeIPwFHhsfwtxfFuBj5B0CaygqCq7udANzOrJGhw/6+wveWPBG1BN4erX0MQ1DcTZOIPRkxTOu8S/K4rCALope6+MEWaZxO0Y/wmXP4tgoAmRcLcNYCSiLSPBY89V7t7lFKgFDmVMEREJBIFDBERiURVUiIiEolKGCIiEklR9ezZt29fHzx4cL6TISJSVObMmbPW3fu1vmTLiipgDB48mNmzZ+c7GSIiRcXM6lpfqnWqkhIRkUgUMEREJBIFDBERiUQBQ0REIlHAEBGRSBQwREQkEgUMERGJRAFDREQiUcAQEZFIFDBERCSSrAcMM7vLzFab2fwU864xMzez5AHoRUSkwOSihHEPwfCWezCzQcDHgaU5SIOIiGQo6wHD3Z8hGOs42c0EY0drQA4RkSKQlzYMMxsNvOPur0RYdpyZzTaz2WvWrMlB6kREJJWcBwwzKwfGAz+Msry7T3T3Ee4+ol+/jLtzFxGRdspHCeMw4BDgFTNbAhwMvGhmB+QhLSIiElHOB1By93lA/+a/w6Axwt3X5jotIiISXS4eq30AeB4YYmbLzeyr2d6niIjEL+slDHc/r5X5g7OdBhERyZze9BYRkUgUMEREJBIFDBERiUQBQ0REIlHAEBGRSBQwREQkEgUMERGJRAFDREQiUcAQEZFIFDBERCQSBQwREYlEAUNERCJRwBARkUgUMEREJBIFDBERiUQBQ0REIlHAEBGRSBQwREQkEgUMERGJRAFDREQiyXrAMLO7zGy1mc1PmPYLM1toZnPN7K9mtl+20yEiIpnJRQnjHuDspGlPAsPcfTjwBvDdHKRDREQykPWA4e7PAOuTpv3L3XeFf84ADs52OkREJDOF0IZxMfBEuplmNs7MZpvZ7DVr1uQwWSIioUmTYPBg6NIl+HfSpHynKC/yGjDMbDywC0h79t19oruPcPcR/fr1y13iREQgCA7jxkFdHbgH/44b1ymDRt4ChpldCIwCxrq75ysdIiItGj8e6uv3nFZfH0zvZLrmY6dmdjZwLfBRd69vbXkRkbxZurRt0zuwXDxW+wDwPDDEzJab2VeB3wD7AE+a2ctm9vtsp0NEpF0qK9s2vQPLegnD3c9LMfkP2d6viEgsJkwI2iwSq6XKy4PpnUwhPCUlIlK4xo6FiROhqgrMgn8nTgymF7KEJ7uGw9FxbFIBQ0SkNWPHwpIl0NQU/FsIwaKlR32TnuwqhbI4dpmXRm8REclAc0BoriZrftQXgmCW6smuGKiEISJSbFp71DdLT3ApYIiIFJvWHvXN0hNcChgiIoUkSjckrT3qO2FC8CRXzBQwREQKRdRuSFIFhMRHfZOe7GqAnXEkTwFDRKRQpGubOP/8PUsbUR71TXiyay7MiyN5VkzdOI0YMcJnz56d72SIiGRHly5BySKd8vJ2vQNiZnPcfUSGqVMJQ0Rkt3x3Y95aY3WeOz1UwBARgcLoxjxKY3UeOz1UwBARgex2Yx615JLYNpFOly55G4tDAUNEBLLXjfmkSXDxxXuWXC6+uOWgsWQJVFenLm00NuZtACcFDBERyF435pdeCjuTnmrduROuuKLl9ZpLGyUle8/LU1uGAoaICLT+bkN7TJoEW7aknrduXevrjx0bdHiYSsSSz/YN2yMtF4UChogIZKcb8zhKAe0o+ax5bS33XPIsnztwBhV9GjNPQ0gBQ0SkWdzdmLdUCqioiLaNiCWf159YzC8+NYXTe7/CAUf14St/OI1Zqyu5aFh8764pYIiItKa972e01P7x619H20aakk/jF8/l2d/N5TsfnsKQsrc54pxD+c7kkWxtKOOHI6fx4h8XsnTnQH4776PR9hOB3vQWEWlJ8tgTEP2N61TrmgUN4b/7XZuTsuXdLTx583xqHmng8UVHstb7UspOzqiYy5gzt/LpKw9n0IkH7rVeXG964+5F8znhhBNcRCSnqqrcgwdi9/xUVUVbv7o6WNYs+Le6uk27f2fOSr997FQ/p99M78Y2B/f97D0fO/hZf+jK6b5x2cZW9wfM9hjy4KyXMMzsLmAUsNrdh4XT9gceBAYDS4Avuft7rW1LJQzpkCZNChpHly4NqjAmTCiMIUAlkK5/J7P0TzBlwJuc+X99k0dvW0HNjH7M2joUgEO71jFm+NuMvmA/Th03lNLy0r1XTlMa6ldf//Ya90MzTVsuAsZHgC3AfQkB40Zgvbv/zMz+F+jj7te2ti0FDOlwMqnukNwYPDh42S5ZVVXQMB6DhvoGpt02n0fv30TNgkNZsmsQACf1msfoU9Yx+vKDOerTh2FdrF1pPQZ2vuLeLdN05qQNw8wGA48nBIzXgZHuvtLMBgJT3H1Ia9tRwJAOJweZkWQoS0F949KNPPHLBdTUOJPrhrGR3nRnGx8fMJfRZ+1k1NVDOGB4/7ZtNE1paAQw272VaNO6rpluoJ0GuPtKgDBopD0rZjYOGAdQmaVhB0ViF7WaKVvdUUh8mn+3GKoN655bTs3Ni9j8j2mM3XoHX2IZp3IQIwd8hQEXf4ozvzWMnv1PbH9aKytT3oDENYBSThqrCdoq5if8vSFp/ntRtqNGbykK1dXu5eV7NpCWl6du7My0QVUKWlNjk8+6d4H/4PRaP6b7Qgf386j2erpHuz7aKtW1Z+aDgzbkjPPyfL2HsSqsiiL8d3We0iESv7b0epqN7igkr7Zv2M4T18/isqHPcHDpu3zowqOYMO10enfbxi9HTeHe/tfSg6TuOurr4cILM+9QcOzYYDuWUPvkzv4Q8S3BluWrSqoGuBD4Wfjvo3lKh0j82lLNFGN1h+TP2tfXMfmm16iZXMI/3xnGFj5ET7Zw9kHzGH3OIs65+kj6Djk2WNjeSb2R5l5oIbPff/LkvdoxLKaXtHPxlNQDwEigL7AK+BHwN+AhoBJYCnzR3de3ti01ektRUEN2p/Dmk0uouXUJNdP249mNR9NECQd2WcnoI95k9Jd7cMY3j6b7ft33XrFr1yA4pJPpdZKi4btoGr3d/bw0sz6W7X2L5MWECamfqlE1U1Fr3NnIC3e/Ss3d66h5aRCv7TwMGMwx3V9n/OnTGH1Jf044/0isy8BWNtRKZ4CZPvCQpuE7DvmqkhLpuFTN1GHUr63nyV/No+bhnTz+1hGs9qPpSgMj95/LZWdMZfSVh1F16hCg1bcC3ldV1XKG3t6nQZufzKurC9owEkoZDrG8Yai+pEREErw7dzWP3/Q6Nf8s48lVw9lOD3qzkXOq5jNmjHH21UPpXdm7/TtI9V5Hs/a+35Guzyp3qKqiX11dLG96q4QhIp2aNzmvPraIt75/Dx9ecBcD/F3OpJJ5dhXjjtnOmAv25fTLhlFafmo8O0wsgdbVBSPqNTYGJY/2lkRTPZkXBguWLGGtWattxFGohCEinc6u7bt49vfzefS+jdTMG8yJu57lDsbRk/czXTfDmjPdTKoUc9FXWLr+riDWEobGwxCRTmHT8k38+arnOf+Q5+hfvpkzrjyW2146kSP6rOb28qv3CBZAECwgKAWMG9e+dySaq4rq6oIMva4OLrggqC5qHlejvWNtJGqp3aOujkqoavtGU4jj7b9cffSmt+RUht1SS/4tnfGO//bLU/wTFbO8lB0O7hW21i88bJo/8p3nffPKzcGCZqnfuE/19n1brot0b/I3f8rK3EtLM3/rO9Ub3gmfE8A9hjw470GgLR8FDMmZtnTvIQWjqbHJX/zja/6jj9b6cT1e3f3THV662K8ZUevTfvuK79qxa+8VW8vYwy422nxdRAlEcXUN0xzIFDAUMCTH8tXHU0cq1eToWLZv3O7/uGGWXz5sih9c8k6Qt9Pop+37st94Tq0vnLwoWlpbuEPf/du39bqIEojSBaf2SrFPBQyRbEp3Z5jJf+TWdKRSTZaPZd1b6/3+S5/1Lx483fdhY7B5tvhnBz7vd391mq9+dU370tyc2Sb//s1pb+t1ESUQxX1jkmKfx0OjK2CIZEk+huVs6W602EobWSihvfXvJf6rMbU+cr8XvYQGB/cDurzr446Y6o//aKbXr6uPLflpf7/2HFdLgSiuNoxW0t8XFrsChkiWZHKH3N51W6vvLqbSRiYltDCzazLz7fsP9D99YLwP7fbG7k0c3f11H39qrb9w13xvbGjM/rEkpy2TklOqQJSDqjtiGtM770GgLR8FDMmp9v5Hbu/ddZT67mIZJ6Od52DH7Xd5Q+meY0VsodxvKL/Bb/nsFF9UW5eT5LeoCNuZ4goYenFPJG7pXqIyg6YWuvRpqcuIqNvIp8QX1PbfHzZtgoaG9+en6fZi9YI1PP7LhdT8o4xb3/0ilSzbe9vq6TcjZjbH3Udkuh11DSISt3S9hbbWqVxylxHptl2IkoPdunXBvz17BtMS3nD2Jmfh5MXU/HYZNc/tz/Obh+GcTmXJcgaxPPX2NWRtQdCb3iJxy2QUvbFjgzvp6uriGokvVV9GEEy7/352LXyLZ9YP45oRUxjSfQlHffow/vcfI9nR2JXrzniGl/70Okt2HoRVpQmILQXKON6UlmjiqNfK1UdtGJ1UEdYZx5LmYjruFhrs13Qd4PvbuuChILb72X1n+u/OnerLZq7YezttbVTO5uO7xXT+W4EavaVT6EjvJnRkLTTYN2J+waHT/OFrpvumdza1vq04ut5oXq+9GX4Hu+7iChhq9JbCpuFOC5o3OXMffoNFP76fz7w6IWUdtw+qxJZmZwS4FntpLS/fe9TDqGNNdLDrLq5Gb7VhSGFL19ipRtDcSG4fuPxyvLIKty6sLzuAK7r+hmO/PIQvvHo9j5R8ib2y7vJy7Kf/l730pWvbKCnZu02lvj5oa4lC111KChhS2NJlCIX6tFBHkqJrbr/tNmzZUgxn/4ZV3Ojfofb0H7Jy3jq+sOtBrLo6uAs3C/5tz+hxbZHuAYN042ZHzfB13aWU14BhZlea2QIzm29mD5hZ93ymRwpQJk8cSUYarr52r7t0S1qmO9sZufQ+BgzrF0xofsqrqSn4N9vjmI8dGwSl5CBVVZV6+agZvq67lPIWMMzsIOCbwAh3HwaUAOfmKz1SoNJlCNnOiDqCNj5u2rSriZl3L+D7p01heI83KFm1Itp+8l1NkypIZZrh67pLKd8v7nUFephZA1AORLxCpVMZO7bT/0dts+QX6ZpHjYM9zuX2Ddv59y3zqHlwG4+98UFWNg2lC42c3nseW6w/+25b1fq+CrGaJvElyPYOjarrbi95fUrKzK4AJgDbgH+5+16/jpmNA8YBVFZWnlCX7g1YEXlfC0/5rHliNn+/aSE1k7vyz5VHU09PerGZTx48n9GjmvjkVUdScfj+0boqacuTR5I3cT0llbd3KoA+wNNAP6AU+Btwfkvr6D0MyZtie4krzYt0jZh3YZeD+8El7/jlw6b4P26Y5ds3bk+9neTjvuyy/J+HYvstCgAxvYeRzyqpM4G33X0NgJk9ApwCVOcxTSJ7i1i9U0h80CAsRdvCu3YAP/jINEZ/bQDHnXcE1uXAljdUaNUyRfhbdCR5q5IysxOBu4APEVRJ3UMQBf9funX04p7kRZG8xLXl3S08efN8ah5poOytBfyKq+nJ+9VJTd160OUPdxR3xlokv0WhKfoX99z9BeBh4EVgXpiWiflKj0haBfwS14oX32Xi+c8wasBM+g7syuduPIm/LTqarYOPZu7Z36bpoEHBUz4VFXTpVQ4XXFDcHfQV8G/RGahrEJHWFNBdrTc58//6JjW/X8Gjz/dj1tahABzSdSljjn6b0efvy2mXDqO0vPT9lVI1XhdrY3UB/RbFJGclDDN7ysyOyXRHIkWrLc/0Z6Gr7Yb6Bp6+6SW+ddxUDuu2jOFf+CDff2okXXAmfHwKS791E4sOPJ2bXz6DM279LKV/fWjPDaTqerwt3WQUEr1Ql1+ttYoDxxM8zXQ3MDCOlvb2fvSUVCdTSE/DRElLjD2cbqjb4H/65nN+XtWz3psNDu7dqfdR/V/wiRdM9RUvvRt9n5mMr12ICum6KBLkurdaM/s88EPgEeBGd9+WnRCWnqqkOpFirEbJsLqk7rnlPHbLIh59uhdT1g9nF6X0szWM+sBCRn++jI9fOYye/Xu2fZ+qxun04qqSihQwzMyAocBpwA3AduC77n5/pgloCwWMTiRdJldRAWvX5jw5kbRxLG9vcl7840IenbiKmlkDeWX7EACOKFvE6GOXMebiCk78ylGUlJVkts9iDL4Sq5yN6W1mzwKHAguAGcBFwELgCjM73d3HZZoIkb2ke+pl3bogAyzEjC7CWN47Nu3g6VvmBl1xLDycd5qOpAsf5NR95/OLj01h9Deq+OBZhwGHxbbPWLrJEIFIbRjDCEsiKea9Fke9WNSP2jA6kRZGcPOqqnynLrU07Qmbfnm73/u1af75g6Z7LzY5uPdks3/uwOf93q9N8zUL17a/Xj7VPsvK3Csqcl/Hr7aFgkUhDNEKHBpHIqJ+FDA6kerq9AEjF421mWTgVVXeZOYbegzwH/eYsLsrjoFdVvp/HznVJ/94pm97b9ue62TSWJ6Y1ooK99LS9m+rvTrYkKYdTUEEjFx/FDCKWHsy4IqK1AEj2yWMdmR+u3bs8ud+P9evPbHWjyx7a/dqw7sv9O+fVuuz7l3gjQ2NqVduaVzqtmrvtjItHcR5DBI7BQwpHu29+8zXXWvEzG/rmq3+t+/O8IsPf8b722oH967s9I/1meO3fn6Kvz1tWbT9xfnYa3u2Fcd57miP7nYwChhSPDK5+8xHvXgLmd/KV1b5Hf/1jH96wAzvTr2De282+HlVz/oD33jO31uyoW37qq52Lylp//lJ1p5zHUfpQCWMgqaAIYUhSoZebHefaTK/FTbQjcYgHyxZ5t88Zoo/deMc37F5R/v2k+rOPtOSVHtKC3H8PmrDKGgKGB1RsT1lEjWTKLK7z1133+e7SrvvkdYtlPv3y37mP/lYrb/y59e9qbEp8x2lOy8lJe3/7aur92z7qahofVtx/T7Fdv12IgoYHU0x3qFFzWiK4Ng2LtvoD1053c8/ZJr3sfV+HtW+hEHeiPmm8gG+7vrfRNtQWzLNuEtexdZWJDmjgNHRFNlduLu3LcMrwLvPpTPe8d9+eYqfVTHLS9kR3JDbWr/wsGn+l28/75tXbm7bBlNlvGbBKHWpxP2bF1tbkeRMXAFD3ZsXijZ2K1EQiqyPIm9yXn7wdWomvsujLwzgpW1HAnB46duMOaaO0Rf24eRLhtK1ezsHokx3Pszg/vv3frM67i47ivEakpwo+gGUJEliVw5RpheC9nQ1nYXuv1uyc8tO/vXTOXx9+FSqylZw/H8ewY+nfITyrg38/JNTeO3vi3lj5yH8YtZITv/6Me0PFpC+OxP3oFuO5GOHIDhUVQWZelVVZv07FeM1JMUljmJKrj4dukoqH/XIcVRDtGUbOTrGdW+t9+rLnvUvHjzd92FjsBu2+GcGPu93feUZXzV/daz7262l7kyajzWbx662CEkDtWF0QLmsR447c4mS9iy20yyqrfNfjan1kfu96CU0OLgf0OVd/9oRU/2xH7zg9evqM95Hq6qr07frxPmuRWtpUFuEJFHAkMzEmXlHDT4xPhXU2NDoM+6c5989udaHdntj96aGdXvDv3dKrb9w1/z0XXFk02WX7X2c6d61yPSJKAUGiUgBQwLtzTjifKQzavDJMEjVr6v3mu+/4JcMmeoDuqwKbtxp8DP2e9Fv/swUX1Rb1/a0Z0Oq3yQfAVok1CECBrAf8DDB+BqvASe3tLwCRpJMMo44M7Cowacd6V01f7X/4aJnfMwBM7wHWx3c92Gjf2nQcz7p8md9/eL32p7efIgzky/GR7AlrzpKwLgXuCT8Xgbs19LyChhJMn3uPh8ZWCsloqbGJn/t74v8Z2fX+in7vLK7K45BJcv9f46e4v/66ez2d8WRDW1t9I+jGqnYulqRvCv6gAHsC7xNmsGZUn0UMJJkmnEkj6PQ3kF3Mgw+DdsafOqtL/vVJ9T64aWLd2/i+B6v+nUja/2lPy2MpyuOuBV4b7oizTpCwDgWmAncA7wE3An0TLHcOGA2MLuysjLm01jk4uwDKNOMr413z5ve2eQPXzPd/+vQaV5hax3cS9nhZ1XM8t+dO9WXzngn431kXb4ybrVhSBt1hIAxAtgFnBj+/WvgJy2toxJGkrgyjhirlFqyfNYKv+28qf7JfjO9jO0O7n1svZ9/yDT/81XTfeOyjdk/1jjls2qo0IKnFLSOEDAOAJYk/H068PeW1lHASOGyy95/xr+kJH2/RS3JUqN1U2OTv/zgQr/+P2p9RPmC3asc1nWJX3VCrU+55SVv2NYQLY2FWA1TiGkSSaHoA0ZwDEwDhoTfrwN+0dLyChhJcl3CiLDcjs07/Mmfz/FvDJ/iVSXLgrhDo5/ca67/9KxaX/Dom+1rjyjEht5CLPWIpNBRAsaxYfvEXOBvQJ+WllfASJLrNow0mXaTmf/x68/5uZXPeW82OLj3YKuPPmCG33nhM77ylVWZHWeiHh4ZAAARm0lEQVTco9LFSVVDUgQ6RMBo60cBI0mcd91RqrbSBKglVDq497fV/tUPPuOPfm+Gb12zNePDc/fsjEqXbj/K+KWDUsCQnJYwGhsa/a1xP/cdXbrtsVw93f2Bw8b79Nvn+q4du2I9PHfPzqh07ns/UlxWlr1gJJJnChiS9TaMxoMH+d+vm+njjpjqA7usdHD/T+7zlTbQmzDf2f+g7Geq2Wi7aKnUUkjVXSIxiStgaDyMYjZ2bDzjKaQbx2H5cj513Yf448LjOHXg29z3389y6xuf4oCmFZg3UbpqefvGbmjLmBjZGONh/Pg9By1KJ915EemkMhgtRgrC2LHtH3An1NBvIKWrV+w1/b3S/jzxw9mc8c2j6bbvyRntY7fkUebq6oK/IfVxTJiQelS6lgZpak3UQKCBh0T2oBJGJ9S4s5HnbpvLdz48hSO6LebC1TeylT1HzvPyciruvomzvz+Cbvt2i2/nV1yx9919fX1w159KXKWoRFECQaZBSaQDUsDoJLau3spfr53BVw6fxgHd3+O0y4dzy6xTqOz1Hqd84WC2/ejne2TKlmmmnMqkSbBuXep5Ld31jx0bjBHe1BT8m2m6Ug0tW1oKFRXxBSWRDsiC9pDiMGLECJ89e3a+k1E0Vr68isd++To1T3bnqdXD2UF39rMNnFO5gNFjjLOvHkrvyt65S9DgwUEVVCpVVUEwyJVJk4JSzdKlQYljwgQFCOmwzGyOu4/IeDtFFzCuvFL/0dPwJmf+X9+k5vcrqHm+LzO3DgNgcNdljBm2mDEX7Mtplw6jtLw0Pwns0iV4/iiVigpYv16/qUgWdM6AceihPnvVqr0bQDtx9UFDfQPTbptPTfUmauYfwtu7gvr5D/ecz+iT1zLm8oMYOuYDWBfLc0ppuYSRqJP/piJx65wBo1s3n71z594zcl2dkWcbl27kHzctoOZRZ/LSoWzw/ejGds7sP5cxZ21n1FVDGHjsgHwnc2/JT0hB0GaQ6hrsZL+pSDZ1zoBh5ilbMMyCBtEOrO655Tx2yyJqnu7FlPVH00AZfW0tow57jTFfKOPjVw6jZ/+e+U5m6yZNCp6UStf43awT/KYiuRJXwCiup6TKylJPb+/z8m15gSzOdSPwJmdO9Wv86KNTOK58IYNPO5hvPPxRlm7pw5Ufns6zv5vLu9v7cPebp/OZn55YHMGi2bZtrS+jdyBECk8cr4vn6nPCIYfE1510Jt1qZKlb6+0bt/sTP5nllx411Q/qssLBvQu7/PR9X/ZffKrWF05elNH2Y9eeDvvS9Q2lfpxEsoZO25dUXL2KZtJxX4wD56x9Y53f99/T/PMHTfdebHJw78lm/9yBz/s9l0zz1a+u2XOFQulVtb1BM13fUM39Q6mnWJHYdd6AEZdMOrVrad0IGfqbTy3xm0bX+o97TPAlVHoj5ks52O888Pv+9+tm+rb3tqXebx7G3k6rvUFTo9SJ5JwCRqayUcKoqEiZoTfec59Pv32uX3tirR9Z9paD+3lUez3d25b5Z5rZxlmV1t6Aq1HqRHJOASNT2WjDqKhImYku5WAH967s9I/1meO//twU3zngoLZn/pl29R3n3X0m2yqUajWRTkIBIw6ZZFwp1m1Kk6E3Egxhun7xe++v357MP9MMP86xJVRSECkaChgFoKmxyRc8+qb/3ydq/aRec/1tKqNn6C1Va6ULYplm0nG3H6ikIFIUFDDypGFbg9fe/JJfeXytH9Z1ye48d0T5Av/LUeO9sSxiu0SqzL+szL20tOX1My0VqVQg0ul0mIABlAAvAY+3tmykgJGFu95N72zyh66c7ucfMs372Pogb2e7f7LfTL/tvKm+fNaK9u0/edk0bSCxPkGkUoFIpxNXwMh71yBmdhUwAtjX3Ue1tOyIbt18dkND+h5NU/VV1M6O7Ja9sILHbn6Tmqd6UrvuaHbSjf1tPaMOeZXRnyvhE1cOY58D92nTNluVrjdXdZMhIhnoEH1JmdnBwL3ABOCqVgNGYl9SqQJBut5QI3Rk503Oyw++Ts3Ed6l5YQAvbjsSgA+ULmHM8CWMuagPJ18ylK7dsziqbQbpFxFJp6MEjIeBnwL7ANekChhmNg4YB3ACnLBH54PJGWkb79B3btnJlP83j5oHtlDz6gdY1ngQRhMn7zOf0aeuZ8w3Khly9iG56xo8xhKSiEizuAJGFm+XW2Zmo4DV7j7HzEamW87dJwITIShh7DEzeVjPysrUd+gJHdmtX/QeT9z0KjWPG08sG8ZmTqAH9XzigHlcd/ZiRl1zBP2HDm/3cWWkOShogCgRKUD57K32VGC0mS0B/gT8h5lVt2kLyT2aphqrubycVedfxS2fncoZfV6i/wf24fzbTmXqOx/gy0Ne5rEfzGTdOuNvK0/k4rtPp//QfhkcUkQt9XQb9/jV7UmDiEgqcbScZ/oBRhLlKamIj6s2VVZ6E+bruw3wb5f8cvcqQ7u94d89udZn3DnPGxsa2/SUQfI+ivrR1kJIg4jkDB3lsVpvS8AoK0ubSe+4/S7f2vsAbwo78juPai+hwUfu96Lf/Jkp/ta/l2Ryvt9XaC/PtUchpEFEciaugJH3x2rbYsSIET579vvN3qsXrOHvNy1k/V+e5tJNP6cn7w/Ms6trN7bfeCu9rhwXbyIyfZIpH4/OTpq0Z7tIunG19fiuSIfUOUfcAxZOXsyN50zh1H3ncsCwCi6++3S+vOmOPYIFQNddO+h11X/HXz+f3NDe2vRk6UaSy9YIc81PXtXVBYGqri4IDLlMg4h0CEUVMOa/uIMjP3Uo1z4xkpHb/8n6bgfSRBcO4p30K9XVBRlmXEEj0ww/TcM8EyZklq50xo/f8zFdCAJHctDIZhpEpEMoqoDRrUsjv/3yVNZe9xsmlF7HfjtWYTitviVRXx9knHHINMMfOzZ4r6KqKsi0q6qy+55FupKPe+7SICIdQnG2YaRrR2hJnPXzyW0ChfyuhN4eF+n0Om0bBhC9vSBRnPXzuXpXojVR3qXIdRWYiHRYxRkw0mX+VVVQXd05MshUjdmp2mpyXQUmIh1WcQaMlu6aO0sGmaoxO11bTaGUiESkqBVnGwYUVztCNqgrdBGJqOg7H8zY2LGdK0Aki9DRoohInIqzSkrUmC0iOaeAUaw6S1uNiBQMBYwoCrUrcDVmi0gOFW8bRq4kj4LX/PgqKIMWkU5FJYzWtOXxVRGRDkwBozWZ9k4rItJBdIyAkc02hlx3Ry4iUqCKP2BE7SKjvfT4qogI0BECRrbbGPT4qogIUMxdgzRTFxkiIi3q3N2bJ1Ibg4hITuQtYJjZIDOrNbPXzGyBmV3Rrg2pjUFEJCfyWcLYBVzt7kcCJwH/Y2ZHtXkramMQEcmJvL3p7e4rgZXh981m9hpwEPBqmzfW2XuuFRHJgYJowzCzwcBxwAsp5o0zs9lmNnvNmjW5TpqIiITyHjDMrBfwF+Bb7r4peb67T3T3Ee4+ol+/frlPoIiIAHkOGGZWShAsJrn7I/lMi4iItCyfT0kZ8AfgNXf/Vb7SISIi0eSzhHEqcAHwH2b2cvg5J4/pERGRFuTzKalnAcvX/kVEpG3y3ugtIiLFQQFDREQiUcAQEZFIFDBERCQSBQwREYlEAUNERCJRwBARkUgUMEREJBIFDBERiUQBQ0REIlHAEBGRSBQwREQkEgUMERGJRAFDREQiUcAQEZFIFDBERCQSBQwREYlEAUNERCJRwBARkUgUMEREJJK8BgwzO9vMXjezt8zsf/OZFhERaVneAoaZlQC/BT4JHAWcZ2ZH5Ss9IiLSsnyWMD4MvOXui919J/AnYEwe0yMiIi3omsd9HwQsS/h7OXBi8kJmNg4YF/65w8zm5yBtmeoLrM13IiJQOuNTDGkEpTNuxZLOIXFsJJ8Bw1JM870muE8EJgKY2Wx3H5HthGVK6YxXMaSzGNIISmfciimdcWwnn1VSy4FBCX8fDKzIU1pERKQV+QwYs4DDzewQMysDzgVq8pgeERFpQd6qpNx9l5l9HfgnUALc5e4LWlltYvZTFgulM17FkM5iSCMonXHrVOk0972aDURERPaiN71FRCQSBQwREYmkYAJGa92EmFk3M3swnP+CmQ1OmPfdcPrrZnZWHtN4lZm9amZzzezfZlaVMK/RzF4OP1lt3I+QzovMbE1Cei5JmHehmb0Zfi7MczpvTkjjG2a2IWFeTs6nmd1lZqvTvf9jgVvDY5hrZscnzMvluWwtnWPD9M01s+lmdkzCvCVmNi88l7E8fplBOkea2caE3/aHCfNy1pVQhHR+OyGN88Prcf9wXk7Op5kNMrNaM3vNzBaY2RUplon3+nT3vH8IGr0XAYcCZcArwFFJy1wO/D78fi7wYPj9qHD5bsAh4XZK8pTGM4Dy8PtlzWkM/95SQOfyIuA3KdbdH1gc/tsn/N4nX+lMWv4bBA9G5Pp8fgQ4HpifZv45wBME7xWdBLyQ63MZMZ2nNO+foDueFxLmLQH6Fsj5HAk8nun1ku10Ji37aeDpXJ9PYCBwfPh9H+CNFP/XY70+C6WEEaWbkDHAveH3h4GPmZmF0//k7jvc/W3grXB7OU+ju9e6e3345wyCd0tyLZMuV84CnnT39e7+HvAkcHaBpPM84IEspSUtd38GWN/CImOA+zwwA9jPzAaS23PZajrdfXqYDsjftRnlfKaT066E2pjOfF2bK939xfD7ZuA1gh40EsV6fRZKwEjVTUjyge9ext13ARuBiojr5iqNib5KENmbdTez2WY2w8w+k4X0NYuazs+HRdSHzaz5Bcpcncs27Sus2jsEeDphcq7OZ2vSHUcuz2VbJV+bDvzLzOZY0BVPvp1sZq+Y2RNmNjScVpDn08zKCTLavyRMzvn5tKCK/jjghaRZsV6f+ewaJFGUbkLSLROpi5EYRN6PmZ0PjAA+mjC50t1XmNmhwNNmNs/dF+UpnY8BD7j7DjO7lKDk9h8R141LW/Z1LvCwuzcmTMvV+WxNvq/LNjGzMwgCxmkJk08Nz2V/4EkzWxjeYefDi0CVu28xs3OAvwGHU6Dnk6A66jl3TyyN5PR8mlkvgoD1LXfflDw7xSrtvj4LpYQRpZuQ3cuYWVegN0GRMVddjETaj5mdCYwHRrv7jubp7r4i/HcxMIXgbiAbWk2nu69LSNsdwAlR181lOhOcS1KRP4fnszXpjqPgur4xs+HAncAYd1/XPD3hXK4G/kp2qnQjcfdN7r4l/D4ZKDWzvhTg+Qy1dG1m/XyaWSlBsJjk7o+kWCTe6zPbDTMRG2+6EjS6HML7DVpDk5b5H/Zs9H4o/D6UPRu9F5OdRu8oaTyOoGHu8KTpfYBu4fe+wJtkqcEuYjoHJnz/LDDD328IeztMb5/w+/75Sme43BCCRkTLx/kM9zGY9I20n2LPRsWZuT6XEdNZSdC+d0rS9J7APgnfpwNn5zGdBzT/1gQZ7dLw3Ea6XnKVznB+801rz3ycz/C83Afc0sIysV6fWTvZ7Tj4cwha+RcB48Np1xPcqQN0B/4cXvQzgUMT1h0frvc68Mk8pvEpYBXwcvipCaefAswLL/J5wFfzfC5/CiwI01MLHJGw7sXhOX4L+Eo+0xn+fR3ws6T1cnY+Ce4eVwINBHdlXwUuBS4N5xvBQGCLwrSMyNO5bC2ddwLvJVybs8Pph4bn8ZXwmhif53R+PeHanEFCgEt1veQrneEyFxE8cJO4Xs7OJ0G1ogNzE37Xc7J5faprEBERiaRQ2jBERKTAKWCIiEgkChgiIhKJAoaIiESigCEiIpEoYIiISCQKGCIiEokChkgGwvEIPh5+v8HMbs13mkSypVA6HxQpVj8Crg87mjsOGJ3n9Ihkjd70FsmQmU0FegEjPRiXQKRDUpWUSAbM7GiCkc92KFhIR6eAIdJO4chlkwhGNdtqWRxPXqQQKGCItEM40tojwNXu/hrwE4KedUU6LLVhiIhIJCphiIhIJAoYIiISiQKGiIhEooAhIiKRKGCIiEgkChgiIhKJAoaIiETy/wHTGTXid5ELUwAAAABJRU5ErkJggg==\n",
>>>>>>> Stashed changes
=======
      "image/png": "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\n",
>>>>>>> Stashed changes
=======
      "image/png": "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\n",
>>>>>>> Stashed changes
=======
      "image/png": "iVBORw0KGgoAAAANSUhEUgAAAYwAAAEWCAYAAAB1xKBvAAAABHNCSVQICAgIfAhkiAAAAAlwSFlzAAALEgAACxIB0t1+/AAAADl0RVh0U29mdHdhcmUAbWF0cGxvdGxpYiB2ZXJzaW9uIDMuMC4yLCBodHRwOi8vbWF0cGxvdGxpYi5vcmcvOIA7rQAAIABJREFUeJzt3XmcVmX9//HXh2EGGFDEYRGVGdQMFcSNci/8ZmlG0J5+0a9mxlf9VuZSfosWM/lWlmn+KhPNdcg0sxwNK80BUUQWFxbFBWQAQVZZh2WY+fz+OGfw5ua+Z87Mfe5t5v18PO4H95z1Ouc+XJ9zXdc512XujoiISGu65DsBIiJSHBQwREQkEgUMERGJRAFDREQiUcAQEZFIFDBERCQSBQzJOTNbYmZnht+/Z2Z35ikdI81seT723VmY2T1mdkO+0yHxUMCQPZjZuWb2gpltNbPV4ffLzcyysT93/z93vyTT7ZjZYDNzM+saR7ryTRmtFCIFDNnNzK4Gfg38AjgAGABcCpwKlKVZpyRnCRSRvFLAEADMrDdwPXC5uz/s7ps98JK7j3X3HeFy95jZbWY22cy2AmeY2afM7CUz22Rmy8zsuqRtX2BmdWa2zszGJ827zsyqE/4+ycymm9kGM3vFzEYmzJtiZj8xs+fMbLOZ/cvM+oaznwn/3WBmW8zs5BTH2CNM/3tm9irwoaT5B5rZX8xsjZm9bWbfTJj3YTObHR7jKjP7VcK80xLSvMzMLgqndzOzX5rZ0nCd35tZj3DeSDNbbmZXhyW5lWb2lXDeOGAs8J3wWB5L85sdYWZPmtl6M3vdzL4UTi8zs5fN7Bvh3yXhOfthwrE8H6Z3pZn9xszKErbrYanyzfA8/8TMDgvX2WRmDzUvn3Ac3zOztWF149hU6Q2XHxWmbUN4zoanW1YKkLvrow/A2cAuoGsry90DbCQodXQBugMjgaPDv4cDq4DPhMsfBWwBPgJ0A34V7ufMcP51QHX4/SBgHXBOuK2Ph3/3C+dPARYBHwR6hH//LJw3GPCW0g/8DJgG7A8MAuYDy8N5XYA5wA8JSlOHAouBs8L5zwMXhN97ASeF3yuBzcB5QClQARwbzrsFqAn3tw/wGPDTcN7I8DxcH653DlAP9Ek4zze0cCw9gWXAV4CuwPHAWmBoOH8Y8B5wJDAemAGUhPNOAE4K1xsMvAZ8K2HbHqZ7X2AosAP4d3hOegOvAhcmHcevwt/3o8BWYEjycYRpXA2cCJQAFwJLgG75vv71ifZRCUOa9QXWuvuu5gkJd83bzOwjCcs+6u7PuXuTu2939ynuPi/8ey7wAEHGAfAF4HF3f8aDUsoPgKY0aTgfmOzuk8NtPQnMJshMm93t7m+4+zbgIeDYNhzjl4AJ7r7e3ZcBtybM+xBBYLre3Xe6+2LgDuDccH4D8AEz6+vuW9x9Rjh9LPCUuz/g7g3uvs7dXw7bfL4GXBnubzPwfwnba97m9eF6kwkC65CIxzIKWOLud7v7Lnd/EfgLwfnG3ecDNwB/Ba4hCHaN4bw57j4jXG8JcDvv/17Nfu7um9x9AUFg/Ze7L3b3jcATwHFJy//A3Xe4+1Tg7+G5TvY14HZ3f8HdG939XoJgdFLEY5Y8U8CQZuuAvomNxu5+irvvF85LvFaWJa5oZieaWW1YlbORoN2juarowMTl3X1ruL1UqoAvhkFqg5ltAE4DBiYs827C93qCu/2o9kgLUJe07wOT9v09gnYcgK8SlGwWmtksMxsVTh9EUOpJ1g8oB+YkbO8f4fRm6xIDdBuPpwo4MSm9YwnanprdS1CCmOzubzZPNLMPmtnjZvaumW0iCGR92dOqhO/bUvydmM73wt+1WR3BuU6V5quT0jwozbJSgBQwpNnzBHd7YyIsm9zF8R8JqjAGuXtv4PdA81NVKwkyBQDMrJyg2iaVZcD97r5fwqenu/+sHWlKZY+0EFQnJe777aR97+Pu5wC4+5vufh7QH/g58LCZNVcLHZZiX2sJMtahCdvr7e5RA0Jrx7MMmJqU3l7uflnCMr8DHgfOMrPTEqbfBiwEDnf3fQkCYyZPwfUJz0WzSmBFmjRPSEpzubs/kMG+JYcUMAQAd98A/Bj4nZl9wcx6mVkXMzuWoL68JfsA6919u5l9GPjPhHkPA6PChuEygjr7dNddNfBpMzsrbKjtHjaqHhzhENYQVHUd2sIyDwHfNbM+4Ta/kTBvJrDJzK4NG8dLzGyYmX0IwMzON7N+7t4EbAjXaQQmAWea2ZfMrKuZVZjZseFydwA3m1n/cBsHmdlZEY4Fgjv6lo7lceCDFjxQUBp+PmRmR4b7uoCgreIi4JvAvWbWHKz2ATYBW8zsCOCyvTffZj8OG9tPJ6gu+3OKZe4ALg1LpGZmPS14YGKfGPYvOaCAIbu5+43AVcB3CBonVxHUb18LTG9h1cuB681sM0Gj8UMJ21wA/A9BKWQlQUNsypflwnaFMQR3vGsI7ki/TYTr1N3rgQnAc2F1R6p68R8TVJe8DfwLuD9h/Ubg0wRtIm8TlBDuJGjkheChgAVmtoXg0eNzw/abpQRtLFcD64GXgWPCda4F3gJmhFU/TxG9jeIPwFHhsfwtxfFuBj5B0CaygqCq7udANzOrJGhw/6+wveWPBG1BN4erX0MQ1DcTZOIPRkxTOu8S/K4rCALope6+MEWaZxO0Y/wmXP4tgoAmRcLcNYCSiLSPBY89V7t7lFKgFDmVMEREJBIFDBERiURVUiIiEolKGCIiEklR9ezZt29fHzx4cL6TISJSVObMmbPW3fu1vmTLiipgDB48mNmzZ+c7GSIiRcXM6lpfqnWqkhIRkUgUMEREJBIFDBERiUQBQ0REIlHAEBGRSBQwREQkEgUMERGJRAFDREQiUcAQEZFIFDBERCSSrAcMM7vLzFab2fwU864xMzez5AHoRUSkwOSihHEPwfCWezCzQcDHgaU5SIOIiGQo6wHD3Z8hGOs42c0EY0drQA4RkSKQlzYMMxsNvOPur0RYdpyZzTaz2WvWrMlB6kREJJWcBwwzKwfGAz+Msry7T3T3Ee4+ol+/jLtzFxGRdspHCeMw4BDgFTNbAhwMvGhmB+QhLSIiElHOB1By93lA/+a/w6Axwt3X5jotIiISXS4eq30AeB4YYmbLzeyr2d6niIjEL+slDHc/r5X5g7OdBhERyZze9BYRkUgUMEREJBIFDBERiUQBQ0REIlHAEBGRSBQwREQkEgUMERGJRAFDREQiUcAQEZFIFDBERCQSBQwREYlEAUNERCJRwBARkUgUMEREJBIFDBERiUQBQ0REIlHAEBGRSBQwREQkEgUMERGJRAFDREQiyXrAMLO7zGy1mc1PmPYLM1toZnPN7K9mtl+20yEiIpnJRQnjHuDspGlPAsPcfTjwBvDdHKRDREQykPWA4e7PAOuTpv3L3XeFf84ADs52OkREJDOF0IZxMfBEuplmNs7MZpvZ7DVr1uQwWSIioUmTYPBg6NIl+HfSpHynKC/yGjDMbDywC0h79t19oruPcPcR/fr1y13iREQgCA7jxkFdHbgH/44b1ymDRt4ChpldCIwCxrq75ysdIiItGj8e6uv3nFZfH0zvZLrmY6dmdjZwLfBRd69vbXkRkbxZurRt0zuwXDxW+wDwPDDEzJab2VeB3wD7AE+a2ctm9vtsp0NEpF0qK9s2vQPLegnD3c9LMfkP2d6viEgsJkwI2iwSq6XKy4PpnUwhPCUlIlK4xo6FiROhqgrMgn8nTgymF7KEJ7uGw9FxbFIBQ0SkNWPHwpIl0NQU/FsIwaKlR32TnuwqhbI4dpmXRm8REclAc0BoriZrftQXgmCW6smuGKiEISJSbFp71DdLT3ApYIiIFJvWHvXN0hNcChgiIoUkSjckrT3qO2FC8CRXzBQwREQKRdRuSFIFhMRHfZOe7GqAnXEkTwFDRKRQpGubOP/8PUsbUR71TXiyay7MiyN5VkzdOI0YMcJnz56d72SIiGRHly5BySKd8vJ2vQNiZnPcfUSGqVMJQ0Rkt3x3Y95aY3WeOz1UwBARgcLoxjxKY3UeOz1UwBARgex2Yx615JLYNpFOly55G4tDAUNEBLLXjfmkSXDxxXuWXC6+uOWgsWQJVFenLm00NuZtACcFDBERyF435pdeCjuTnmrduROuuKLl9ZpLGyUle8/LU1uGAoaICLT+bkN7TJoEW7aknrduXevrjx0bdHiYSsSSz/YN2yMtF4UChogIZKcb8zhKAe0o+ax5bS33XPIsnztwBhV9GjNPQ0gBQ0SkWdzdmLdUCqioiLaNiCWf159YzC8+NYXTe7/CAUf14St/OI1Zqyu5aFh8764pYIiItKa972e01P7x619H20aakk/jF8/l2d/N5TsfnsKQsrc54pxD+c7kkWxtKOOHI6fx4h8XsnTnQH4776PR9hOB3vQWEWlJ8tgTEP2N61TrmgUN4b/7XZuTsuXdLTx583xqHmng8UVHstb7UspOzqiYy5gzt/LpKw9n0IkH7rVeXG964+5F8znhhBNcRCSnqqrcgwdi9/xUVUVbv7o6WNYs+Le6uk27f2fOSr997FQ/p99M78Y2B/f97D0fO/hZf+jK6b5x2cZW9wfM9hjy4KyXMMzsLmAUsNrdh4XT9gceBAYDS4Avuft7rW1LJQzpkCZNChpHly4NqjAmTCiMIUAlkK5/J7P0TzBlwJuc+X99k0dvW0HNjH7M2joUgEO71jFm+NuMvmA/Th03lNLy0r1XTlMa6ldf//Ya90MzTVsuAsZHgC3AfQkB40Zgvbv/zMz+F+jj7te2ti0FDOlwMqnukNwYPDh42S5ZVVXQMB6DhvoGpt02n0fv30TNgkNZsmsQACf1msfoU9Yx+vKDOerTh2FdrF1pPQZ2vuLeLdN05qQNw8wGA48nBIzXgZHuvtLMBgJT3H1Ia9tRwJAOJweZkWQoS0F949KNPPHLBdTUOJPrhrGR3nRnGx8fMJfRZ+1k1NVDOGB4/7ZtNE1paAQw272VaNO6rpluoJ0GuPtKgDBopD0rZjYOGAdQmaVhB0ViF7WaKVvdUUh8mn+3GKoN655bTs3Ni9j8j2mM3XoHX2IZp3IQIwd8hQEXf4ozvzWMnv1PbH9aKytT3oDENYBSThqrCdoq5if8vSFp/ntRtqNGbykK1dXu5eV7NpCWl6du7My0QVUKWlNjk8+6d4H/4PRaP6b7Qgf386j2erpHuz7aKtW1Z+aDgzbkjPPyfL2HsSqsiiL8d3We0iESv7b0epqN7igkr7Zv2M4T18/isqHPcHDpu3zowqOYMO10enfbxi9HTeHe/tfSg6TuOurr4cILM+9QcOzYYDuWUPvkzv4Q8S3BluWrSqoGuBD4Wfjvo3lKh0j82lLNFGN1h+TP2tfXMfmm16iZXMI/3xnGFj5ET7Zw9kHzGH3OIs65+kj6Djk2WNjeSb2R5l5oIbPff/LkvdoxLKaXtHPxlNQDwEigL7AK+BHwN+AhoBJYCnzR3de3ti01ektRUEN2p/Dmk0uouXUJNdP249mNR9NECQd2WcnoI95k9Jd7cMY3j6b7ft33XrFr1yA4pJPpdZKi4btoGr3d/bw0sz6W7X2L5MWECamfqlE1U1Fr3NnIC3e/Ss3d66h5aRCv7TwMGMwx3V9n/OnTGH1Jf044/0isy8BWNtRKZ4CZPvCQpuE7DvmqkhLpuFTN1GHUr63nyV/No+bhnTz+1hGs9qPpSgMj95/LZWdMZfSVh1F16hCg1bcC3ldV1XKG3t6nQZufzKurC9owEkoZDrG8Yai+pEREErw7dzWP3/Q6Nf8s48lVw9lOD3qzkXOq5jNmjHH21UPpXdm7/TtI9V5Hs/a+35Guzyp3qKqiX11dLG96q4QhIp2aNzmvPraIt75/Dx9ecBcD/F3OpJJ5dhXjjtnOmAv25fTLhlFafmo8O0wsgdbVBSPqNTYGJY/2lkRTPZkXBguWLGGtWattxFGohCEinc6u7bt49vfzefS+jdTMG8yJu57lDsbRk/czXTfDmjPdTKoUc9FXWLr+riDWEobGwxCRTmHT8k38+arnOf+Q5+hfvpkzrjyW2146kSP6rOb28qv3CBZAECwgKAWMG9e+dySaq4rq6oIMva4OLrggqC5qHlejvWNtJGqp3aOujkqoavtGU4jj7b9cffSmt+RUht1SS/4tnfGO//bLU/wTFbO8lB0O7hW21i88bJo/8p3nffPKzcGCZqnfuE/19n1brot0b/I3f8rK3EtLM3/rO9Ub3gmfE8A9hjw470GgLR8FDMmZtnTvIQWjqbHJX/zja/6jj9b6cT1e3f3THV662K8ZUevTfvuK79qxa+8VW8vYwy422nxdRAlEcXUN0xzIFDAUMCTH8tXHU0cq1eToWLZv3O7/uGGWXz5sih9c8k6Qt9Pop+37st94Tq0vnLwoWlpbuEPf/du39bqIEojSBaf2SrFPBQyRbEp3Z5jJf+TWdKRSTZaPZd1b6/3+S5/1Lx483fdhY7B5tvhnBz7vd391mq9+dU370tyc2Sb//s1pb+t1ESUQxX1jkmKfx0OjK2CIZEk+huVs6W602EobWSihvfXvJf6rMbU+cr8XvYQGB/cDurzr446Y6o//aKbXr6uPLflpf7/2HFdLgSiuNoxW0t8XFrsChkiWZHKH3N51W6vvLqbSRiYltDCzazLz7fsP9D99YLwP7fbG7k0c3f11H39qrb9w13xvbGjM/rEkpy2TklOqQJSDqjtiGtM770GgLR8FDMmp9v5Hbu/ddZT67mIZJ6Od52DH7Xd5Q+meY0VsodxvKL/Bb/nsFF9UW5eT5LeoCNuZ4goYenFPJG7pXqIyg6YWuvRpqcuIqNvIp8QX1PbfHzZtgoaG9+en6fZi9YI1PP7LhdT8o4xb3/0ilSzbe9vq6TcjZjbH3Udkuh11DSISt3S9hbbWqVxylxHptl2IkoPdunXBvz17BtMS3nD2Jmfh5MXU/HYZNc/tz/Obh+GcTmXJcgaxPPX2NWRtQdCb3iJxy2QUvbFjgzvp6uriGokvVV9GEEy7/352LXyLZ9YP45oRUxjSfQlHffow/vcfI9nR2JXrzniGl/70Okt2HoRVpQmILQXKON6UlmjiqNfK1UdtGJ1UEdYZx5LmYjruFhrs13Qd4PvbuuChILb72X1n+u/OnerLZq7YezttbVTO5uO7xXT+W4EavaVT6EjvJnRkLTTYN2J+waHT/OFrpvumdza1vq04ut5oXq+9GX4Hu+7iChhq9JbCpuFOC5o3OXMffoNFP76fz7w6IWUdtw+qxJZmZwS4FntpLS/fe9TDqGNNdLDrLq5Gb7VhSGFL19ipRtDcSG4fuPxyvLIKty6sLzuAK7r+hmO/PIQvvHo9j5R8ib2y7vJy7Kf/l730pWvbKCnZu02lvj5oa4lC111KChhS2NJlCIX6tFBHkqJrbr/tNmzZUgxn/4ZV3Ojfofb0H7Jy3jq+sOtBrLo6uAs3C/5tz+hxbZHuAYN042ZHzfB13aWU14BhZlea2QIzm29mD5hZ93ymRwpQJk8cSUYarr52r7t0S1qmO9sZufQ+BgzrF0xofsqrqSn4N9vjmI8dGwSl5CBVVZV6+agZvq67lPIWMMzsIOCbwAh3HwaUAOfmKz1SoNJlCNnOiDqCNj5u2rSriZl3L+D7p01heI83KFm1Itp+8l1NkypIZZrh67pLKd8v7nUFephZA1AORLxCpVMZO7bT/0dts+QX6ZpHjYM9zuX2Ddv59y3zqHlwG4+98UFWNg2lC42c3nseW6w/+25b1fq+CrGaJvElyPYOjarrbi95fUrKzK4AJgDbgH+5+16/jpmNA8YBVFZWnlCX7g1YEXlfC0/5rHliNn+/aSE1k7vyz5VHU09PerGZTx48n9GjmvjkVUdScfj+0boqacuTR5I3cT0llbd3KoA+wNNAP6AU+Btwfkvr6D0MyZtie4krzYt0jZh3YZeD+8El7/jlw6b4P26Y5ds3bk+9neTjvuyy/J+HYvstCgAxvYeRzyqpM4G33X0NgJk9ApwCVOcxTSJ7i1i9U0h80CAsRdvCu3YAP/jINEZ/bQDHnXcE1uXAljdUaNUyRfhbdCR5q5IysxOBu4APEVRJ3UMQBf9funX04p7kRZG8xLXl3S08efN8ah5poOytBfyKq+nJ+9VJTd160OUPdxR3xlokv0WhKfoX99z9BeBh4EVgXpiWiflKj0haBfwS14oX32Xi+c8wasBM+g7syuduPIm/LTqarYOPZu7Z36bpoEHBUz4VFXTpVQ4XXFDcHfQV8G/RGahrEJHWFNBdrTc58//6JjW/X8Gjz/dj1tahABzSdSljjn6b0efvy2mXDqO0vPT9lVI1XhdrY3UB/RbFJGclDDN7ysyOyXRHIkWrLc/0Z6Gr7Yb6Bp6+6SW+ddxUDuu2jOFf+CDff2okXXAmfHwKS791E4sOPJ2bXz6DM279LKV/fWjPDaTqerwt3WQUEr1Ql1+ttYoDxxM8zXQ3MDCOlvb2fvSUVCdTSE/DRElLjD2cbqjb4H/65nN+XtWz3psNDu7dqfdR/V/wiRdM9RUvvRt9n5mMr12ICum6KBLkurdaM/s88EPgEeBGd9+WnRCWnqqkOpFirEbJsLqk7rnlPHbLIh59uhdT1g9nF6X0szWM+sBCRn++jI9fOYye/Xu2fZ+qxun04qqSihQwzMyAocBpwA3AduC77n5/pgloCwWMTiRdJldRAWvX5jw5kbRxLG9vcl7840IenbiKmlkDeWX7EACOKFvE6GOXMebiCk78ylGUlJVkts9iDL4Sq5yN6W1mzwKHAguAGcBFwELgCjM73d3HZZoIkb2ke+pl3bogAyzEjC7CWN47Nu3g6VvmBl1xLDycd5qOpAsf5NR95/OLj01h9Deq+OBZhwGHxbbPWLrJEIFIbRjDCEsiKea9Fke9WNSP2jA6kRZGcPOqqnynLrU07Qmbfnm73/u1af75g6Z7LzY5uPdks3/uwOf93q9N8zUL17a/Xj7VPsvK3Csqcl/Hr7aFgkUhDNEKHBpHIqJ+FDA6kerq9AEjF421mWTgVVXeZOYbegzwH/eYsLsrjoFdVvp/HznVJ/94pm97b9ue62TSWJ6Y1ooK99LS9m+rvTrYkKYdTUEEjFx/FDCKWHsy4IqK1AEj2yWMdmR+u3bs8ud+P9evPbHWjyx7a/dqw7sv9O+fVuuz7l3gjQ2NqVduaVzqtmrvtjItHcR5DBI7BQwpHu29+8zXXWvEzG/rmq3+t+/O8IsPf8b722oH967s9I/1meO3fn6Kvz1tWbT9xfnYa3u2Fcd57miP7nYwChhSPDK5+8xHvXgLmd/KV1b5Hf/1jH96wAzvTr2De282+HlVz/oD33jO31uyoW37qq52Lylp//lJ1p5zHUfpQCWMgqaAIYUhSoZebHefaTK/FTbQjcYgHyxZ5t88Zoo/deMc37F5R/v2k+rOPtOSVHtKC3H8PmrDKGgKGB1RsT1lEjWTKLK7z1133+e7SrvvkdYtlPv3y37mP/lYrb/y59e9qbEp8x2lOy8lJe3/7aur92z7qahofVtx/T7Fdv12IgoYHU0x3qFFzWiK4Ng2LtvoD1053c8/ZJr3sfV+HtW+hEHeiPmm8gG+7vrfRNtQWzLNuEtexdZWJDmjgNHRFNlduLu3LcMrwLvPpTPe8d9+eYqfVTHLS9kR3JDbWr/wsGn+l28/75tXbm7bBlNlvGbBKHWpxP2bF1tbkeRMXAFD3ZsXijZ2K1EQiqyPIm9yXn7wdWomvsujLwzgpW1HAnB46duMOaaO0Rf24eRLhtK1ezsHokx3Pszg/vv3frM67i47ivEakpwo+gGUJEliVw5RpheC9nQ1nYXuv1uyc8tO/vXTOXx9+FSqylZw/H8ewY+nfITyrg38/JNTeO3vi3lj5yH8YtZITv/6Me0PFpC+OxP3oFuO5GOHIDhUVQWZelVVZv07FeM1JMUljmJKrj4dukoqH/XIcVRDtGUbOTrGdW+t9+rLnvUvHjzd92FjsBu2+GcGPu93feUZXzV/daz7262l7kyajzWbx662CEkDtWF0QLmsR447c4mS9iy20yyqrfNfjan1kfu96CU0OLgf0OVd/9oRU/2xH7zg9evqM95Hq6qr07frxPmuRWtpUFuEJFHAkMzEmXlHDT4xPhXU2NDoM+6c5989udaHdntj96aGdXvDv3dKrb9w1/z0XXFk02WX7X2c6d61yPSJKAUGiUgBQwLtzTjifKQzavDJMEjVr6v3mu+/4JcMmeoDuqwKbtxp8DP2e9Fv/swUX1Rb1/a0Z0Oq3yQfAVok1CECBrAf8DDB+BqvASe3tLwCRpJMMo44M7Cowacd6V01f7X/4aJnfMwBM7wHWx3c92Gjf2nQcz7p8md9/eL32p7efIgzky/GR7AlrzpKwLgXuCT8Xgbs19LyChhJMn3uPh8ZWCsloqbGJn/t74v8Z2fX+in7vLK7K45BJcv9f46e4v/66ez2d8WRDW1t9I+jGqnYulqRvCv6gAHsC7xNmsGZUn0UMJJkmnEkj6PQ3kF3Mgw+DdsafOqtL/vVJ9T64aWLd2/i+B6v+nUja/2lPy2MpyuOuBV4b7oizTpCwDgWmAncA7wE3An0TLHcOGA2MLuysjLm01jk4uwDKNOMr413z5ve2eQPXzPd/+vQaV5hax3cS9nhZ1XM8t+dO9WXzngn431kXb4ybrVhSBt1hIAxAtgFnBj+/WvgJy2toxJGkrgyjhirlFqyfNYKv+28qf7JfjO9jO0O7n1svZ9/yDT/81XTfeOyjdk/1jjls2qo0IKnFLSOEDAOAJYk/H068PeW1lHASOGyy95/xr+kJH2/RS3JUqN1U2OTv/zgQr/+P2p9RPmC3asc1nWJX3VCrU+55SVv2NYQLY2FWA1TiGkSSaHoA0ZwDEwDhoTfrwN+0dLyChhJcl3CiLDcjs07/Mmfz/FvDJ/iVSXLgrhDo5/ca67/9KxaX/Dom+1rjyjEht5CLPWIpNBRAsaxYfvEXOBvQJ+WllfASJLrNow0mXaTmf/x68/5uZXPeW82OLj3YKuPPmCG33nhM77ylVWZHWeiHh4ZAAARm0lEQVTco9LFSVVDUgQ6RMBo60cBI0mcd91RqrbSBKglVDq497fV/tUPPuOPfm+Gb12zNePDc/fsjEqXbj/K+KWDUsCQnJYwGhsa/a1xP/cdXbrtsVw93f2Bw8b79Nvn+q4du2I9PHfPzqh07ns/UlxWlr1gJJJnChiS9TaMxoMH+d+vm+njjpjqA7usdHD/T+7zlTbQmzDf2f+g7Geq2Wi7aKnUUkjVXSIxiStgaDyMYjZ2bDzjKaQbx2H5cj513Yf448LjOHXg29z3389y6xuf4oCmFZg3UbpqefvGbmjLmBjZGONh/Pg9By1KJ915EemkMhgtRgrC2LHtH3An1NBvIKWrV+w1/b3S/jzxw9mc8c2j6bbvyRntY7fkUebq6oK/IfVxTJiQelS6lgZpak3UQKCBh0T2oBJGJ9S4s5HnbpvLdz48hSO6LebC1TeylT1HzvPyciruvomzvz+Cbvt2i2/nV1yx9919fX1w159KXKWoRFECQaZBSaQDUsDoJLau3spfr53BVw6fxgHd3+O0y4dzy6xTqOz1Hqd84WC2/ejne2TKlmmmnMqkSbBuXep5Ld31jx0bjBHe1BT8m2m6Ug0tW1oKFRXxBSWRDsiC9pDiMGLECJ89e3a+k1E0Vr68isd++To1T3bnqdXD2UF39rMNnFO5gNFjjLOvHkrvyt65S9DgwUEVVCpVVUEwyJVJk4JSzdKlQYljwgQFCOmwzGyOu4/IeDtFFzCuvFL/0dPwJmf+X9+k5vcrqHm+LzO3DgNgcNdljBm2mDEX7Mtplw6jtLw0Pwns0iV4/iiVigpYv16/qUgWdM6AceihPnvVqr0bQDtx9UFDfQPTbptPTfUmauYfwtu7gvr5D/ecz+iT1zLm8oMYOuYDWBfLc0ppuYSRqJP/piJx65wBo1s3n71z594zcl2dkWcbl27kHzctoOZRZ/LSoWzw/ejGds7sP5cxZ21n1FVDGHjsgHwnc2/JT0hB0GaQ6hrsZL+pSDZ1zoBh5ilbMMyCBtEOrO655Tx2yyJqnu7FlPVH00AZfW0tow57jTFfKOPjVw6jZ/+e+U5m6yZNCp6UStf43awT/KYiuRJXwCiup6TKylJPb+/z8m15gSzOdSPwJmdO9Wv86KNTOK58IYNPO5hvPPxRlm7pw5Ufns6zv5vLu9v7cPebp/OZn55YHMGi2bZtrS+jdyBECk8cr4vn6nPCIYfE1510Jt1qZKlb6+0bt/sTP5nllx411Q/qssLBvQu7/PR9X/ZffKrWF05elNH2Y9eeDvvS9Q2lfpxEsoZO25dUXL2KZtJxX4wD56x9Y53f99/T/PMHTfdebHJw78lm/9yBz/s9l0zz1a+u2XOFQulVtb1BM13fUM39Q6mnWJHYdd6AEZdMOrVrad0IGfqbTy3xm0bX+o97TPAlVHoj5ks52O888Pv+9+tm+rb3tqXebx7G3k6rvUFTo9SJ5JwCRqayUcKoqEiZoTfec59Pv32uX3tirR9Z9paD+3lUez3d25b5Z5rZxlmV1t6Aq1HqRHJOASNT2WjDqKhImYku5WAH967s9I/1meO//twU3zngoLZn/pl29R3n3X0m2yqUajWRTkIBIw6ZZFwp1m1Kk6E3Egxhun7xe++v357MP9MMP86xJVRSECkaChgFoKmxyRc8+qb/3ydq/aRec/1tKqNn6C1Va6ULYplm0nG3H6ikIFIUFDDypGFbg9fe/JJfeXytH9Z1ye48d0T5Av/LUeO9sSxiu0SqzL+szL20tOX1My0VqVQg0ul0mIABlAAvAY+3tmykgJGFu95N72zyh66c7ucfMs372Pogb2e7f7LfTL/tvKm+fNaK9u0/edk0bSCxPkGkUoFIpxNXwMh71yBmdhUwAtjX3Ue1tOyIbt18dkND+h5NU/VV1M6O7Ja9sILHbn6Tmqd6UrvuaHbSjf1tPaMOeZXRnyvhE1cOY58D92nTNluVrjdXdZMhIhnoEH1JmdnBwL3ABOCqVgNGYl9SqQJBut5QI3Rk503Oyw++Ts3Ed6l5YQAvbjsSgA+ULmHM8CWMuagPJ18ylK7dsziqbQbpFxFJp6MEjIeBnwL7ANekChhmNg4YB3ACnLBH54PJGWkb79B3btnJlP83j5oHtlDz6gdY1ngQRhMn7zOf0aeuZ8w3Khly9iG56xo8xhKSiEizuAJGFm+XW2Zmo4DV7j7HzEamW87dJwITIShh7DEzeVjPysrUd+gJHdmtX/QeT9z0KjWPG08sG8ZmTqAH9XzigHlcd/ZiRl1zBP2HDm/3cWWkOShogCgRKUD57K32VGC0mS0B/gT8h5lVt2kLyT2aphqrubycVedfxS2fncoZfV6i/wf24fzbTmXqOx/gy0Ne5rEfzGTdOuNvK0/k4rtPp//QfhkcUkQt9XQb9/jV7UmDiEgqcbScZ/oBRhLlKamIj6s2VVZ6E+bruw3wb5f8cvcqQ7u94d89udZn3DnPGxsa2/SUQfI+ivrR1kJIg4jkDB3lsVpvS8AoK0ubSe+4/S7f2vsAbwo78juPai+hwUfu96Lf/Jkp/ta/l2Ryvt9XaC/PtUchpEFEciaugJH3x2rbYsSIET579vvN3qsXrOHvNy1k/V+e5tJNP6cn7w/Ms6trN7bfeCu9rhwXbyIyfZIpH4/OTpq0Z7tIunG19fiuSIfUOUfcAxZOXsyN50zh1H3ncsCwCi6++3S+vOmOPYIFQNddO+h11X/HXz+f3NDe2vRk6UaSy9YIc81PXtXVBYGqri4IDLlMg4h0CEUVMOa/uIMjP3Uo1z4xkpHb/8n6bgfSRBcO4p30K9XVBRlmXEEj0ww/TcM8EyZklq50xo/f8zFdCAJHctDIZhpEpEMoqoDRrUsjv/3yVNZe9xsmlF7HfjtWYTitviVRXx9knHHINMMfOzZ4r6KqKsi0q6qy+55FupKPe+7SICIdQnG2YaRrR2hJnPXzyW0ChfyuhN4eF+n0Om0bBhC9vSBRnPXzuXpXojVR3qXIdRWYiHRYxRkw0mX+VVVQXd05MshUjdmp2mpyXQUmIh1WcQaMlu6aO0sGmaoxO11bTaGUiESkqBVnGwYUVztCNqgrdBGJqOg7H8zY2LGdK0Aki9DRoohInIqzSkrUmC0iOaeAUaw6S1uNiBQMBYwoCrUrcDVmi0gOFW8bRq4kj4LX/PgqKIMWkU5FJYzWtOXxVRGRDkwBozWZ9k4rItJBdIyAkc02hlx3Ry4iUqCKP2BE7SKjvfT4qogI0BECRrbbGPT4qogIUMxdgzRTFxkiIi3q3N2bJ1Ibg4hITuQtYJjZIDOrNbPXzGyBmV3Rrg2pjUFEJCfyWcLYBVzt7kcCJwH/Y2ZHtXkramMQEcmJvL3p7e4rgZXh981m9hpwEPBqmzfW2XuuFRHJgYJowzCzwcBxwAsp5o0zs9lmNnvNmjW5TpqIiITyHjDMrBfwF+Bb7r4peb67T3T3Ee4+ol+/frlPoIiIAHkOGGZWShAsJrn7I/lMi4iItCyfT0kZ8AfgNXf/Vb7SISIi0eSzhHEqcAHwH2b2cvg5J4/pERGRFuTzKalnAcvX/kVEpG3y3ugtIiLFQQFDREQiUcAQEZFIFDBERCQSBQwREYlEAUNERCJRwBARkUgUMEREJBIFDBERiUQBQ0REIlHAEBGRSBQwREQkEgUMERGJRAFDREQiUcAQEZFIFDBERCQSBQwREYlEAUNERCJRwBARkUgUMEREJJK8BgwzO9vMXjezt8zsf/OZFhERaVneAoaZlQC/BT4JHAWcZ2ZH5Ss9IiLSsnyWMD4MvOXui919J/AnYEwe0yMiIi3omsd9HwQsS/h7OXBi8kJmNg4YF/65w8zm5yBtmeoLrM13IiJQOuNTDGkEpTNuxZLOIXFsJJ8Bw1JM870muE8EJgKY2Wx3H5HthGVK6YxXMaSzGNIISmfciimdcWwnn1VSy4FBCX8fDKzIU1pERKQV+QwYs4DDzewQMysDzgVq8pgeERFpQd6qpNx9l5l9HfgnUALc5e4LWlltYvZTFgulM17FkM5iSCMonXHrVOk0972aDURERPaiN71FRCQSBQwREYmkYAJGa92EmFk3M3swnP+CmQ1OmPfdcPrrZnZWHtN4lZm9amZzzezfZlaVMK/RzF4OP1lt3I+QzovMbE1Cei5JmHehmb0Zfi7MczpvTkjjG2a2IWFeTs6nmd1lZqvTvf9jgVvDY5hrZscnzMvluWwtnWPD9M01s+lmdkzCvCVmNi88l7E8fplBOkea2caE3/aHCfNy1pVQhHR+OyGN88Prcf9wXk7Op5kNMrNaM3vNzBaY2RUplon3+nT3vH8IGr0XAYcCZcArwFFJy1wO/D78fi7wYPj9qHD5bsAh4XZK8pTGM4Dy8PtlzWkM/95SQOfyIuA3KdbdH1gc/tsn/N4nX+lMWv4bBA9G5Pp8fgQ4HpifZv45wBME7xWdBLyQ63MZMZ2nNO+foDueFxLmLQH6Fsj5HAk8nun1ku10Ji37aeDpXJ9PYCBwfPh9H+CNFP/XY70+C6WEEaWbkDHAveH3h4GPmZmF0//k7jvc/W3grXB7OU+ju9e6e3345wyCd0tyLZMuV84CnnT39e7+HvAkcHaBpPM84IEspSUtd38GWN/CImOA+zwwA9jPzAaS23PZajrdfXqYDsjftRnlfKaT066E2pjOfF2bK939xfD7ZuA1gh40EsV6fRZKwEjVTUjyge9ext13ARuBiojr5iqNib5KENmbdTez2WY2w8w+k4X0NYuazs+HRdSHzaz5Bcpcncs27Sus2jsEeDphcq7OZ2vSHUcuz2VbJV+bDvzLzOZY0BVPvp1sZq+Y2RNmNjScVpDn08zKCTLavyRMzvn5tKCK/jjghaRZsV6f+ewaJFGUbkLSLROpi5EYRN6PmZ0PjAA+mjC50t1XmNmhwNNmNs/dF+UpnY8BD7j7DjO7lKDk9h8R141LW/Z1LvCwuzcmTMvV+WxNvq/LNjGzMwgCxmkJk08Nz2V/4EkzWxjeYefDi0CVu28xs3OAvwGHU6Dnk6A66jl3TyyN5PR8mlkvgoD1LXfflDw7xSrtvj4LpYQRpZuQ3cuYWVegN0GRMVddjETaj5mdCYwHRrv7jubp7r4i/HcxMIXgbiAbWk2nu69LSNsdwAlR181lOhOcS1KRP4fnszXpjqPgur4xs+HAncAYd1/XPD3hXK4G/kp2qnQjcfdN7r4l/D4ZKDWzvhTg+Qy1dG1m/XyaWSlBsJjk7o+kWCTe6zPbDTMRG2+6EjS6HML7DVpDk5b5H/Zs9H4o/D6UPRu9F5OdRu8oaTyOoGHu8KTpfYBu4fe+wJtkqcEuYjoHJnz/LDDD328IeztMb5/w+/75Sme43BCCRkTLx/kM9zGY9I20n2LPRsWZuT6XEdNZSdC+d0rS9J7APgnfpwNn5zGdBzT/1gQZ7dLw3Ea6XnKVznB+801rz3ycz/C83Afc0sIysV6fWTvZ7Tj4cwha+RcB48Np1xPcqQN0B/4cXvQzgUMT1h0frvc68Mk8pvEpYBXwcvipCaefAswLL/J5wFfzfC5/CiwI01MLHJGw7sXhOX4L+Eo+0xn+fR3ws6T1cnY+Ce4eVwINBHdlXwUuBS4N5xvBQGCLwrSMyNO5bC2ddwLvJVybs8Pph4bn8ZXwmhif53R+PeHanEFCgEt1veQrneEyFxE8cJO4Xs7OJ0G1ogNzE37Xc7J5faprEBERiaRQ2jBERKTAKWCIiEgkChgiIhKJAoaIiESigCEiIpEoYIiISCQKGCIiEokChkgGwvEIPh5+v8HMbs13mkSypVA6HxQpVj8Crg87mjsOGJ3n9Ihkjd70FsmQmU0FegEjPRiXQKRDUpWUSAbM7GiCkc92KFhIR6eAIdJO4chlkwhGNdtqWRxPXqQQKGCItEM40tojwNXu/hrwE4KedUU6LLVhiIhIJCphiIhIJAoYIiISiQKGiIhEooAhIiKRKGCIiEgkChgiIhKJAoaIiETy/wHTGTXid5ELUwAAAABJRU5ErkJggg==\n",
>>>>>>> Stashed changes
=======
      "image/png": "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\n",
>>>>>>> Stashed changes
=======
      "image/png": "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\n",
>>>>>>> Stashed changes
      "text/plain": [
       "<Figure size 432x288 with 1 Axes>"
      ]
     },
     "metadata": {
      "needs_background": "light"
     },
     "output_type": "display_data"
    }
   ],
   "source": [
    "\n",
    "# Importing various packages\n",
    "from random import random, seed\n",
    "import numpy as np\n",
    "import matplotlib.pyplot as plt\n",
    "from mpl_toolkits.mplot3d import Axes3D\n",
    "from matplotlib import cm\n",
    "from matplotlib.ticker import LinearLocator, FormatStrFormatter\n",
    "import sys\n",
    "\n",
    "x = 2*np.random.rand(100,1)\n",
    "y = 4+3*x+np.random.randn(100,1)\n",
    "\n",
    "xb = np.c_[np.ones((100,1)), x]\n",
    "beta_linreg = np.linalg.inv(xb.T.dot(xb)).dot(xb.T).dot(y)\n",
    "print(beta_linreg)\n",
    "beta = np.random.randn(2,1)\n",
    "\n",
<<<<<<< Updated upstream
<<<<<<< Updated upstream
<<<<<<< Updated upstream
<<<<<<< Updated upstream
<<<<<<< Updated upstream
<<<<<<< Updated upstream
<<<<<<< Updated upstream
    "eta = 0.1\n",
=======
    "eta = 0.05\n",
>>>>>>> Stashed changes
=======
    "eta = 0.05\n",
>>>>>>> Stashed changes
=======
    "eta = 0.05\n",
>>>>>>> Stashed changes
=======
    "eta = 0.05\n",
>>>>>>> Stashed changes
=======
    "eta = 0.05\n",
>>>>>>> Stashed changes
=======
    "eta = 0.05\n",
>>>>>>> Stashed changes
=======
    "eta = 0.05\n",
>>>>>>> Stashed changes
    "Niterations = 1000\n",
    "m = 100\n",
    "\n",
    "for iter in range(Niterations):\n",
    "    gradients = 2.0/m*xb.T.dot(xb.dot(beta)-y)\n",
    "    beta -= eta*gradients\n",
    "\n",
    "print(beta)\n",
    "xnew = np.array([[0],[2]])\n",
    "xbnew = np.c_[np.ones((2,1)), xnew]\n",
    "ypredict = xbnew.dot(beta)\n",
    "ypredict2 = xbnew.dot(beta_linreg)\n",
    "plt.plot(xnew, ypredict, \"r-\")\n",
    "plt.plot(xnew, ypredict2, \"b-\")\n",
    "plt.plot(x, y ,'ro')\n",
    "plt.axis([0,2.0,0, 15.0])\n",
    "plt.xlabel(r'$x$')\n",
    "plt.ylabel(r'$y$')\n",
    "plt.title(r'Gradient descent example')\n",
    "plt.show()"
   ]
  },
  {
   "cell_type": "markdown",
   "metadata": {},
   "source": [
    "## And a corresponding example using **scikit-learn**"
   ]
  },
  {
   "cell_type": "code",
   "execution_count": 4,
   "metadata": {},
   "outputs": [
    {
     "name": "stdout",
     "output_type": "stream",
     "text": [
      "[[3.95015403]\n",
      " [3.15542884]]\n",
      "[3.95312545] [3.15713095]\n"
     ]
    },
    {
     "name": "stderr",
     "output_type": "stream",
     "text": [
      "/usr/local/lib/python3.7/site-packages/sklearn/linear_model/stochastic_gradient.py:130: DeprecationWarning: n_iter parameter is deprecated in 0.19 and will be removed in 0.21. Use max_iter and tol instead.\n",
      "  DeprecationWarning)\n"
     ]
    }
   ],
   "source": [
    "# Importing various packages\n",
    "from random import random, seed\n",
    "import numpy as np\n",
    "import matplotlib.pyplot as plt\n",
    "from sklearn.linear_model import SGDRegressor\n",
    "\n",
    "x = 2*np.random.rand(100,1)\n",
    "y = 4+3*x+np.random.randn(100,1)\n",
    "\n",
    "xb = np.c_[np.ones((100,1)), x]\n",
    "beta_linreg = np.linalg.inv(xb.T.dot(xb)).dot(xb.T).dot(y)\n",
    "print(beta_linreg)\n",
    "sgdreg = SGDRegressor(n_iter = 50, penalty=None, eta0=0.1)\n",
    "sgdreg.fit(x,y.ravel())\n",
    "print(sgdreg.intercept_, sgdreg.coef_)"
   ]
  },
  {
   "cell_type": "markdown",
   "metadata": {},
   "source": [
    "<!-- !split  -->\n",
    "## Gradient descent and Ridge\n",
    "\n",
    "We have also discussed Ridge regression where the loss function contains a regularized given by the $L_2$ norm of $\\beta$,"
   ]
  },
  {
   "cell_type": "markdown",
   "metadata": {},
   "source": [
    "$$\n",
    "C_{\\text{ridge}}(\\beta) = ||X\\beta -\\mathbf{y}||^2 + \\lambda ||\\beta||^2, \\ \\lambda \\geq 0.\n",
    "$$"
   ]
  },
  {
   "cell_type": "markdown",
   "metadata": {},
   "source": [
    "In order to minimize $C_{\\text{ridge}}(\\beta)$ using GD we only have adjust the gradient as follows"
   ]
  },
  {
   "cell_type": "markdown",
   "metadata": {},
   "source": [
    "$$\n",
    "\\nabla_\\beta C_{\\text{ridge}}(\\beta)  = 2\\begin{bmatrix} \\sum_{i=1}^{100} \\left(\\beta_0+\\beta_1x_i-y_i\\right) \\\\\n",
    "\\sum_{i=1}^{100}\\left( x_i (\\beta_0+\\beta_1x_i)-y_ix_i\\right) \\\\\n",
    "\\end{bmatrix} + 2\\lambda\\begin{bmatrix} \\beta_0 \\\\ \\beta_1\\end{bmatrix} = 2 (X^T(X\\beta - \\mathbf{y})+\\lambda \\beta).\n",
    "$$"
   ]
  },
  {
   "cell_type": "markdown",
   "metadata": {},
   "source": [
    "We can now extend our program to minimize $C_{\\text{ridge}}(\\beta)$ using gradient descent and compare with the analytical solution given by"
   ]
  },
  {
   "cell_type": "markdown",
   "metadata": {},
   "source": [
    "$$\n",
    "\\beta_{\\text{ridge}} = \\left(X^T X + \\lambda I_{2 \\times 2} \\right)^{-1} X^T \\mathbf{y},\n",
    "$$"
   ]
  },
  {
   "cell_type": "markdown",
   "metadata": {},
   "source": [
    "for $\\lambda = {0,1,10,50,100}$ ($\\lambda = 0$ corresponds to ordinary least squares). \n",
    "We can then compute $||\\beta_{\\text{ridge}}||$ for each $\\lambda$."
   ]
  },
  {
   "cell_type": "code",
   "execution_count": 9,
   "metadata": {},
   "outputs": [],
   "source": [
    "import numpy as np\n",
    "\n",
    "\"\"\"\n",
    "The following setup is just a suggestion, feel free to write it the way you like.\n",
    "\"\"\"\n",
    "\n",
    "#Setup problem described in the exercise\n",
    "N  = 100 #Nr of datapoints\n",
    "M  = 2   #Nr of features\n",
    "x  = np.random.rand(N)\n",
    "y  = 5*x**2 + 0.1*np.random.randn(N)\n",
    "\n",
    "\n",
    "#Compute analytic beta for Ridge regression \n",
    "X    = np.c_[np.ones(N),x]\n",
    "XT_X = np.dot(X.T,X)\n",
    "\n",
    "l  = 0.1 #Ridge parameter lambda\n",
    "Id = np.eye(XT_X.shape[0])\n",
    "\n",
    "Z = np.linalg.inv(XT_X+l*Id)\n",
    "beta_ridge = np.dot(Z,np.dot(X.T,y))\n",
    "\n",
    "print(beta_ridge)\n",
    "print(np.linalg.norm(beta_ridge)) #||beta||"
   ]
  },
  {
   "cell_type": "markdown",
   "metadata": {},
   "source": [
    "## Automatic differentiation\n",
    "Python has tools for so-called **automatic differentiation**.\n",
    "Consider the following example"
   ]
  },
  {
   "cell_type": "markdown",
   "metadata": {},
   "source": [
    "$$\n",
    "f(x) = \\sin\\left(2\\pi x + x^2\\right)\n",
    "$$"
   ]
  },
  {
   "cell_type": "markdown",
   "metadata": {},
   "source": [
    "which has the following derivative"
   ]
  },
  {
   "cell_type": "markdown",
   "metadata": {},
   "source": [
    "$$\n",
    "f'(x) = \\cos\\left(2\\pi x + x^2\\right)\\left(2\\pi + 2x\\right)\n",
    "$$"
   ]
  },
  {
   "cell_type": "markdown",
   "metadata": {},
   "source": [
    "Using **autograd** we have"
   ]
  },
  {
   "cell_type": "code",
   "execution_count": 10,
   "metadata": {},
   "outputs": [],
   "source": [
    "import autograd.numpy as np\n",
    "\n",
    "# To do elementwise differentiation:\n",
    "from autograd import elementwise_grad as egrad \n",
    "\n",
    "# To plot:\n",
    "import matplotlib.pyplot as plt \n",
    "\n",
    "\n",
    "def f(x):\n",
    "    return np.sin(2*np.pi*x + x**2)\n",
    "\n",
    "def f_grad_analytic(x):\n",
    "    return np.cos(2*np.pi*x + x**2)*(2*np.pi + 2*x)\n",
    "\n",
    "# Do the comparison:\n",
    "x = np.linspace(0,1,1000)\n",
    "\n",
    "f_grad = egrad(f)\n",
    "\n",
    "computed = f_grad(x)\n",
    "analytic = f_grad_analytic(x)\n",
    "\n",
    "plt.title('Derivative computed from Autograd compared with the analytical derivative')\n",
    "plt.plot(x,computed,label='autograd')\n",
    "plt.plot(x,analytic,label='analytic')\n",
    "\n",
    "plt.xlabel('x')\n",
    "plt.ylabel('y')\n",
    "plt.legend()\n",
    "\n",
    "plt.show()\n",
    "\n",
    "print(\"The max absolute difference is: %g\"%(np.max(np.abs(computed - analytic))))"
   ]
  },
  {
   "cell_type": "markdown",
   "metadata": {},
   "source": [
    "<!-- !split  -->\n",
    "## Using autograd\n",
    "\n",
    "Here we\n",
    "experiment with what kind of functions Autograd is capable\n",
    "of finding the gradient of. The following Python functions are just\n",
    "meant to illustrate what Autograd can do, but please feel free to\n",
    "experiment with other, possibly more complicated, functions as well."
   ]
  },
  {
   "cell_type": "code",
   "execution_count": 11,
   "metadata": {},
   "outputs": [],
   "source": [
    "import autograd.numpy as np\n",
    "from autograd import grad\n",
    "\n",
    "def f1(x):\n",
    "    return x**3 + 1\n",
    "\n",
    "f1_grad = grad(f1)\n",
    "\n",
    "# Remember to send in float as argument to the computed gradient from Autograd!\n",
    "a = 1.0\n",
    "\n",
    "# See the evaluated gradient at a using autograd:\n",
    "print(\"The gradient of f1 evaluated at a = %g using autograd is: %g\"%(a,f1_grad(a)))\n",
    "\n",
    "# Compare with the analytical derivative, that is f1'(x) = 3*x**2 \n",
    "grad_analytical = 3*a**2\n",
    "print(\"The gradient of f1 evaluated at a = %g by finding the analytic expression is: %g\"%(a,grad_analytical))"
   ]
  },
  {
   "cell_type": "markdown",
   "metadata": {},
   "source": [
    "## Autograd with more complicated functions\n",
    "\n",
    "To differentiate with respect to two (or more) arguments of a Python\n",
    "function, Autograd need to know at which variable the function if\n",
    "being differentiated with respect to."
   ]
  },
  {
   "cell_type": "code",
   "execution_count": 12,
   "metadata": {},
   "outputs": [],
   "source": [
    "import autograd.numpy as np\n",
    "from autograd import grad\n",
    "def f2(x1,x2):\n",
    "    return 3*x1**3 + x2*(x1 - 5) + 1\n",
    "\n",
    "# By sending the argument 0, Autograd will compute the derivative w.r.t the first variable, in this case x1\n",
    "f2_grad_x1 = grad(f2,0)\n",
    "\n",
    "# ... and differentiate w.r.t x2 by sending 1 as an additional arugment to grad\n",
    "f2_grad_x2 = grad(f2,1)\n",
    "\n",
    "x1 = 1.0\n",
    "x2 = 3.0 \n",
    "\n",
    "print(\"Evaluating at x1 = %g, x2 = %g\"%(x1,x2))\n",
    "print(\"-\"*30)\n",
    "\n",
    "# Compare with the analytical derivatives:\n",
    "\n",
    "# Derivative of f2 w.r.t x1 is: 9*x1**2 + x2:\n",
    "f2_grad_x1_analytical = 9*x1**2 + x2\n",
    "\n",
    "# Derivative of f2 w.r.t x2 is: x1 - 5:\n",
    "f2_grad_x2_analytical = x1 - 5\n",
    "\n",
    "# See the evaluated derivations:\n",
    "print(\"The derivative of f2 w.r.t x1: %g\"%( f2_grad_x1(x1,x2) ))\n",
    "print(\"The analytical derivative of f2 w.r.t x1: %g\"%( f2_grad_x1(x1,x2) ))\n",
    "\n",
    "print()\n",
    "\n",
    "print(\"The derivative of f2 w.r.t x2: %g\"%( f2_grad_x2(x1,x2) ))\n",
    "print(\"The analytical derivative of f2 w.r.t x2: %g\"%( f2_grad_x2(x1,x2) ))"
   ]
  },
  {
   "cell_type": "markdown",
   "metadata": {},
   "source": [
    "Note that the grad function will not produce the true gradient of the function. The true gradient of a function with two or more variables will produce a vector, where each element is the function differentiated w.r.t a variable.\n",
    "\n",
    "\n",
    "## More complicated functions using the elements of their arguments directly"
   ]
  },
  {
   "cell_type": "code",
   "execution_count": 13,
   "metadata": {},
   "outputs": [],
   "source": [
    "import autograd.numpy as np\n",
    "from autograd import grad\n",
    "def f3(x): # Assumes x is an array of length 5 or higher\n",
    "    return 2*x[0] + 3*x[1] + 5*x[2] + 7*x[3] + 11*x[4]**2\n",
    "\n",
    "f3_grad = grad(f3)\n",
    "\n",
    "x = np.linspace(0,4,5)\n",
    "\n",
    "# Print the computed gradient:\n",
    "print(\"The computed gradient of f3 is: \", f3_grad(x))\n",
    "\n",
    "# The analytical gradient is: (2, 3, 5, 7, 22*x[4])\n",
    "f3_grad_analytical = np.array([2, 3, 5, 7, 22*x[4]])\n",
    "\n",
    "# Print the analytical gradient:\n",
    "print(\"The analytical gradient of f3 is: \", f3_grad_analytical)"
   ]
  },
  {
   "cell_type": "markdown",
   "metadata": {},
   "source": [
    "Note that in this case, when sending an array as input argument, the\n",
    "output from Autograd is another array. This is the true gradient of\n",
    "the function, as opposed to the function in the previous example. By\n",
    "using arrays to represent the variables, the output from Autograd\n",
    "might be easier to work with, as the output is closer to what one\n",
    "could expect form a gradient-evaluting function.\n",
    "\n",
    "<!-- !split  -->\n",
    "## Functions using mathematical functions from Numpy"
   ]
  },
  {
   "cell_type": "code",
   "execution_count": 14,
   "metadata": {},
   "outputs": [],
   "source": [
    "import autograd.numpy as np\n",
    "from autograd import grad\n",
    "def f4(x):\n",
    "    return np.sqrt(1+x**2) + np.exp(x) + np.sin(2*np.pi*x)\n",
    "\n",
    "f4_grad = grad(f4)\n",
    "\n",
    "x = 2.7\n",
    "\n",
    "# Print the computed derivative:\n",
    "print(\"The computed derivative of f4 at x = %g is: %g\"%(x,f4_grad(x)))\n",
    "\n",
    "# The analytical derivative is: x/sqrt(1 + x**2) + exp(x) + cos(2*pi*x)*2*pi\n",
    "f4_grad_analytical = x/np.sqrt(1 + x**2) + np.exp(x) + np.cos(2*np.pi*x)*2*np.pi\n",
    "\n",
    "# Print the analytical gradient:\n",
    "print(\"The analytical gradient of f4 at x = %g is: %g\"%(x,f4_grad_analytical))"
   ]
  },
  {
   "cell_type": "markdown",
   "metadata": {},
   "source": [
    "## More autograd"
   ]
  },
  {
   "cell_type": "code",
   "execution_count": 15,
   "metadata": {},
   "outputs": [],
   "source": [
    "import autograd.numpy as np\n",
    "from autograd import grad\n",
    "def f5(x):\n",
    "    if x >= 0:\n",
    "        return x**2\n",
    "    else:\n",
    "        return -3*x + 1\n",
    "\n",
    "f5_grad = grad(f5)\n",
    "\n",
    "x = 2.7\n",
    "\n",
    "# Print the computed derivative:\n",
    "print(\"The computed derivative of f5 at x = %g is: %g\"%(x,f5_grad(x)))"
   ]
  },
  {
   "cell_type": "markdown",
   "metadata": {},
   "source": [
    "## And  with loops"
   ]
  },
  {
   "cell_type": "markdown",
   "metadata": {},
   "source": [
    "1\n",
    "8\n",
    " \n",
    "<\n",
    "<\n",
    "<\n",
    "!\n",
    "!\n",
    "C\n",
    "O\n",
    "D\n",
    "E\n",
    "_\n",
    "B\n",
    "L\n",
    "O\n",
    "C\n",
    "K\n",
    " \n",
    " \n",
    "p\n",
    "y\n",
    "c\n",
    "o\n",
    "d"
   ]
  },
  {
   "cell_type": "code",
   "execution_count": 16,
   "metadata": {},
   "outputs": [],
   "source": [
    "import autograd.numpy as np\n",
    "from autograd import grad\n",
    "# Both of the functions are implementation of the sum: sum(x**i) for i = 0, ..., 9\n",
    "# The analytical derivative is: sum(i*x**(i-1)) \n",
    "f6_grad_analytical = 0\n",
    "for i in range(10):\n",
    "    f6_grad_analytical += i*x**(i-1)\n",
    "\n",
    "print(\"The analytical derivative of f6 at x = %g is: %g\"%(x,f6_grad_analytical))"
   ]
  },
  {
   "cell_type": "markdown",
   "metadata": {},
   "source": [
    "## Using recursion"
   ]
  },
  {
   "cell_type": "code",
   "execution_count": 17,
   "metadata": {},
   "outputs": [],
   "source": [
    "import autograd.numpy as np\n",
    "from autograd import grad\n",
    "\n",
    "def f7(n): # Assume that n is an integer\n",
    "    if n == 1 or n == 0:\n",
    "        return 1\n",
    "    else:\n",
    "        return n*f7(n-1)\n",
    "\n",
    "f7_grad = grad(f7)\n",
    "\n",
    "n = 2.0\n",
    "\n",
    "print(\"The computed derivative of f7 at n = %d is: %g\"%(n,f7_grad(n)))\n",
    "\n",
    "# The function f7 is an implementation of the factorial of n.\n",
    "# By using the product rule, one can find that the derivative is:\n",
    "\n",
    "f7_grad_analytical = 0\n",
    "for i in range(int(n)-1):\n",
    "    tmp = 1\n",
    "    for k in range(int(n)-1):\n",
    "        if k != i:\n",
    "            tmp *= (n - k)\n",
    "    f7_grad_analytical += tmp\n",
    "\n",
    "print(\"The analytical derivative of f7 at n = %d is: %g\"%(n,f7_grad_analytical))"
   ]
  },
  {
   "cell_type": "markdown",
   "metadata": {},
   "source": [
    "Note that if n is equal to zero or one, Autograd will give an error message. This message appears when the output is independent on input.\n",
    "\n",
    "## Unsupported functions\n",
    "Autograd supports many features. However, there are some functions that is not supported (yet) by Autograd.\n",
    "\n",
    "Assigning a value to the variable being differentiated with respect to"
   ]
  },
  {
   "cell_type": "code",
   "execution_count": 18,
   "metadata": {},
   "outputs": [],
   "source": [
    "import autograd.numpy as np\n",
    "from autograd import grad\n",
    "def f8(x): # Assume x is an array\n",
    "    x[2] = 3\n",
    "    return x*2\n",
    "\n",
    "f8_grad = grad(f8)\n",
    "\n",
    "x = 8.4\n",
    "\n",
    "print(\"The derivative of f8 is:\",f8_grad(x))"
   ]
  },
  {
   "cell_type": "markdown",
   "metadata": {},
   "source": [
    "Here, Autograd tells us that an 'ArrayBox' does not support item assignment. The item assignment is done when the program tries to assign x[2] to the value 3. However, Autograd has implemented the computation of the derivative such that this assignment is not possible.\n",
    "\n",
    "## The syntax a.dot(b) when finding the dot product"
   ]
  },
  {
   "cell_type": "code",
   "execution_count": 19,
   "metadata": {},
   "outputs": [],
   "source": [
    "import autograd.numpy as np\n",
    "from autograd import grad\n",
    "def f9(a): # Assume a is an array with 2 elements\n",
    "    b = np.array([1.0,2.0])\n",
    "    return a.dot(b)\n",
    "\n",
    "f9_grad = grad(f9)\n",
    "\n",
    "x = np.array([1.0,0.0])\n",
    "\n",
    "print(\"The derivative of f9 is:\",f9_grad(x))"
   ]
  },
  {
   "cell_type": "markdown",
   "metadata": {},
   "source": [
    "Here we are told that the 'dot' function does not belong to Autograd's\n",
    "version of a Numpy array.  To overcome this, an alternative syntax\n",
    "which also computed the dot product can be used:"
   ]
  },
  {
   "cell_type": "code",
   "execution_count": 20,
   "metadata": {},
   "outputs": [],
   "source": [
    "import autograd.numpy as np\n",
    "from autograd import grad\n",
    "def f9_alternative(x): # Assume a is an array with 2 elements\n",
    "    b = np.array([1.0,2.0])\n",
    "    return np.dot(x,b) # The same as x_1*b_1 + x_2*b_2\n",
    "\n",
    "f9_alternative_grad = grad(f9_alternative)\n",
    "\n",
    "x = np.array([3.0,0.0])\n",
    "\n",
    "print(\"The gradient of f9 is:\",f9_alternative_grad(x))\n",
    "\n",
    "# The analytical gradient of the dot product of vectors x and b with two elements (x_1,x_2) and (b_1, b_2) respectively\n",
    "# w.r.t x is (b_1, b_2)."
   ]
  },
  {
   "cell_type": "markdown",
   "metadata": {},
   "source": [
    "## Recommended to avoid\n",
    "The documentation recommends to avoid inplace operations such as"
   ]
  },
  {
   "cell_type": "code",
   "execution_count": 21,
   "metadata": {},
   "outputs": [],
   "source": [
    "a += b\n",
    "a -= b\n",
    "a*= b\n",
    "a /=b"
   ]
  },
  {
   "cell_type": "markdown",
   "metadata": {},
   "source": [
    "## Stochastic Gradient Descent\n",
    "\n",
    "Stochastic gradient descent (SGD) and variants thereof address some of\n",
    "the shortcomings of the Gradient descent method discussed above.\n",
    "\n",
    "The underlying idea of SGD comes from the observation that the cost\n",
    "function, which we want to minimize, can almost always be written as a\n",
    "sum over $n$ data points $\\{\\mathbf{x}_i\\}_{i=1}^n$,"
   ]
  },
  {
   "cell_type": "markdown",
   "metadata": {},
   "source": [
    "$$\n",
    "C(\\mathbf{\\beta}) = \\sum_{i=1}^n c_i(\\mathbf{x}_i,\n",
    "\\mathbf{\\beta}).\n",
    "$$"
   ]
  },
  {
   "cell_type": "markdown",
   "metadata": {},
   "source": [
    "## Computation of gradients\n",
    "\n",
    "This in turn means that the gradient can be\n",
    "computed as a sum over $i$-gradients"
   ]
  },
  {
   "cell_type": "markdown",
   "metadata": {},
   "source": [
    "$$\n",
    "\\nabla_\\beta C(\\mathbf{\\beta}) = \\sum_i^n \\nabla_\\beta c_i(\\mathbf{x}_i,\n",
    "\\mathbf{\\beta}).\n",
    "$$"
   ]
  },
  {
   "cell_type": "markdown",
   "metadata": {},
   "source": [
    "Stochasticity/randomness is introduced by only taking the\n",
    "gradient on a subset of the data called minibatches.  If there are $n$\n",
    "data points and the size of each minibatch is $M$, there will be $n/M$\n",
    "minibatches. We denote these minibatches by $B_k$ where\n",
    "$k=1,\\cdots,n/M$.\n",
    "\n",
    "## SGD example\n",
    "As an example, suppose we have $10$ data points $(\\mathbf{x}_1,\\cdots, \\mathbf{x}_{10})$ \n",
    "and we choose to have $M=5$ minibathces,\n",
    "then each minibatch contains two data points. In particular we have\n",
    "$B_1 = (\\mathbf{x}_1,\\mathbf{x}_2), \\cdots, B_5 =\n",
    "(\\mathbf{x}_9,\\mathbf{x}_{10})$. Note that if you choose $M=1$ you\n",
    "have only a single batch with all data points and on the other extreme,\n",
    "you may choose $M=n$ resulting in a minibatch for each datapoint, i.e\n",
    "$B_k = \\mathbf{x}_k$.\n",
    "\n",
    "The idea is now to approximate the gradient by replacing the sum over\n",
    "all data points with a sum over the data points in one the minibatches\n",
    "picked at random in each gradient descent step"
   ]
  },
  {
   "cell_type": "markdown",
   "metadata": {},
   "source": [
    "$$\n",
    "\\nabla_{\\beta}\n",
    "C(\\mathbf{\\beta}) = \\sum_{i=1}^n \\nabla_\\beta c_i(\\mathbf{x}_i,\n",
    "\\mathbf{\\beta}) \\rightarrow \\sum_{i \\in B_k}^n \\nabla_\\beta\n",
    "c_i(\\mathbf{x}_i, \\mathbf{\\beta}).\n",
    "$$"
   ]
  },
  {
   "cell_type": "markdown",
   "metadata": {},
   "source": [
    "## The gradient step\n",
    "\n",
    "Thus a gradient descent step now looks like"
   ]
  },
  {
   "cell_type": "markdown",
   "metadata": {},
   "source": [
    "$$\n",
    "\\beta_{j+1} = \\beta_j - \\gamma_j \\sum_{i \\in B_k}^n \\nabla_\\beta c_i(\\mathbf{x}_i,\n",
    "\\mathbf{\\beta})\n",
    "$$"
   ]
  },
  {
   "cell_type": "markdown",
   "metadata": {},
   "source": [
    "where $k$ is picked at random with equal\n",
    "probability from $[1,n/M]$. An iteration over the number of\n",
    "minibathces (n/M) is commonly referred to as an epoch. Thus it is\n",
    "typical to choose a number of epochs and for each epoch iterate over\n",
    "the number of minibatches, as exemplified in the code below.\n",
    "\n",
    "## Simple example code"
   ]
  },
  {
   "cell_type": "code",
   "execution_count": 22,
   "metadata": {},
   "outputs": [],
   "source": [
    "import numpy as np \n",
    "\n",
    "n = 100 #100 datapoints \n",
    "M = 5   #size of each minibatch\n",
    "m = int(n/M) #number of minibatches\n",
    "n_epochs = 10 #number of epochs\n",
    "\n",
    "j = 0\n",
    "for epoch in range(1,n_epochs+1):\n",
    "    for i in range(m):\n",
    "        k = np.random.randint(m) #Pick the k-th minibatch at random\n",
    "        #Compute the gradient using the data in minibatch Bk\n",
    "        #Compute new suggestion for \n",
    "        j += 1"
   ]
  },
  {
   "cell_type": "markdown",
   "metadata": {},
   "source": [
    "Taking the gradient only on a subset of the data has two important\n",
    "benefits. First, it introduces randomness which decreases the chance\n",
    "that our opmization scheme gets stuck in a local minima. Second, if\n",
    "the size of the minibatches are small relative to the number of\n",
    "datapoints ($M <  n$), the computation of the gradient is much\n",
    "cheaper since we sum over the datapoints in the $k-th$ minibatch and not\n",
    "all $n$ datapoints.\n",
    "\n",
    "## When do we stop?\n",
    "\n",
    "A natural question is when do we stop the search for a new minimum?\n",
    "One possibility is to compute the full gradient after a given number\n",
    "of epochs and check if the norm of the gradient is smaller than some\n",
    "threshold and stop if true. However, the condition that the gradient\n",
    "is zero is valid also for local minima, so this would only tell us\n",
    "that we are close to a local/global minimum. However, we could also\n",
    "evaluate the cost function at this point, store the result and\n",
    "continue the search. If the test kicks in at a later stage we can\n",
    "compare the values of the cost function and keep the $\\beta$ that\n",
    "gave the lowest value.\n",
    "\n",
    "## Slightly different approach\n",
    "\n",
    "Another approach is to let the step length $\\gamma_j$ depend on the\n",
    "number of epochs in such a way that it becomes very small after a\n",
    "reasonable time such that we do not move at all.\n",
    "\n",
    "As an example, let $e = 0,1,2,3,\\cdots$ denote the current epoch and let $t_0, t_1 > 0$ be two fixed numbers. Furthermore, let $t = e \\cdot m + i$ where $m$ is the number of minibatches and $i=0,\\cdots,m-1$. Then the function $$\\gamma_j(t; t_0, t_1) = \\frac{t_0}{t+t_1} $$ goes to zero as the number of epochs gets large. I.e. we start with a step length $\\gamma_j (0; t_0, t_1) = t_0/t_1$ which decays in *time* $t$.\n",
    "\n",
    "In this way we can fix the number of epochs, compute $\\beta$ and\n",
    "evaluate the cost function at the end. Repeating the computation will\n",
    "give a different result since the scheme is random by design. Then we\n",
    "pick the final $\\beta$ that gives the lowest value of the cost\n",
    "function."
   ]
  },
  {
   "cell_type": "code",
   "execution_count": 23,
   "metadata": {},
   "outputs": [],
   "source": [
    "import numpy as np \n",
    "\n",
    "def step_length(t,t0,t1):\n",
    "    return t0/(t+t1)\n",
    "\n",
    "n = 100 #100 datapoints \n",
    "M = 5   #size of each minibatch\n",
    "m = int(n/M) #number of minibatches\n",
    "n_epochs = 500 #number of epochs\n",
    "t0 = 1.0\n",
    "t1 = 10\n",
    "\n",
    "gamma_j = t0/t1\n",
    "j = 0\n",
    "for epoch in range(1,n_epochs+1):\n",
    "    for i in range(m):\n",
    "        k = np.random.randint(m) #Pick the k-th minibatch at random\n",
    "        #Compute the gradient using the data in minibatch Bk\n",
    "        #Compute new suggestion for beta\n",
    "        t = epoch*m+i\n",
    "        gamma_j = step_length(t,t0,t1)\n",
    "        j += 1\n",
    "\n",
    "print(\"gamma_j after %d epochs: %g\" % (n_epochs,gamma_j))"
   ]
  },
  {
   "cell_type": "markdown",
   "metadata": {},
   "source": [
    "## Program for stochastic gradient"
   ]
  },
  {
   "cell_type": "code",
   "execution_count": 7,
   "metadata": {},
   "outputs": [
    {
     "name": "stdout",
     "output_type": "stream",
     "text": [
      "Own inversion\n",
      "[[4.174749  ]\n",
      " [2.83220009]]\n",
      "sgdreg from scikit\n",
      "[4.22088326] [2.87667941]\n",
      "theta frm own gd\n",
      "[[4.174749  ]\n",
      " [2.83220009]]\n",
      "theta from own sdg\n",
      "[[4.20289933]\n",
      " [2.87429278]]\n"
     ]
    },
    {
     "name": "stderr",
     "output_type": "stream",
     "text": [
      "/usr/local/lib/python3.7/site-packages/sklearn/linear_model/stochastic_gradient.py:130: DeprecationWarning: n_iter parameter is deprecated in 0.19 and will be removed in 0.21. Use max_iter and tol instead.\n",
      "  DeprecationWarning)\n"
     ]
    },
    {
     "data": {
      "image/png": "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\n",
      "text/plain": [
       "<Figure size 432x288 with 1 Axes>"
      ]
     },
     "metadata": {},
     "output_type": "display_data"
    }
   ],
   "source": [
    "# Importing various packages\n",
    "from math import exp, sqrt\n",
    "from random import random, seed\n",
    "import numpy as np\n",
    "import matplotlib.pyplot as plt\n",
    "from sklearn.linear_model import SGDRegressor\n",
    "\n",
    "x = 2*np.random.rand(100,1)\n",
    "y = 4+3*x+np.random.randn(100,1)\n",
    "\n",
    "xb = np.c_[np.ones((100,1)), x]\n",
    "theta_linreg = np.linalg.inv(xb.T.dot(xb)).dot(xb.T).dot(y)\n",
    "print(\"Own inversion\")\n",
    "print(theta_linreg)\n",
    "sgdreg = SGDRegressor(n_iter = 50, penalty=None, eta0=0.1)\n",
    "sgdreg.fit(x,y.ravel())\n",
    "print(\"sgdreg from scikit\")\n",
    "print(sgdreg.intercept_, sgdreg.coef_)\n",
    "\n",
    "\n",
    "theta = np.random.randn(2,1)\n",
    "\n",
    "eta = 0.1\n",
    "Niterations = 1000\n",
    "m = 100\n",
    "\n",
    "for iter in range(Niterations):\n",
    "    gradients = 2.0/m*xb.T.dot(xb.dot(theta)-y)\n",
    "    theta -= eta*gradients\n",
    "print(\"theta frm own gd\")\n",
    "print(theta)\n",
    "\n",
    "xnew = np.array([[0],[2]])\n",
    "xbnew = np.c_[np.ones((2,1)), xnew]\n",
    "ypredict = xbnew.dot(theta)\n",
    "ypredict2 = xbnew.dot(theta_linreg)\n",
    "\n",
    "\n",
    "n_epochs = 50\n",
    "t0, t1 = 5, 50\n",
    "m = 100\n",
    "def learning_schedule(t):\n",
    "    return t0/(t+t1)\n",
    "\n",
    "theta = np.random.randn(2,1)\n",
    "\n",
    "for epoch in range(n_epochs):\n",
    "    for i in range(m):\n",
    "        random_index = np.random.randint(m)\n",
    "        xi = xb[random_index:random_index+1]\n",
    "        yi = y[random_index:random_index+1]\n",
    "        gradients = 2 * xi.T.dot(xi.dot(theta)-yi)\n",
    "        eta = learning_schedule(epoch*m+i)\n",
    "        theta = theta - eta*gradients\n",
    "print(\"theta from own sdg\")\n",
    "print(theta)\n",
    "\n",
    "\n",
    "\n",
    "\n",
    "\n",
    "\n",
    "plt.plot(xnew, ypredict, \"r-\")\n",
    "plt.plot(xnew, ypredict2, \"b-\")\n",
    "plt.plot(x, y ,'ro')\n",
    "plt.axis([0,2.0,0, 15.0])\n",
    "plt.xlabel(r'$x$')\n",
    "plt.ylabel(r'$y$')\n",
    "plt.title(r'Random numbers ')\n",
    "plt.show()"
   ]
  },
  {
   "cell_type": "markdown",
   "metadata": {},
   "source": [
    "## Using gradient descent methods, limitations\n",
    "\n",
    "* **Gradient descent (GD) finds local minima of our function**. Since the GD algorithm is deterministic, if it converges, it will converge to a local minimum of our energy function. Because in ML we are often dealing with extremely rugged landscapes with many local minima, this can lead to poor performance.\n",
    "\n",
    "* **GD is sensitive to initial conditions**. One consequence of the local nature of GD is that initial conditions matter. Depending on where one starts, one will end up at a different local minima. Therefore, it is very important to think about how one initializes the training process. This is true for GD as well as more complicated variants of GD.\n",
    "\n",
    "* **Gradients are computationally expensive to calculate for large datasets**. In many cases in statistics and ML, the energy function is a sum of terms, with one term for each data point. For example, in linear regression, $E \\propto \\sum_{i=1}^n (y_i - \\mathbf{w}^T\\cdot\\mathbf{x}_i)^2$; for logistic regression, the square error is replaced by the cross entropy. To calculate the gradient we have to sum over *all* $n$ data points. Doing this at every GD step becomes extremely computationally expensive. An ingenious solution to this, is to calculate the gradients using small subsets of the data called \"mini batches\". This has the added benefit of introducing stochasticity into our algorithm.\n",
    "\n",
    "* **GD is very sensitive to choices of learning rates**. GD is extremely sensitive to the choice of learning rates. If the learning rate is very small, the training process take an extremely long time. For larger learning rates, GD can diverge and give poor results. Furthermore, depending on what the local landscape looks like, we have to modify the learning rates to ensure convergence. Ideally, we would *adaptively* choose the learning rates to match the landscape.\n",
    "\n",
    "* **GD treats all directions in parameter space uniformly.** Another major drawback of GD is that unlike Newton's method, the learning rate for GD is the same in all directions in parameter space. For this reason, the maximum learning rate is set by the behavior of the steepest direction and this can significantly slow down training. Ideally, we would like to take large steps in flat directions and small steps in steep directions. Since we are exploring rugged landscapes where curvatures change, this requires us to keep track of not only the gradient but second derivatives. The ideal scenario would be to calculate the Hessian but this proves to be too computationally expensive. \n",
    "\n",
    "* GD can take exponential time to escape saddle points, even with random initialization. As we mentioned, GD is extremely sensitive to initial condition since it determines the particular local minimum GD would eventually reach. However, even with a good initialization scheme, through the introduction of randomness, GD can still take exponential time to escape saddle points.\n",
    "\n",
    "## Momentum based GD\n",
    "\n",
    "The stochastic gradient descent (SGD) is almost always used with a *momentum* or inertia term that serves as a memory of the direction we are moving in parameter space.  This is typically \n",
    "implemented as follows"
   ]
  },
  {
   "cell_type": "markdown",
   "metadata": {},
   "source": [
    "$$\n",
    "\\mathbf{v}_{t}=\\gamma \\mathbf{v}_{t-1}+\\eta_{t}\\nabla_\\theta E(\\boldsymbol{\\theta}_t) \\nonumber\n",
    "$$"
   ]
  },
  {
   "cell_type": "markdown",
   "metadata": {},
   "source": [
    "<!-- Equation labels as ordinary links -->\n",
    "<div id=\"_auto1\"></div>\n",
    "\n",
    "$$\n",
    "\\begin{equation} \n",
    "\\boldsymbol{\\theta}_{t+1}= \\boldsymbol{\\theta}_t -\\mathbf{v}_{t},\n",
    "\\label{_auto1} \\tag{2}\n",
    "\\end{equation}\n",
    "$$"
   ]
  },
  {
   "cell_type": "markdown",
   "metadata": {},
   "source": [
    "where we have introduced a momentum parameter $\\gamma$, with $0\\le\\gamma\\le 1$, and for brevity we dropped the explicit notation to indicate the gradient is to be taken over a different mini-batch at each step. We call this algorithm gradient descent with momentum (GDM). From these equations, it is clear that $\\mathbf{v}_t$ is a running average of recently encountered gradients and $(1-\\gamma)^{-1}$ sets the characteristic time scale for the memory used in the averaging procedure. Consistent with this, when $\\gamma=0$, this just reduces down to ordinary SGD as discussed earlier. An equivalent way of writing the updates is"
   ]
  },
  {
   "cell_type": "markdown",
   "metadata": {},
   "source": [
    "$$\n",
    "\\Delta \\boldsymbol{\\theta}_{t+1} = \\gamma \\Delta \\boldsymbol{\\theta}_t -\\ \\eta_{t}\\nabla_\\theta E(\\boldsymbol{\\theta}_t),\n",
    "$$"
   ]
  },
  {
   "cell_type": "markdown",
   "metadata": {},
   "source": [
    "where we have defined $\\Delta \\boldsymbol{\\theta}_{t}= \\boldsymbol{\\theta}_t-\\boldsymbol{\\theta}_{t-1}$.\n",
    "\n",
    "## More on momentum based approaches\n",
    "\n",
    "Let us try to get  more intuition from these equations. It is helpful to consider a simple physical analogy with a particle of mass $m$ moving in a viscous medium with drag coefficient $\\mu$ and potential \n",
    "$E(\\mathbf{w})$. If we denote the particle's position by $\\mathbf{w}$, then its motion is described by"
   ]
  },
  {
   "cell_type": "markdown",
   "metadata": {},
   "source": [
    "$$\n",
    "m {d^2 \\mathbf{w} \\over dt^2} + \\mu {d \\mathbf{w} \\over dt }= -\\nabla_w E(\\mathbf{w}).\n",
    "$$"
   ]
  },
  {
   "cell_type": "markdown",
   "metadata": {},
   "source": [
    "We can discretize this equation in the usual way to get"
   ]
  },
  {
   "cell_type": "markdown",
   "metadata": {},
   "source": [
    "$$\n",
    "m { \\mathbf{w}_{t+\\Delta t}-2 \\mathbf{w}_{t} +\\mathbf{w}_{t-\\Delta t} \\over (\\Delta t)^2}+\\mu {\\mathbf{w}_{t+\\Delta t}- \\mathbf{w}_{t} \\over \\Delta t} = -\\nabla_w E(\\mathbf{w}).\n",
    "$$"
   ]
  },
  {
   "cell_type": "markdown",
   "metadata": {},
   "source": [
    "Rearranging this equation, we can rewrite this as"
   ]
  },
  {
   "cell_type": "markdown",
   "metadata": {},
   "source": [
    "$$\n",
    "\\Delta \\mathbf{w}_{t +\\Delta t}= - { (\\Delta t)^2 \\over m +\\mu \\Delta t} \\nabla_w E(\\mathbf{w})+ {m \\over m +\\mu \\Delta t} \\Delta \\mathbf{w}_t.\n",
    "$$"
   ]
  },
  {
   "cell_type": "markdown",
   "metadata": {},
   "source": [
    "## Momentum parameter\n",
    "Notice that this equation is identical to previous one if we identify the position of the particle, $\\mathbf{w}$, with the parameters $\\boldsymbol{\\theta}$. This allows\n",
    "us to identify the momentum parameter and learning rate with the mass of the particle and the viscous drag as:"
   ]
  },
  {
   "cell_type": "markdown",
   "metadata": {},
   "source": [
    "$$\n",
    "\\gamma= {m \\over m +\\mu \\Delta t }, \\qquad \\eta = {(\\Delta t)^2 \\over m +\\mu \\Delta t}.\n",
    "$$"
   ]
  },
  {
   "cell_type": "markdown",
   "metadata": {},
   "source": [
    "Thus, as the name suggests, the momentum parameter is proportional to the mass of the particle and effectively provides inertia.  Furthermore, in the large viscosity/small learning rate limit, our memory time scales as $(1-\\gamma)^{-1} \\approx  m/(\\mu \\Delta t)$.\n",
    "\n",
    "Why is momentum useful? SGD momentum helps the gradient descent algorithm gain speed in directions with persistent but small gradients even in the presence of stochasticity, while suppressing oscillations in high-curvature directions. This becomes especially important in situations where the landscape is shallow and flat in some directions and narrow and steep in others. It has been argued that first-order methods (with appropriate initial conditions) can perform comparable to more expensive second order methods, especially in the context of complex deep learning models. \n",
    "\n",
    "These beneficial properties of momentum can sometimes become even more pronounced by using a slight modification of the classical momentum algorithm called Nesterov Accelerated Gradient (NAG). \n",
    "\n",
    "In the NAG algorithm, rather than calculating the gradient at the current parameters, $\\nabla_\\theta E(\\boldsymbol{\\theta}_t)$, one calculates the gradient at the expected value of the parameters given our current momentum,   $\\nabla_\\theta E(\\boldsymbol{\\theta}_t +\\gamma \\mathbf{v}_{t-1})$. This yields the NAG update rule"
   ]
  },
  {
   "cell_type": "markdown",
   "metadata": {},
   "source": [
    "$$\n",
    "\\mathbf{v}_{t}=\\gamma \\mathbf{v}_{t-1}+\\eta_{t}\\nabla_\\theta E(\\boldsymbol{\\theta}_t +\\gamma \\mathbf{v}_{t-1}) \\nonumber\n",
    "$$"
   ]
  },
  {
   "cell_type": "markdown",
   "metadata": {},
   "source": [
    "<!-- Equation labels as ordinary links -->\n",
    "<div id=\"_auto2\"></div>\n",
    "\n",
    "$$\n",
    "\\begin{equation} \n",
    "\\boldsymbol{\\theta}_{t+1}= \\boldsymbol{\\theta}_t -\\mathbf{v}_{t}.\n",
    "\\label{_auto2} \\tag{3}\n",
    "\\end{equation}\n",
    "$$"
   ]
  },
  {
   "cell_type": "markdown",
   "metadata": {},
   "source": [
    "One of the major advantages of NAG is that it allows for the use of a larger learning rate than GDM for the same choice of $\\gamma$.\n",
    "\n",
    "\n",
    "## Second moment of the gradient\n",
    "\n",
    "\n",
    "In stochastic gradient descent, with and without momentum, we still\n",
    "have to specify a schedule for tuning the learning rates $\\eta_t$\n",
    "as a function of time.  As discussed in the context of Newton's\n",
    "method, this presents a number of dilemmas. The learning rate is\n",
    "limited by the steepest direction which can change depending on the\n",
    "current position in the landscape. To circumvent this problem, ideally\n",
    "our algorithm would keep track of curvature and take large steps in\n",
    "shallow, flat directions and small steps in steep, narrow directions.\n",
    "Second-order methods accomplish this by calculating or approximating\n",
    "the Hessian and normalizing the learning rate by the\n",
    "curvature. However, this is very computationally expensive for\n",
    "extremely large models. Ideally, we would like to be able to\n",
    "adaptively change the step size to match the landscape without paying\n",
    "the steep computational price of calculating or approximating\n",
    "Hessians.\n",
    "\n",
    "Recently, a number of methods have been introduced that accomplish this by tracking not only the gradient, but also the second moment of the gradient. These methods include AdaGrad, AdaDelta, RMS-Prop, and ADAM.\n",
    "\n",
    "## RMS prop\n",
    "\n",
    "In RMS prop, in addition to keeping a running average of the first moment of the gradient, we also keep track of the second moment denoted by $\\mathbf{s}_t=\\mathbb{E}[\\mathbf{g}_t^2]$. The update rule for RMS prop is given by"
   ]
  },
  {
   "cell_type": "markdown",
   "metadata": {},
   "source": [
    "<!-- Equation labels as ordinary links -->\n",
    "<div id=\"_auto3\"></div>\n",
    "\n",
    "$$\n",
    "\\begin{equation}\n",
    "\\mathbf{g}_t = \\nabla_\\theta E(\\boldsymbol{\\theta}) \n",
    "\\label{_auto3} \\tag{4}\n",
    "\\end{equation}\n",
    "$$"
   ]
  },
  {
   "cell_type": "markdown",
   "metadata": {},
   "source": [
    "$$\n",
    "\\mathbf{s}_t =\\beta \\mathbf{s}_{t-1} +(1-\\beta)\\mathbf{g}_t^2 \\nonumber\n",
    "$$"
   ]
  },
  {
   "cell_type": "markdown",
   "metadata": {},
   "source": [
    "$$\n",
    "\\boldsymbol{\\theta}_{t+1}=\\boldsymbol{\\theta}_t - \\eta_t { \\mathbf{g}_t \\over \\sqrt{\\mathbf{s}_t +\\epsilon}}, \\nonumber\n",
    "$$"
   ]
  },
  {
   "cell_type": "markdown",
   "metadata": {},
   "source": [
    "where $\\beta$ controls the averaging time of the second moment and is typically taken to be about $\\beta=0.9$, $\\eta_t$ is a learning rate typically chosen to be $10^{-3}$, and $\\epsilon\\sim 10^{-8} $ is a small regularization constant to prevent divergences. Multiplication and division by vectors is understood as an element-wise operation. It is clear from this formula that the learning rate is reduced in directions where the norm of the gradient is consistently large. This greatly speeds up the convergence by allowing us to use a larger learning rate for flat directions.\n",
    "\n",
    "\n",
    "## ADAM optimizer\n",
    "\n",
    "A related algorithm is the  ADAM optimizer. In ADAM, we keep a running average of both the first and second moment of the gradient and use this information to adaptively change the learning rate for different parameters. In addition to keeping a running average of the first and second moments of the gradient (i.e. $\\mathbf{m}_t=\\mathbb{E}[\\mathbf{g}_t]$ and $\\mathbf{s}_t=\\mathbb{E}[\\mathbf{g}^2_t]$, respectively), ADAM performs an additional bias correction to account for the fact that we are estimating the first two moments of the gradient using a running average (denoted by the hats in the update rule below). The update rule for ADAM is given by (where multiplication and division are once again understood to be element-wise operations below)"
   ]
  },
  {
   "cell_type": "markdown",
   "metadata": {},
   "source": [
    "<!-- Equation labels as ordinary links -->\n",
    "<div id=\"_auto4\"></div>\n",
    "\n",
    "$$\n",
    "\\begin{equation}\n",
    "\\mathbf{g}_t = \\nabla_\\theta E(\\boldsymbol{\\theta}) \n",
    "\\label{_auto4} \\tag{5}\n",
    "\\end{equation}\n",
    "$$"
   ]
  },
  {
   "cell_type": "markdown",
   "metadata": {},
   "source": [
    "$$\n",
    "\\mathbf{m}_t = \\beta_1 \\mathbf{m}_{t-1} + (1-\\beta_1) \\mathbf{g}_t \\nonumber\n",
    "$$"
   ]
  },
  {
   "cell_type": "markdown",
   "metadata": {},
   "source": [
    "$$\n",
    "\\mathbf{s}_t =\\beta_2 \\mathbf{s}_{t-1} +(1-\\beta_2)\\mathbf{g}_t^2 \\nonumber\n",
    "$$"
   ]
  },
  {
   "cell_type": "markdown",
   "metadata": {},
   "source": [
    "$$\n",
    "\\hat{\\mathbf{m}}_t={\\mathbf{m}_t \\over 1-\\beta_1^t} \\nonumber\n",
    "$$"
   ]
  },
  {
   "cell_type": "markdown",
   "metadata": {},
   "source": [
    "$$\n",
    "\\hat{\\mathbf{s}}_t ={\\mathbf{s}_t \\over1-\\beta_2^t} \\nonumber\n",
    "$$"
   ]
  },
  {
   "cell_type": "markdown",
   "metadata": {},
   "source": [
    "$$\n",
    "\\boldsymbol{\\theta}_{t+1}=\\boldsymbol{\\theta}_t - \\eta_t { \\hat{\\mathbf{m}}_t \\over \\sqrt{\\hat{\\mathbf{s}}_t} +\\epsilon}, \\nonumber\n",
    "$$"
   ]
  },
  {
   "cell_type": "markdown",
   "metadata": {},
   "source": [
    "<!-- Equation labels as ordinary links -->\n",
    "<div id=\"_auto5\"></div>\n",
    "\n",
    "$$\n",
    "\\begin{equation} \n",
    "\\label{_auto5} \\tag{6}\n",
    "\\end{equation}\n",
    "$$"
   ]
  },
  {
   "cell_type": "markdown",
   "metadata": {},
   "source": [
    "where $\\beta_1$ and $\\beta_2$ set the memory lifetime of the first and second moment and are typically taken to be $0.9$ and $0.99$ respectively, and $\\eta$ and $\\epsilon$ are identical to RMSprop.\n",
    "\n",
    "Like in RMSprop, the effective step size of a parameter depends on the magnitude of its gradient squared.  To understand this better, let us rewrite this expression in terms of the variance $\\boldsymbol{\\sigma}_t^2 = \\hat{\\mathbf{s}}_t - (\\hat{\\mathbf{m}}_t)^2$. Consider a single parameter $\\theta_t$. The update rule for this parameter is given by"
   ]
  },
  {
   "cell_type": "markdown",
   "metadata": {},
   "source": [
    "$$\n",
    "\\Delta \\theta_{t+1}= -\\eta_t { \\hat{m}_t \\over \\sqrt{\\sigma_t^2 +  m_t^2 }+\\epsilon}.\n",
    "$$"
   ]
  },
  {
   "cell_type": "markdown",
   "metadata": {},
   "source": [
    "## Practical tips\n",
    "\n",
    "* **Randomize the data when making mini-batches**. It is always important to randomly shuffle the data when forming mini-batches. Otherwise, the gradient descent method can fit spurious correlations resulting from the order in which data is presented.\n",
    "\n",
    "* **Transform your inputs**. Learning becomes difficult when our landscape has a mixture of steep and flat directions. One simple trick for minimizing these situations is to standardize the data by subtracting the mean and normalizing the variance of input variables. Whenever possible, also decorrelate the inputs. To understand why this is helpful, consider the case of linear regression. It is easy to show that for the squared error cost function, the Hessian of the energy matrix is just the correlation matrix between the inputs. Thus, by standardizing the inputs, we are ensuring that the landscape looks homogeneous in all directions in parameter space. Since most deep networks can be viewed as linear transformations followed by a non-linearity at each layer, we expect this intuition to hold beyond the linear case.\n",
    "\n",
    "* **Monitor the out-of-sample performance.** Always monitor the performance of your model on a validation set (a small portion of the training data that is held out of the training process to serve as a proxy for the test set. If the validation error starts increasing, then the model is beginning to overfit. Terminate the learning process. This *early stopping* significantly improves performance in many settings.\n",
    "\n",
    "* **Adaptive optimization methods don't always have good generalization.** Recent studies have shown that adaptive methods such as ADAM, RMSPorp, and AdaGrad tend to have poor generalization compared to SGD or SGD with momentum, particularly in the high-dimensional limit (i.e. the number of parameters exceeds the number of data points). Although it is not clear at this stage why these methods perform so well in training deep neural networks, simpler procedures like properly-tuned SGD may work as well or better in these applications.\n",
    "\n",
    "Geron's text, see chapter 11, has several interesting discussions."
   ]
  }
 ],
 "metadata": {
  "kernelspec": {
   "display_name": "Python 3",
   "language": "python",
   "name": "python3"
  },
  "language_info": {
   "codemirror_mode": {
    "name": "ipython",
    "version": 3
   },
   "file_extension": ".py",
   "mimetype": "text/x-python",
   "name": "python",
   "nbconvert_exporter": "python",
   "pygments_lexer": "ipython3",
<<<<<<< Updated upstream
<<<<<<< Updated upstream
<<<<<<< Updated upstream
<<<<<<< Updated upstream
<<<<<<< Updated upstream
<<<<<<< Updated upstream
<<<<<<< Updated upstream
   "version": "3.7.3"
=======
   "version": "3.7.1"
>>>>>>> Stashed changes
=======
   "version": "3.7.1"
>>>>>>> Stashed changes
=======
   "version": "3.7.1"
>>>>>>> Stashed changes
=======
   "version": "3.7.1"
>>>>>>> Stashed changes
=======
   "version": "3.7.1"
>>>>>>> Stashed changes
=======
   "version": "3.7.1"
>>>>>>> Stashed changes
=======
   "version": "3.7.1"
>>>>>>> Stashed changes
  }
 },
 "nbformat": 4,
 "nbformat_minor": 2
}
