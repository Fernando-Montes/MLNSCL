{
 "cells": [
  {
   "cell_type": "markdown",
   "metadata": {},
   "source": [
    "<!-- dom:TITLE: Data Analysis and Machine Learning: Logistic Regression -->\n",
    "# Data Analysis and Machine Learning: Logistic Regression\n",
    "<!-- dom:AUTHOR: Morten Hjorth-Jensen at Department of Physics, University of Oslo & Department of Physics and Astronomy and National Superconducting Cyclotron Laboratory, Michigan State University -->\n",
    "<!-- Author: -->  \n",
    "**Morten Hjorth-Jensen**, Department of Physics, University of Oslo and Department of Physics and Astronomy and National Superconducting Cyclotron Laboratory, Michigan State University\n",
    "\n",
    "Date: **Mar 11, 2019**\n",
    "\n",
    "Copyright 1999-2019, Morten Hjorth-Jensen. Released under CC Attribution-NonCommercial 4.0 license\n",
    "\n",
    "\n",
    "\n",
    "\n",
    "<!-- !split  -->\n",
    "## Logistic Regression\n",
    "\n",
    "In linear regression our main interest was centered on learning the\n",
    "coefficients of a functional fit (say a polynomial) in order to be\n",
    "able to predict the response of a continuous variable on some unseen\n",
    "data. The fit to the continuous variable $y_i$ is based on some\n",
    "independent variables $\\hat{x}_i$. Linear regression resulted in\n",
    "analytical expressions (in terms of matrices to invert) for several\n",
    "quantities, ranging from the variance and thereby the confidence\n",
    "intervals of the parameters $\\hat{\\beta}$ to the mean squared\n",
    "error. If we can invert the product of the design matrices, linear\n",
    "regression gives then a simple recipe for fitting our data.\n",
    "\n",
    "\n",
    "Classification problems, however, are concerned with outcomes taking\n",
    "the form of discrete variables (i.e. categories). We may for example,\n",
    "on the basis of DNA sequencing for a number of patients, like to find\n",
    "out which mutations are important for a certain disease; or based on\n",
    "scans of various patients' brains, figure out if there is a tumor or\n",
    "not; or given a specific physical system, we'd like to identify its\n",
    "state, say whether it is an ordered or disordered system (typical\n",
    "situation in solid state physics); or classify the status of a\n",
    "patient, whether she/he has a stroke or not and many other similar\n",
    "situations.\n",
    "\n",
    "The most common situation we encounter when we apply logistic\n",
    "regression is that of two possible outcomes, normally denoted as a\n",
    "binary outcome, true or false, positive or negative, success or\n",
    "failure etc.\n",
    "\n",
    "## Optimization and Deep learning\n",
    "\n",
    "Logistic regression will also serve as our stepping stone towards neural\n",
    "network algorithms and supervised deep learning. For logistic\n",
    "learning, the minimization of the cost function leads to a non-linear\n",
    "equation in the parameters $\\hat{\\beta}$. The optmization of the problem calls therefore for minimization algorithms. This forms the bottle neck of all machine learning algorithms, namely how to find reliable minima of a multi-variable function. This leads us to the family of gradient descent methods. The latter are the working horses of basically all modern machine learning algorithms. \n",
    "\n",
    "We note also that many of the topics discussed here \n",
    "regression are also commonly used in modern supervised Deep Learning\n",
    "models, as we will see later.\n",
    "\n",
    "\n",
    "<!-- !split  -->\n",
    "## Basics\n",
    "\n",
    "We consider the case where the dependent variables, also called the\n",
    "responses or the outcomes, $y_i$ are discrete and only take values\n",
    "from $k=0,\\dots,K-1$ (i.e. $K$ classes).\n",
    "\n",
    "The goal is to predict the\n",
    "output classes from the design matrix $\\hat{X}\\in\\mathbb{R}^{n\\times p}$\n",
    "made of $n$ samples, each of which carries $p$ features or predictors. The\n",
    "primary goal is to identify the classes to which new unseen samples\n",
    "belong.\n",
    "\n",
    "Let us specialize to the case of two classes only, with outputs $y_i=0$ and $y_i=1$. Our outcomes could represent the status of a credit card user who could default or not on her/his credit card debt. That is"
   ]
  },
  {
   "cell_type": "markdown",
   "metadata": {},
   "source": [
    "$$\n",
    "y_i = \\begin{bmatrix} 0 & \\mathrm{no}\\\\  1 & \\mathrm{yes} \\end{bmatrix}.\n",
    "$$"
   ]
  },
  {
   "cell_type": "markdown",
   "metadata": {},
   "source": [
    "## Linear classifier\n",
    "\n",
    "Before moving to the logistic model, let us try to use our linear regression model to classify these two outcomes. We could for example fit a linear model to the default case if $y_i > 0.5$ and the no default case $y_i \\leq 0.5$. \n",
    "\n",
    "We would then have our \n",
    "weighted linear combination, namely"
   ]
  },
  {
   "cell_type": "markdown",
   "metadata": {},
   "source": [
    "<!-- Equation labels as ordinary links -->\n",
    "<div id=\"_auto1\"></div>\n",
    "\n",
    "$$\n",
    "\\begin{equation}\n",
    "\\hat{y} = \\hat{X}^T\\hat{\\beta} +  \\hat{\\epsilon},\n",
    "\\label{_auto1} \\tag{1}\n",
    "\\end{equation}\n",
    "$$"
   ]
  },
  {
   "cell_type": "markdown",
   "metadata": {},
   "source": [
    "where $\\hat{y}$ is a vector representing the possible outcomes, $\\hat{X}$ is our\n",
    "$n\\times p$ design matrix and $\\hat{\\beta}$ represents our estimators/predictors.\n",
    "\n",
    "## Some selected properties\n",
    "\n",
    "The main problem with our  function is that it \n",
    "takes values on the entire real axis. In the case of\n",
    "logistic regression, however, the labels $y_i$ are discrete\n",
    "variables. \n",
    "\n",
    "One simple way to get a discrete output is to have sign\n",
    "functions that map the output of a linear regressor to values $\\{0,1\\}$,\n",
    "$f(s_i)=sign(s_i)=1$ if $s_i\\ge 0$ and 0 if otherwise. \n",
    "We will encounter this model in our first demonstration of neural networks. Historically it is called the \"perceptron\" model in the machine learning\n",
    "literature. This model is extremely simple. However, in many cases it is more\n",
    "favorable to use a ``soft\" classifier that outputs\n",
    "the probability of a given category. This leads us to the logistic function.\n",
    "\n",
    "The code for plotting the perceptron can be seen here. This si nothing but the standard [Heaviside step function](https://en.wikipedia.org/wiki/Heaviside_step_function)."
   ]
  },
  {
   "cell_type": "markdown",
   "metadata": {},
   "source": [
    "## The logistic function\n",
    "\n",
    "The perceptron is an example of a ``hard classification\" model. We\n",
    "will encounter this model when we discuss neural networks as\n",
    "well. Each datapoint is deterministically assigned to a category (i.e\n",
    "$y_i=0$ or $y_i=1$). In many cases, it is favorable to have a \"soft\"\n",
    "classifier that outputs the probability of a given category rather\n",
    "than a single value. For example, given $x_i$, the classifier\n",
    "outputs the probability of being in a category $k$.  Logistic regression\n",
    "is the most common example of a so-called soft classifier. In logistic\n",
    "regression, the probability that a data point $x_i$\n",
    "belongs to a category $y_i=\\{0,1\\}$ is given by the so-called logit function (or Sigmoid) which is meant to represent the likelihood for a given event,"
   ]
  },
  {
   "cell_type": "markdown",
   "metadata": {},
   "source": [
    "$$\n",
    "p(t) = \\frac{1}{1+\\mathrm \\exp{-t}}=\\frac{\\exp{t}}{1+\\mathrm \\exp{t}}.\n",
    "$$"
   ]
  },
  {
   "cell_type": "markdown",
   "metadata": {},
   "source": [
    "Note that $1-p(t)= p(-t)$.\n",
    "The following code plots the logistic function."
   ]
  },
  {
   "cell_type": "markdown",
   "metadata": {},
   "source": [
    "## Two parameters\n",
    "\n",
    "We assume now that we have two classes with $y_i$ either $0$ or $1$. Furthermore we assume also that we have only two parameters $\\beta$ in our fitting of the Sigmoid function, that is we define probabilities"
   ]
  },
  {
   "cell_type": "markdown",
   "metadata": {},
   "source": [
    "$$\n",
    "\\begin{align*}\n",
    "p(y_i=1|x_i,\\hat{\\beta}) &= \\frac{\\exp{(\\beta_0+\\beta_1x_i)}}{1+\\exp{(\\beta_0+\\beta_1x_i)}},\\nonumber\\\\\n",
    "p(y_i=0|x_i,\\hat{\\beta}) &= 1 - p(y_i=1|x_i,\\hat{\\beta}),\n",
    "\\end{align*}\n",
    "$$"
   ]
  },
  {
   "cell_type": "markdown",
   "metadata": {},
   "source": [
    "where $\\hat{\\beta}$ are the weights we wish to extract from data, in our case $\\beta_0$ and $\\beta_1$. \n",
    "\n",
    "Note that we used"
   ]
  },
  {
   "cell_type": "markdown",
   "metadata": {},
   "source": [
    "$$\n",
    "p(y_i=0\\vert x_i, \\hat{\\beta}) = 1-p(y_i=1\\vert x_i, \\hat{\\beta}).\n",
    "$$"
   ]
  },
  {
   "cell_type": "markdown",
   "metadata": {},
   "source": [
    "<!-- !split  -->\n",
    "## Maximum likelihood\n",
    "\n",
    "In order to define the total likelihood for all possible outcomes from a  \n",
    "dataset $\\mathcal{D}=\\{(y_i,x_i)\\}$, with the binary labels\n",
    "$y_i\\in\\{0,1\\}$ and where the data points are drawn independently, we use the so-called [Maximum Likelihood Estimation](https://en.wikipedia.org/wiki/Maximum_likelihood_estimation) (MLE) principle. \n",
    "We aim thus at maximizing \n",
    "the probability of seeing the observed data. We can then approximate the \n",
    "likelihood in terms of the product of the individual probabilities of a specific outcome $y_i$, that is"
   ]
  },
  {
   "cell_type": "markdown",
   "metadata": {},
   "source": [
    "$$\n",
    "\\begin{align*}\n",
    "P(\\mathcal{D}|\\hat{\\beta})& = \\prod_{i=1}^n \\left[p(y_i=1|x_i,\\hat{\\beta})\\right]^{y_i}\\left[1-p(y_i=1|x_i,\\hat{\\beta}))\\right]^{1-y_i}\\nonumber \\\\\n",
    "\\end{align*}\n",
    "$$"
   ]
  },
  {
   "cell_type": "markdown",
   "metadata": {},
   "source": [
    "from which we obtain the log-likelihood and our **cost/loss** function"
   ]
  },
  {
   "cell_type": "markdown",
   "metadata": {},
   "source": [
    "$$\n",
    "\\mathcal{C}(\\hat{\\beta}) = \\sum_{i=1}^n \\left( y_i\\log{p(y_i=1|x_i,\\hat{\\beta})} + (1-y_i)\\log\\left[1-p(y_i=1|x_i,\\hat{\\beta}))\\right]\\right).\n",
    "$$"
   ]
  },
  {
   "cell_type": "markdown",
   "metadata": {},
   "source": [
    "## The cost function rewritten\n",
    "\n",
    "Reordering the logarithms, we can rewrite the **cost/loss** function as"
   ]
  },
  {
   "cell_type": "markdown",
   "metadata": {},
   "source": [
    "$$\n",
    "\\mathcal{C}(\\hat{\\beta}) = \\sum_{i=1}^n  \\left(y_i(\\beta_0+\\beta_1x_i) -\\log{(1+\\exp{(\\beta_0+\\beta_1x_i)})}\\right).\n",
    "$$"
   ]
  },
  {
   "cell_type": "markdown",
   "metadata": {},
   "source": [
    "The maximum likelihood estimator is defined as the set of parameters that maximize the log-likelihood where we maximize with respect to $\\beta$.\n",
    "Since the cost (error) function is just the negative log-likelihood, for logistic regression we have that"
   ]
  },
  {
   "cell_type": "markdown",
   "metadata": {},
   "source": [
    "$$\n",
    "\\mathcal{C}(\\hat{\\beta})=-\\sum_{i=1}^n  \\left(y_i(\\beta_0+\\beta_1x_i) -\\log{(1+\\exp{(\\beta_0+\\beta_1x_i)})}\\right).\n",
    "$$"
   ]
  },
  {
   "cell_type": "markdown",
   "metadata": {},
   "source": [
    "This equation is known in statistics as the **cross entropy**. Finally, we note that just as in linear regression, \n",
    "in practice we often supplement the cross-entropy with additional regularization terms, usually $L_1$ and $L_2$ regularization as we did for Ridge and Lasso regression.\n",
    "\n",
    "## Minimizing the cross entropy\n",
    "\n",
    "The cross entropy is a convex function of the weights $\\hat{\\beta}$ and,\n",
    "therefore, any local minimizer is a global minimizer. \n",
    "\n",
    "\n",
    "Minimizing this\n",
    "cost function with respect to the two parameters $\\beta_0$ and $\\beta_1$ we obtain"
   ]
  },
  {
   "cell_type": "markdown",
   "metadata": {},
   "source": [
    "$$\n",
    "\\frac{\\partial \\mathcal{C}(\\hat{\\beta})}{\\partial \\beta_0} = -\\sum_{i=1}^n  \\left(y_i -\\frac{\\exp{(\\beta_0+\\beta_1x_i)}}{1+\\exp{(\\beta_0+\\beta_1x_i)}}\\right),\n",
    "$$"
   ]
  },
  {
   "cell_type": "markdown",
   "metadata": {},
   "source": [
    "and"
   ]
  },
  {
   "cell_type": "markdown",
   "metadata": {},
   "source": [
    "$$\n",
    "\\frac{\\partial \\mathcal{C}(\\hat{\\beta})}{\\partial \\beta_1} = -\\sum_{i=1}^n  \\left(y_ix_i -x_i\\frac{\\exp{(\\beta_0+\\beta_1x_i)}}{1+\\exp{(\\beta_0+\\beta_1x_i)}}\\right).\n",
    "$$"
   ]
  },
  {
   "cell_type": "markdown",
   "metadata": {},
   "source": [
    "## A more compact expression\n",
    "\n",
    "Let us now define a vector $\\hat{y}$ with $n$ elements $y_i$, an\n",
    "$n\\times p$ matrix $\\hat{X}$ which contains the $x_i$ values and a\n",
    "vector $\\hat{p}$ of fitted probabilities $p(y_i\\vert x_i,\\hat{\\beta})$. We can rewrite in a more compact form the first\n",
    "derivative of cost function as"
   ]
  },
  {
   "cell_type": "markdown",
   "metadata": {},
   "source": [
    "$$\n",
    "\\frac{\\partial \\mathcal{C}(\\hat{\\beta})}{\\partial \\hat{\\beta}} = -\\hat{X}^T\\left(\\hat{y}-\\hat{p}\\right).\n",
    "$$"
   ]
  },
  {
   "cell_type": "markdown",
   "metadata": {},
   "source": [
    "If we in addition define a diagonal matrix $\\hat{W}$ with elements \n",
    "$p(y_i\\vert x_i,\\hat{\\beta})(1-p(y_i\\vert x_i,\\hat{\\beta})$, we can obtain a compact expression of the second derivative as"
   ]
  },
  {
   "cell_type": "markdown",
   "metadata": {},
   "source": [
    "$$\n",
    "\\frac{\\partial^2 \\mathcal{C}(\\hat{\\beta})}{\\partial \\hat{\\beta}\\partial \\hat{\\beta}^T} = \\hat{X}^T\\hat{W}\\hat{X}.\n",
    "$$"
   ]
  },
  {
   "cell_type": "markdown",
   "metadata": {},
   "source": [
    "## Extending to more predictors\n",
    "\n",
    "Within a binary classification problem, we can easily expand our model to include multiple predictors. Our ratio between likelihoods is then with $p$ predictors"
   ]
  },
  {
   "cell_type": "markdown",
   "metadata": {},
   "source": [
    "$$\n",
    "\\log{ \\frac{p(\\hat{\\beta}\\hat{x})}{1-p(\\hat{\\beta}\\hat{x})}} = \\beta_0+\\beta_1x_1+\\beta_2x_2+\\dots+\\beta_px_p.\n",
    "$$"
   ]
  },
  {
   "cell_type": "markdown",
   "metadata": {},
   "source": [
    "Here we defined $\\hat{x}=[1,x_1,x_2,\\dots,x_p]$ and $\\hat{\\beta}=[\\beta_0, \\beta_1, \\dots, \\beta_p]$ leading to"
   ]
  },
  {
   "cell_type": "markdown",
   "metadata": {},
   "source": [
    "$$\n",
    "p(\\hat{\\beta}\\hat{x})=\\frac{ \\exp{(\\beta_0+\\beta_1x_1+\\beta_2x_2+\\dots+\\beta_px_p)}}{1+\\exp{(\\beta_0+\\beta_1x_1+\\beta_2x_2+\\dots+\\beta_px_p)}}.\n",
    "$$"
   ]
  },
  {
   "cell_type": "markdown",
   "metadata": {},
   "source": [
    "## Including more classes\n",
    "\n",
    "Till now we have mainly focused on two classes, the so-called binary system. Suppose we wish to extend to $K$ classes.\n",
    "Let us for the sake of simplicity assume we have only two predictors. We have then following model"
   ]
  },
  {
   "cell_type": "markdown",
   "metadata": {},
   "source": [
    "1\n",
    "5\n",
    " \n",
    "<\n",
    "<\n",
    "<\n",
    "!\n",
    "!\n",
    "M\n",
    "A\n",
    "T\n",
    "H\n",
    "_\n",
    "B\n",
    "L\n",
    "O\n",
    "C\n",
    "K"
   ]
  },
  {
   "cell_type": "markdown",
   "metadata": {},
   "source": [
    "$$\n",
    "\\log{\\frac{p(C=2\\vert x)}{p(K\\vert x)}} = \\beta_{20}+\\beta_{21}x_1,\n",
    "$$"
   ]
  },
  {
   "cell_type": "markdown",
   "metadata": {},
   "source": [
    "and so on till the class $C=K-1$ class"
   ]
  },
  {
   "cell_type": "markdown",
   "metadata": {},
   "source": [
    "$$\n",
    "\\log{\\frac{p(C=K-1\\vert x)}{p(K\\vert x)}} = \\beta_{(K-1)0}+\\beta_{(K-1)1}x_1,\n",
    "$$"
   ]
  },
  {
   "cell_type": "markdown",
   "metadata": {},
   "source": [
    "and the model is specified in term of $K-1$ so-called log-odds or **logit** transformations.\n",
    "\n",
    "\n",
    "## The Softmax function\n",
    "\n",
    "In our discussion of neural networks we will encounter the above again in terms of the so-called **Softmax** function.\n",
    "\n",
    "The softmax function is used in various multiclass classification\n",
    "methods, such as multinomial logistic regression (also known as\n",
    "softmax regression), multiclass linear discriminant\n",
    "analysis, naive Bayes classifiers, and artificial neural networks.\n",
    "Specifically, in multinomial logistic regression and linear\n",
    "discriminant analysis, the input to the function is the result of $K$\n",
    "distinct linear functions, and the predicted probability for the $k$-th\n",
    "class given a sample vector $\\hat{x}$ and a weighting vector $\\hat{\\beta}$ is (with two predictors):"
   ]
  },
  {
   "cell_type": "markdown",
   "metadata": {},
   "source": [
    "$$\n",
    "p(C=k\\vert \\mathbf {x} )=\\frac{\\exp{(\\beta_{k0}+\\beta_{k1}x_1)}}{1+\\sum_{l=1}^{K-1}\\exp{(\\beta_{l0}+\\beta_{l1}x_1)}}.\n",
    "$$"
   ]
  },
  {
   "cell_type": "markdown",
   "metadata": {},
   "source": [
    "It is easy to extend to more predictors. The final class is"
   ]
  },
  {
   "cell_type": "markdown",
   "metadata": {},
   "source": [
    "$$\n",
    "p(C=K\\vert \\mathbf {x} )=\\frac{1}{1+\\sum_{l=1}^{K-1}\\exp{(\\beta_{l0}+\\beta_{l1}x_1)}},\n",
    "$$"
   ]
  },
  {
   "cell_type": "markdown",
   "metadata": {},
   "source": [
    "and they sum to one. Our earlier discussions were all specialized to the case with two classes only. It is easy to see from the above that what we derived earlier is compatible with these equations. \n",
    "\n",
    "To find the optimal parameters we would typically use a gradient descent method.\n",
    "Newton's method and gradient descent methods are discussed in the material on [optimization methods](https://compphysics.github.io/MachineLearning/doc/pub/Splines/html/Splines-bs.html). \n",
    "\n",
    "\n",
    "\n",
    "## A **scikit-learn** example"
   ]
  },
  {
   "cell_type": "code",
   "execution_count": 1,
   "metadata": {},
   "outputs": [
    {
     "name": "stderr",
     "output_type": "stream",
     "text": [
      "/anaconda3/lib/python3.7/site-packages/sklearn/linear_model/logistic.py:433: FutureWarning: Default solver will be changed to 'lbfgs' in 0.22. Specify a solver to silence this warning.\n",
      "  FutureWarning)\n"
     ]
    },
    {
     "data": {
      "image/png": "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\n",
      "text/plain": [
       "<Figure size 432x288 with 1 Axes>"
      ]
     },
     "metadata": {
      "needs_background": "light"
     },
     "output_type": "display_data"
    }
   ],
   "source": [
    "%matplotlib inline\n",
    "\n",
    "import numpy as np\n",
    "import matplotlib.pyplot as plt\n",
    "from sklearn import datasets\n",
    "iris = datasets.load_iris()\n",
    "list(iris.keys())\n",
    "['data', 'target_names', 'feature_names', 'target', 'DESCR']\n",
    "X = iris[\"data\"][:, 3:] # petal width\n",
    "y = (iris[\"target\"] == 2).astype(np.int) # 1 if Iris-Virginica, else 0\n",
    "\n",
    "from sklearn.linear_model import LogisticRegression\n",
    "log_reg = LogisticRegression()\n",
    "log_reg.fit(X, y)\n",
    "\n",
    "X_new = np.linspace(0, 3, 1000).reshape(-1, 1)\n",
    "y_proba = log_reg.predict_proba(X_new)\n",
    "plt.plot(X_new, y_proba[:, 1], \"g-\", label=\"Iris-Virginica\")\n",
    "plt.plot(X_new, y_proba[:, 0], \"b--\", label=\"Not Iris-Virginica\")\n",
    "plt.show()"
   ]
  },
  {
   "cell_type": "markdown",
   "metadata": {},
   "source": [
    "## A simple classification problem"
   ]
  },
  {
   "cell_type": "code",
   "execution_count": 3,
   "metadata": {},
   "outputs": [
    {
     "data": {
      "image/png": "iVBORw0KGgoAAAANSUhEUgAAAX8AAAD8CAYAAACfF6SlAAAABHNCSVQICAgIfAhkiAAAAAlwSFlzAAALEgAACxIB0t1+/AAAADl0RVh0U29mdHdhcmUAbWF0cGxvdGxpYiB2ZXJzaW9uIDMuMC4wLCBodHRwOi8vbWF0cGxvdGxpYi5vcmcvqOYd8AAAIABJREFUeJzsvWmQbOlZ3/l733NOrpVbVdZ2t7q3b3erW1JLLSQkdYMYCSxQyx4WgwETjrEdjpDHDONZHDEGYsJ2+MvYjL/Yg8OgwRqb+QCYEeC2AQFCmE2SUUvqRVt33+6+W93al9zzbO87H05mVmXlyVqztlvvL6L7VmWezHMql+d93mf5P0JrjcFgMBguFvK0L8BgMBgMJ48x/gaDwXABMcbfYDAYLiDG+BsMBsMFxBh/g8FguIAY428wGAwXEGP8DQaD4QJijL/BYDBcQIzxNxgMhguIfdoXMIyindAzTua0L8NgMBjOFa+2K6ta68m9jjuzxn/GyfCpR7/ztC/DYDAYzhXf8bXfvrOf40zYx2AwGC4gxvgbDAbDBcQYf4PBYLiAGONvMBgMFxBj/A0Gg+ECYoy/wWAwXECM8TcYDIYLiDH+BoPBcAExxt9gMBguIMb4GwwGwwXEGH+DwWC4gBjjbzAYDBcQY/wNBoPhAmKMv8FgMFxAjPE3GAyGC4gx/gaDwXABMcbfYDAYLiAjMf5CiE8JIZaFEF8bcv+HhRAVIcSLnf/+0SjOazAYDIbDMaoxjv8O+Hngl3c55k+11n9lROczGAwGwxEYieevtf4TYH0Uz2UwGAyG4+ckY/7PCCFeEkL8rhDiHSd4XoPBYDDsYFRhn734CjCnta4LIT4O/Bbw2M6DhBCfAD4BMO2kT+jSDAaD4eJxIp6/1rqqta53fv4dwBFClGOO+6TW+n1a6/cVrcRJXJrBYDBcSE7E+AshZoQQovPz+zvnXTuJcxsMBoNhkJGEfYQQvwJ8GCgLIe4D/xhwALTWvwD8CPD3hBAB0AJ+XGutR3Fug8FgMByckRh/rfVf3+P+nycqBTUYDAbDGcB0+BoMBsMFxBh/w7GiQo3vKUyUz2A4W5xUqafhgqGUZumBT60aAiAkTE07FErmI2cwnAXMN9FwLCzO+9RrIV2HX4ewtOBjO4LsmHVi1xEEmspmQOBrMlmLsZykU3hmMFxojPE3jJww0H2Gv4vWsLYSnJjxbzZC7t/xeueubIYkE4KrN5JIaRYAw8XGxPwNIycINAyxrb6naDbC6JhjRGvNg/seWrO1+1DgupqN9eBYz20wnAeM8TeMHCcx3KsOApi/6/Hma22WFrxeIljrKDEcjmhR8FyNCgdv1xqqmzF3GAwXDBP2MYwcKQXlSZvV5WAg9AOgVPRvZSMkkRQ4jmTxgdcz1pmsZPZKAss6fGhmt7C+CfkbDMbzNxwT42WH2SsJkimBHBLi1xrWV0Me3PMIA3ohmkZdMX/XPdL5nYTAdgatvBBQKJ1cwtlgOKsY4284NnJ5i+s3U9y4mRrqbYeBjt0dtFsaz1WHPrcQgstXE1hWVGYqRPRfdkxSNOWmBoMJ+xiOH8sGy4ri/TsRMioDHbhdgO9rEsnDnzeZkjzyeIpGTREEmnRGkkobf8dgAOP5G04AIQQzlxMD3r+0IJeXsZVBWkfG+6hIKcgVLEoTtjH8BsM2jOdvOBGyYxbXHkmysRrgeYp0RjI+4YCAerVNuM37FwKK4xa2bTKzBsNxYYy/4cRIpaIqnp3M3UyxtuzTqIdISzBetskXTjYp67qKejUEEeUqEgmzSzA83Bjjf0YIQ02tEuL7ilT65GUIatWQ1WWfwNckU5LJaZt05mQMsONEYaHTYnXFZ31lqyx1bTlgctqmNOEcy/m01rSaCretSSQEmTEjOWE4eYzxPwO4bcXdt9xeqaMQIYmE4NqNJPIIte77ZXMjYHnB7xm/VlNx77bH1euJE1sATgu3rfoMP0TvwcpSwFjewnFGuwMIQ8292y6ep0EDAmw7eq9NmMtwkpi97RngwX0PpbbJEGjwPM3aqn/s59Zas7rkx+rwrCw9/DIIteqgBlGXevXwpabDWFny8VyN7rzfWoHvaZYeeCM/l8GwG8b4nzKBr/G9QeujNVQrozc+O1EhhENO47aP//wXjVolfrGp18zMA8PJYsI+p81uMgQncHppRdU1cXYnrkP2MGitqdcUnqt6uj9hwEjr7rXWNOqKWiVESCiW9lfamStYrK8OylBoHf39YaCxtoVjatWQjbWAMNRkxyTjZedA4Rpj3w1nBWP8TxnbFiSSArfdbxWEgHzx+OPtQghK4zYba/0GUAgoTx094RkEmjtvuoRhFOrY/vwQddxeupo4UsJTa838PY9mXfX+hupmSHnKZry8+9+QTEomJm3WVgI0RHH4DovzkSpooWgxNeuwthL0LRSeF1KrhFx/NLVvHaKxnNUbcLOdTNYkfQ0niwn7nAEuXdmSIYDIMKbSUcnjSVCesilN2D0ZBMuCqVmbXP7oi8/SA4/A7zf80K/js7lxtNxCo65oNtRA0nZ1OdiXdPTEpMP1R5NMTtmkM6K3MHXzMJXNkLVlf3CHoCEMYfMAEtFTMw62vbX4dV/v6UvHU1lkMAzDeP5ngEQykiGo10ICX5NKS9KZk/MEhRBMTjuUp2xU2A0FHf3c3XDP7sdE6p6l8cMbv1o1HFhcujTrIfli/Mc8DDVhqHEcQSIhKU2IWCVSrWFjPYwNj3UXsInJ/V2r7QhuPJaiVg1ptxTJpCRfsE6kqstg2I4x/mcEKQX5wum+HUIIrFO4hKPGweWQ/asQIGImdqlQs/DAo9FZmISMPPJ8wRp6LUoNl4I+aImmlIJC0aZQPNDDDIaRYsI+DzHtlmJ50WN50aPdOvnKHSEEY7m9P2JH7eYtFO2hhjk7Nnj+hfnI8HdDTyqEpQc+raYikYx/olRaxN4nBJROKDxnMIySkRh/IcSnhBDLQoivDblfCCH+lRDilhDiZSHEt43ivIbhrCz53H3LZWMtZGMt5O5bLitLx983sJPp2QT2HhGdo+rrp9KSySm74+lHOwEp4fK1xMCs3iCIqoKGzReennViFxK3rZmacUimtm4TIsqNpI1gnOEcMqpP7b8DPrbL/c8Bj3X++wTwb0Z0XkMMblsNVO9oDRtrAe4hNPLDULO+5rMw77G+6hOG+4/T2I7gkUdTQxeASLr5wJc0QKnscOPRJNkxiRBR3qJRD1E7rjUI9NBdQuBrMlmLdHbwa6F1lLz2vG3hHxHlK5Qy9ZuG88dIjL/W+k+A9V0O+QHgl3XEF4GiEGJ2FOc2DFKvxTcSaR3ddxB8T/HW621WlwKqmyGrywFvvt7G8/a/iAgpdhVKs0dQ0aq1ZvGBT6OmCEMIfNhYC7nzltvXPJVIiKFx/a7Rbzfj/zbPo9eZC52B8G3Nxtre1T7dGcW+bxrnDGeDk9qvXgbubfv9fuc2wzEgBLEdYtE0q4MlJ5cWfMKwX3qiGyM/COPl+Lh8MiVwRqCg2WopWs3Bck/f7684klIwMTV4LVLCRDd2f4CXKOrE3n1BbbcUb73u8tYtt/Nv+0hTygyGUXCmgpVCiE8IIV4QQrywGRqtk8OSy1tD7ddBa/cb9XgjFdXV7z/ckR2zenF5Kbd6GS5fO8Korm20W/HjILWCVrPfOE9smy9s29Gwl7mbyd4iVChYBxryvtuhYRAJufm+7iWYPVfz1i2XjXXPSDoYTo2TKlOYB65u+/1K57Y+tNafBD4J8ES6aL4Vh8RJSKZnHZYWOt65ADRMzzo4B5RsGCb9gIjUP5Mpue/u1lLZoTBu47Y1ls1INfMdRyBlVJLZd5mCWGXOXN4auhCWpx1aLbXVdd1pxBIIfH+wE3u3hHV1iJYPwPJCSODB5MzpyVkbLi4nZfyfB35KCPGrwAeAitZ64YTOfSEplGyyOYtGJ8afzR1uMla+YMUbMA3zdyP5g/3IKHSRUpDOjL6haWxMRh3SMcY/TibD9xRrq0FU3pmIuqm78tVSRhLL7c4C4CQEmazEczV3b7s9NU4hIlmG4vjwr5HvD1YWbWdjPWS83K8fZDCcBCMx/kKIXwE+DJSFEPeBfww4AFrrXwB+B/g4cAtoAn97FOc17I5tCwql/b/Fga87Q9NFz5ufmnFw2wrXjSzYdkPW9bJXlwOSKUkmKzvVNOLEtelDBU4iEmLrYjtw+WpyYGfieYo7b7i96/dcTaPuMXPZ6TXaCSFIZyzSma3HJVOCm91O7ADSnU7s3UhnLDbXh3v/QkRTxDKjyHobDAdgJMZfa/3X97hfA//DKM51UdFa47kapSCVErGdq4dFKc3CfY9GXfXCPMVxi8lpB2kJrj0SecHNhmJ1ebCyRetoJoFga0FIpgSXriRGkszdC60192+7vQWqSxhE4ZqdrC4HA+EhrWF5wY/yJbsE/A/aiT2Wk7HCfdvPe9BQnMEwCkxr4jnAcxXzdz18f6tGffqSQyZjsbEe4LYVqXQUfjiMx7204Pcan7oe6uZ6iJMQlMadnhcMxMbVIaoA2k67FYVIHnksdewaRe2WjiZj7UDrSHRtZ0y92YivzglDeP2bbaSE0oTdqVCKkYdQmmZDoVTUF7Dbay5EFEJaXvSpbIQ77otkrU9igTQYdmKM/xlH66haJAi6v0f/Ls77gN+7rdmIGrvmHkmSSMYbk1ZLUVkPCBXk8pJcPtKyiRswEjWF9QuuJVPyQDo8YRhdV3bseEMavq96Se2duDGLgmX1h4e2oztKnWsrAb6nB2YLt5oh9+9ElWiRBLS/Z85DSsHMpQRjuZDFB15vocyOyd7ze26kbhr40W4hl7dGurszPPw8/VzHSMTqLAxijP8Zp9VUsZO24oy11pEXf/X6YPnkxqrPyjbFykYtZHMj5NJlJ85mAgwYSCkFUzM2y4uDypex6Mioue1oyIq0BMVxe+TD6VMpGWv4hYBMTEx+vGyz9GBwdGXfpXfq98vTuufZK6W5f8cb2PmsLgdkstaew2PGchY3H08RBNEOqpuLqFYCFue3rqdeC1lfC6IZzmYBMOxC6o/+au/nj/+Lmc5Pv7evxxrjf8bZjx79dpqNwZUiDHSf4YfIuLWbURzftgWBP3ieuGRmcdwhkZQ8uO8R7kPGfn0tIAy6i5Wm1fQojVsjLW9MJCVjOWugs9myiE145wsWvqdZXw0QIj6MBdHi4bkKu5OMbTZU7EKpNWxuBMyk9/6bhBA42zYJSumBhajbC7C5ETA+YXT+DRE9zx74uPz70Q//4vDPZ4z/GSedsUDvv5s2Tt642VSx9fpaQ62mmJ51eHDP67tfdmSO48hkLWYvJ3qlnnEIAYmkiIaV79QYWg8pTeiRjYkEmL3isLEm2FyPtHbG8hblSSe2B0EIQXnKoTRhs7bqs7EanwPQmr54/G4aPsMWkGForalXFasrfuxju+E4Y/wNXe9+y7MfDcb4n3EcR1Ac7y8XjGQa4huaCjE17cP07gEsGYUjrt1Isr7q47maVEYyUbZ3TURmxywmpmzWloPewrKlqikoliyajRC3HfPgToNY7ohSzn1PKQTjZWff/QZhqGm3FZtrw6UZsjnZV4mTycYvxEIcvHO6mwDeLfQkBFQ6U84O26dhOF90vfueZw9H8u53wxj/E0RrTa0SsrYaEAaadFYyOeUMTdB2mZx2SGcsNtYClNLkChaFosWDe36k099JdqYzkvJ0v/HTShMGOta7FAIK4zZK6ag08+rBpBYmyg7Fkk27pbAsQTIl+mL5vqeBeON6GkNjIHoPtlfeDDO+TgJmdyR7bVswOWX3hdC6jV77mVsAURhvdcmnsrm7HpAQ0Gpq2i0/en8XfKYvORSGTCUznF+6nv3/OmLPfi/MJ+kEWVsNWF/ZMhz1qqJZd5m7mdxV6kAIEStHcO1GEret8NyoMSuZ6n+OMNDcecsdiOd37XOhZLE07+G6UQnpWN5iejY+VDIMyxJDq3mK4zaVzUHv1pLx+YSTYG0l2NPjhsjLj0u2lsoO6azF5kaAVtFrtt8Edhho7rzR7lVu7cZ2Ib1uomHpgU82a400XGY4WU7Ss98LY/xPCKV0n+Hfuh3WV4KBksL9kkzJvgEj21lZ9jve9yBRDXzY93utGuL7irkbQ57wENc2c9npKYBqHen7X7mWOLH5xDvZWN9fpdJu5amptNxXcjfu3OHBFLUHqFVDShPma3ueOC3Pfi/Mp+iE8DredZzhaQ7Rj/c9xfpaQLsVhWXGy/aBxNBq1eGJzPg7wG1FsfBUajSeeb5gM5azcNsKKaNRiKdl+GGwGW0Y9Wp44Dj+XjRjJogdBA1GBfSM0/XsMz/3D/nwT7eiG0/Js98LY/xPCNsZPkQkkRg0hu224u5bLrqzLrRbUN0MuXYjuWc9eZfDmFgholh9ajTOP9AVczsb2jXJ1HCphe00hnQBHwXbEdA6/OMFUXLecLZ4+rmAb/1vP9rv2f/0Ed7oE8IY/xPCtgXZnOwNDu8iRNR0tJPlBb9n+Lt0RwnO3dyfZc4XdxcVi0NrSCZFr579vEaXlYqS3JbVP8Bmasbh/p3hJapdDpL32C/jZXvolLW96H5O9ioOMBwvsZ49nFnvfjeM8T9BZi8nWHrg98IxUsLUrBOVEO6gNSQU1G5rtNb7Cp2UpxxaDYXr6YGFJA4hIJFP8PvXP8KD9BRSa27W7/Ds2osk1ckPfz8MYahZnPeod4bQOI5g5tLWa5zJRmWtays+rqtRoR6IwwsBpfHRe9iptGTmUjRnodPzRiotSWcEG2uDi4LtbJWQ5gv2vnd8p0XFHuOLE+9mPj1NQvu8Y/N13l15FTm0h/x8cF49+70wxv8EkVIweyXBtIoMjm0PH6s4TEDtIKMYpYwUOZuNSGJBWiIa8BLzXbRsyI0n+Mx7fwjXTqKFJBRwa2yOjUSBH5r/7LnYBdx5s42/bQic70WSDNcf3aqoSqVlb4JYGGrm73q0W1uNcIWSdSAp7IOQL9rkChaeq5GWwHFETyjObeutfgkBV64lByq4zioNK8VvXPkovrTRQuLj8OXxd7CZyPORlb847cvbFQ0EwsLWIYLI2D8Mnv1eGON/Ckgpdm28gkhSeac3uNfUqDiEiEoxu9UrqZRk8YEXxb0F5HIW05ei8s6XCo/jWw5abOtqlRYbiTxLyQlm3LUDnfukWV3x+gx/F60jbaPJ6QRyRzjHsiLVTc9V+L4mmZLH3kwlRNQT0aU7PKbZULRbqjda8jzp+rxSeJxAWH2fnVDavDF2jfevv0I2PJue8hvZK7xw5T1UVBo7ASvZDBWRfig8+70wxv+MUp5y8L1I5KvrkWbHJJPTe3ew+r6i3YxGJaYz/TXoqbTk+s0USumBXcRaskgo4z8Sm4n8mTf+G7t0625uKDY32iQSgunLkRz2dhJJSWI044RpNkJWlwM8T5FMSspTzp59DTsX6fPGcmoCJQev3dIh64k82dbZMaZdz/5jP1Vhcr6G7PRd+G3Iuy2E1mxOZU/3Ik8AY/zPEJ6raDQUlhVVdVy6msD3NZ4bjRrcS/e9r3u1Y9NtS3D1+uBQlTivctLd4K3sVYKBBUBQ8ipH+dNGSrdLtl4LER0pidKEta8yTs/T3L/tcf3mcOnro1CvhX06Sc1Ace+2y5W5RGxu5yiEgWZ5yafeySHl8haTMwdr0hsVJa/CYqrc5/kDhEKSDxonfj1dbmcu8Y3r7+C+GMeagnsijycd+OkWM6st5I4QqNSQ22izWc7AOdp5HQZj/M8AWmuWF7a1/AsQ+FyZS0bDPpz9GY1aNdzqXu18qH2lmb/ncX0fFUKP127zldLbCbXsfYmlCplwN5ly1w/zp40cFe7okg01aysBrWaItPZXxx+JywVMz45+cPry4qBUtNbR7ddvjs74ax11b29v4qtshrSaiuuPJk+8l+Kpymu8lrtBsM34Wypkpr1Kwa+f6LV0K3L+WvUTjC81kG50e3AXpkWVpWt5vLSD7Q//sFihIozZyTxMGON/BmjUVb8Mgo5s9/xdl5tv2/8krI21+O5Vz9V4ntqzQSypfH7o/mf58/J7uJ+ZQWrFY7U7PLP20plJ9lY2B7tko2E2ekAAD6LXMe7ad458HAVa66Ed1aM+X72mYuW+/UDTqKsT7wco+nU+vvDH/Onk+9h0clGlWOMu37nylRM5f+qP/ir//rUULz1fjG7QmisrG7GefXG5yfJcAS9pkW7GaG0IQWifj0T7UTDG/wywOURyQOuo5HO/4YKhssK7aNbvJB80eG7xz/Z38Amx3YC3mjq+Tl5E/QkTkzbrqwFKQ2A5yMAfNP4C0unjWc6GVWmNej6721ax5btaRfedRjPYbHuVH733GTxhY2mFxQF1rvfJfvRxpNLIIRLcSTfyHjYnMyTvVvsWCCVgs5zeEsB6iDHG/xQIfN1L5I7lrKFNP0rBvdter8pnctrZtQIkl7dYXx1cSETHMJ4nNPBS4W28WHoSVybI+3WeXfsqmcTd+JGNHe39QslivGxzLzHJZy9/iJsvfZHJhTtYne2CAqSUfeMpR4UQgtKEPfAeCAHjk6P9qiUSIlYuREgOJAFyHCT0PpTrDsiAZ78HSoqhu76g49V7aYflq3mKy00SbkBoSyoTaRrFEba3n2GM8T9huuMUARDR2MV8USKawzV3tIbKRojn6tgRjV1KEzbVSkjg93vHhaJFdTMkO7Z/RUjfU2ysB3iuJp2WFA45HP6wvFB6By8Xn+gln6uJHH8w/Szf6weI9bsDr5WTEL2KGiEE69kygbR59envpJErcvmtb2EHPuuTl0hfymG33ziW656YjCSyt4vmjZdtiofsG2i3FMsLHq2WRlpQGreZmLQZy1vIJX9gmlo0n+F8hyxGonwpBLVSitxGe8Czr5TTvd/djMPS9cIRrvb8Yoz/CeK6qn+cYuff6qYilRa0W0NCGmyFgFw3Kh+Mw7IE128mqWwGkYiY0jSbXUMUAj6TUzalPQaetJqKe3e2dIWaDcX6esD1R5J7VhyNghDJy8W3DVQdhdLmq5NP8b1zSyzOe3gdqepMVjJ7uV8pNOfXsVWIbznce+xd3HvsXQDYyuc7V78CcUNmRoAQgqmZBOUpTRBE83/3qtf3XNWrXMrlt4a2eK7i7u2t90GFsL4a4Pua2csJ5h5JsvjAp9npZs6OSaYvJc7l4PeuZw/ws/v07vdiczIDRNU7AFoINifTNPMjquk95xjjf0BUqAlV9KU+aEVFrTJc1yVfsJiYlNRrIY1a1HC0k2imrCa5y2dXSkFp3CFf0LzxanvgfCvLAZkxa9fO0cUHXl88WWvQIaws+Qce+HIYWlaSYapCm06OdEZy47EUQaCRgoHGLYDrjQd8vhwQ6K3GI6EVtgp5pH7vOC8fiN6HOMG+nawsemx0ktRCwMqiz8xlh3zBZn0tiNV3qlVCJqc0jiO5OpfsKX3GfR611rSa0cyHZEqQSu9v9sBxMupZtEMRgs2pLJvlDFJplCX2juV334gLgDH++0QpzeJ8VFsOW7o8+cL+X0K9ywxYzVaTz4r0WF8LB+LaWkdzcfdD9zoHzqOhWgmYTMWXOSql8YZUpjTq/Zao3VKsdUc/piQTk6MRHkuHLmKIHsz4tn6D3cJQFoofnP8sfzT1AZZSZQAm2+t8ZOW/4uijKXaqUNMaMr3sILSaYc/ww1bYb3HeJztmRVPaYhACPE9hd0qAh50/DDT3brvRDqnz3MmU4OpcMnbBPE6Ow7PfN1KgdtsNac3YZpvCagsr1ASOZGMyQ+sh3yGMxPgLIT4G/EvAAn5Ja/3Pdtz/t4D/E5jv3PTzWutfGsW5T4oH9zyajS1FzjCMvqSOs3+54rG83fdl77tvW5y2NO5Eg8h3JA3TGTk05LMTrXbPIQxDdP8Xc8z2/p1GPewb4O65IbVayLXrwyWn38pc5i8mnqJmZyn4dd6//jJzzYWB4ywUT298k6+W3t4X+rFVwLdvfG34xe8gFzT5/gd/hC9sNKNJRG6s+6wsbs0ttm3BlbnEoRa9asyUMwBE9PqmUhK3PbhQab2/pO7Sgj9QYuq2NStLPtOXRt/j0OXEPPvDoDWppo/jhvhJi3bGIbfRprjS7OUGHF9RXqizIgXtseN7nU6bIxt/IYQF/Gvgo8B94EtCiOe11t/Yceivaa1/6qjnOw0CX/cZ/i5aR2MBr8ztz/inM1E1yvYxgkLAxJSN42x9mW0n0npZWvBpNRVCRknb/Ug7bD/XMDJjEs9VOI4YiA8LKcjlLGq1/p2HEFDalrRcWohpZlJRaCguKf1G9gp/NPWBnnzEerLIZ6ef5XuWvsD15oOB49+z+U0SyuerpSdpWSnGvQofXHuRmfbqfv78PpwRVZ+0moqVxShn0/3bfV9z747HI48dvLFq18p/HSWKq5VBfaex3N6Je6117DCfaOcXMn3pQJe6L37tF38COAXPfp/IUDF9pxo1d3VKgQJbYoU6th+gtNJkwRj/XXk/cEtr/SaAEOJXgR8Adhr/c4sfDJ/CFReb343p2QT5gqJWDRBEKo9x8fdkSnLtxuG3nY368NDG/N2o9l0IKE/bA2WP05cc/DuRymRPVygne+WKSg1vZhomRf3FiXcP6AYF0uaLE++ONf4CeGf1Fu+s3trlrzxZho2ADENNu6VJZw5m/PMFK97715DNWViW4Or1JEsLkRCfkFAsWUxOHa1MVWu4/UYbz9U4jqA87RxoalmsZw/w/JEu69gpLTVwvHArm6QjL38Ytjf6gT5niVEY/8vA9gzafeADMcf9sBDiu4DXgP9Faz2QdRNCfAL4BMC0k95596mRTAyfwnWYQeTpjCSdOV6PojUkXgz0Ooi1hpXFANuWfV9+yxLMPZKi3Vb4XpQo3B5m6EoOx70mVowN0UDdGYu9lOqQ288iYUxHLUQLVRgevIM3nZFkxyT1Wv97pTW0m4psziKdiYT49jvDoXdNIip9jVuMtaY3zczzNAv3PdQlh0Jxd3Nw1j37vcjUvIEygiERTgD8hJF3GAX/CfgVrbUrhPi7wL8HvnvnQVrrTwKfBHgiXTwzEyCkFc3P3dm8IyVMxEzhGhX1Wsjaio/vR7X25SlnX/ruYajpVlaxAAAgAElEQVRpD/HAd6I1rK/6sZ5fMimoV0OWHgQoBem0ZGo2uoad4SvohIZihosLIB20aNmDC3o2ODtqj3sxlouMaVz47zBOgBBi6IKytOjzyLYu3cMklWcuOdzpjALtFrEM6yRfWfLJF6zeeZ5+LiD9176Nj3z6O7cOPOOe/V6IXSyKEgx2+nZKRR9WRmG55oGr236/wlZiFwCt9XYt4F8Cfm4E5z1RJiZtEgnB2mpAGGoyWYvylD2SunffU73qkUw2KsXbXPdZXtxabOo1RaPuMvfI3gM+Fu57W8Jn+zn/kNDV4nw0daynUNlU3HnL5cbNJFPTDiqM4sddu1QoWbHGH+B961/nC+WnBxK471vffwL3tCmUbDY3QnxPD+RsDquk2R4yT9j3NErpQ2n6K6VZXY6EApWKuoGTSUE6K1leiP9ghAH8+v/1Y+hk9P787PNF+PSBT3320BqhQEtojTmk6/1yHxpoZW1aY0kKay2sQEXVPlPZhzrZC6Mx/l8CHhNC3CAy+j8O/MT2A4QQs1rrblnH9wPfHMF5TxQhBPmiTX6PrfF2atWQ1WWfoDMkZHK6X9c9Ts3TknDleoKVpcH4stawuuz3plDFEYZRcvog7NS2hyjJvd3w965BwfpaQKFo902/SqYiaYNhHuqTtTdQQvDl8XfiSodk6PHt66/wtvrtA13raSKlYO6RJJWNgFpVYdlRx+1RpJoti9iFWsjDlZtrHU0ua7VUL57huZow1MxcSrCxFsbma9xUihc/M/FQ1binay7jS02sQKEFNPJJQhl5+FJH3r2SgvWZMULHol66GLIOXY5s/LXWgRDip4DfIyr1/JTW+utCiH8KvKC1fh74+0KI7wcCYB34W0c971lncyOIhrB3vmetZqTrfvV6olcaWquEA2qegaKvhHInwxKqXXab1StkdI6+UI2E8tTgx8B11dAwQaupqG66fQJmbltz9y2Xm4+lYjtMuwncd1Rv9Y3MO29IKShNOJQmRvN842V7YKGPKqusQ4V62m0d9QfseN9UCJ/7+HsI80mu/h9/iuVuJTN9x+blZz7wUBn+ZNOn/KDeC+UIDdmqSyOfxE3bJNwQL2nRzCfR57AjehSMJGCttf4d4Hd23PaPtv38M8DPjOJc5wGto2EjcZ77ylLAlbkodrwWI8IG4HvDv4d7lfhZNli2IIgJ5eTyFrm8xdpqQOBr0hlJeUhjViI5PMk9NHasoF5Xu1aOCDhyk9XDRHHcJggiOe7u65ovWpT3WdYbBhrXVdhOlJT32vGrv9bQ/v0Kn//4czz6kQTf9id/RrLdxnccXn7mA3zjfe8d5Z916hSGDGrJVl02pjI0iudb/2gUmA7fY0CFwyWU2y3FrVfbCIYfIyRks5JGXQ14hOXJ3Y2CEIKZS07f7kGIKDldnnJwHLEvuV/HiSpR4q4hkYx0iHai1MFLXy86Qggmpx0mJm18T2M7opc/8H1F4Eev986cgtZRs9bm+taYz3RG8so/+R6u/++f6/PsAQLbZrMcdTrfetdT3Hrqndi+T+A4D5XH38UZVqYpiLp4H+5Cnn1hjP8xsNsAoO6Urd1MpBAwe8VheSGgWgl7t01OR2qOe5Eds5i7mWRjLcD3Ig+/eAhVztkrCVaW/F5VTzIlmJ5NEASaWtUbCDGJY9TJf9iRcmuoexhqHtzzoga/jmEfL0dqnt1QUGUjoNbQfQ1n1RZc+5k/QgZhn5yxAkLL4o2n3rl1QiEIEg9vQtNNWVh1NRha1FyIQS37wRj/Y6Cr6z5sstbuj4XZywmklMxcTjA1qwmDyCM8SAw4mZTMHLGFX8rI2E/N9AuHaR01B+2sekln5FBph/NCw0rxxtg1XOlwpbXETHv1xHMTi/Ner6S0+/qurwYkkoLf/dX/DoDrP/BbFNtrfY+zlRrYTmpgdXaGzz/3Mdz02emdOW4q5QzpRqWvvFMJqEykL2yMfyfG+B8T5SkbtGZjfUsILpEQtGLCJRB51ZmspFjqj8FLKZD7UIcchtZRAlCFkMrIQ5Uk7lx0hBDM3UiytupTrUTeVbfM8zgVIwMhqdtZ0mGbpPJH/vx3MrP8wfSzAITC4uXiE1xrPuAvLX3hxBaAMNQDoTaIFoGveaXeMJPH2/vTpA5sm1tPPUWlPKIM9TnBT9kszRUoLjdItrYNaik83GJtB8EY/2NCCMHkTILytCYMo5K+Rl3x4H58uOTSlcOJg+2G6yru33YJVaeTUUeho9JEf95AqWiyWNTNG8X69zLi0hJMTieYnB7pJQ/lxeLb+HLpHVGuBMmj9Tt8aOXLIxsVGAiLP5x+pk+CIhA2dzOzvJW9wiON+yM5z248/VzAP/72H+Rtf/M3sdqD9Z+pZpNUvUHCbbNw7So3vvUqco+tpR0EpBuN47rkM42Xslm+djEHtewHY/z3IPA1K8s+jc6wjdL4wTxcIQR251XOjknS6f4u0e6IxlEbfq0192+7vRryrolYWQpIpa1ev4HvRY1bSkXVOkKC0xGWO2zj0pGvHZhPT3M/PUU6dLF0yJdL7+xrELs1dg1LKz60+uWRnHMhVY4tYQqkw2u5uWMx/s98Khows72LVnxJ8YhwsOg3/opoHsGP/OL/jZISJSWhZSGCYNddSeA4LF+5PPJrP1W0JltxGau4ADTyCerF1EOZuD5OjPHfhTDU3H6jTdgtHAg1q8sB7Zbm0tWDx9OFiOR/q5WQ6maIlFHXaHZs9HHyVlMRxg341tHA+K620OJ8/yhAraLu0tVln+nZk08Ihgg+M/shFlNlAmFj6ZBQWANf7FDavJq7wTNrX8Xerblhn+xmNvbyrrejlO7p8Kcz/Tuop58L+JkfjGL2Lw3poNVScv/GdW5+45u9a+omb1PNFlLr3jziUEqUEFhDri+wbVZmZ1m8djX2/nOJ1kzO10g1/F4pZ6IdkKn7LF/JDV8AtCZT83DcgMC52PX9XYzx34XNjWCgHFPrSHPH89ShBmULISgU7T1FtI6K6oZ6Yu7ripAppWkOEf6qVkKmZ4/1Eqlbab448W7uZi9h6ZAnqm+SCxospiZ7Xn4odn+dfOlgh+6Rr2W2tRK7ANjK5221t/b1HPVayMJ9b+uxYxbf83OP8+NvfnzroD30cSzfZ+71W33X0n0fdy5CQin0EGPXTqV48Tue5fWn3/VQecSJdtBn+CGq3082fZLNADfrkGj5FFZbOF7UyFUdTzGx2MD2Va+zt7TSZHVmjFTLRwYKN+NcuAXBGP9daMVo+AMgoo7Ws1wpl87I2GsXgn2Vix43rnT4jSvfS9tKoIXEx+GVwuNYWg3M7gVix+sllEdqBIYfogEy37v053xm5kOARiERaB6r3eFazMCZnQR+VJ65/TX3qiHP/4+3cH7Sxd9t9uY2CmvrsQY9ziRJQMW8yb7j8F8/+j3cfvKJfZ3zPJFqBrECbUJDquUj0EzeryF09JrZviJT96PFs3Os1KBDzdR8rff4sarHxGKDtZksjeLFkHkwxn8XEklBox5zh47i4mcZyxKUp2xWtw2M7zZo5QuR8ZdyiOyv4ED67ofhtdx1fGn35utCFMoJdwuxdJMSgKUCnl396kircC63lvkbd57nzexVPOlwpbXIxLaxkTvZrnz59i+9wHve+DPscLC56Nprr/fX2O9CO5tBxjxHHBpo5HKk2i0cP4rdBbZNtVTk7uOP7es5zhuhJdBiUKFTCwgtSWmp0bcrEDv+3Xn7TsYXG3gpGz/18JvGh/8vPAKlcZvNmLGLieRWQ85ZZrzskEpLNtdDwlAzlpcUinafUuTMZYe7b3YSvh3n2kmIA00NOwxLyYl4D58osbl9UQBIKg8F+DKBQCPRQ+f8HoWk8nmy9ubQ+5995R/wP30+2glsV75Mttq9WPx2ZBiS3GdZJkAzl2Pp6lWm793rW0i6f+nOcJAdhvzX7/lu3vbSy1hBwFtPPsk33/seVNxghYeAZi7B+HIjNp7ZzDmMLx2tskkAuY0267PnZ87EYTHGfxechOTK9QSL835PtiCblcxeThxrPfsoyWStXVUnEwnJI4+nqFW3Sj3HcnuXeh4EVzrczVxCCcG15gLp0KXkVfo8+R5CoLXGUgEaEZVy6ij23rQz0f0IfCH5L1MfoDhf29U7h8hOfC3/GK8UH8eTDpdbS7x/7WUKwe6GIlbT/qdbwOAwkwfX53jyy1/B8fv7D7SUPLg+t+t5dvLHP/BX+NB//h0u3b6DkhItBSJUODHynwnX5f6jN3njXU8d6BznFW1Jlq7mmZyvITu5Ky0FK5dzKKvzWqnBlWF7x3Pc710EYAWjKR8+6xjjvweZjMWNRyVhCFJE9e0PG1KKY0tAv5W5xB9OP4NER9PDkDyz+lWerL3JC+PxoRBHBXzXygs07TSp0CUbNPnM7IcGdgMhkq/nH+W79ij3/PPye3g190hvp/FW9gr30zP86L3PkA37h8kM8+z3YunqFRbmrjF7525vAfAdh9tPPM7m5OT+nqSDn0zyuR/+IVKNJslWi1qpyH/7//wyxfX1gWO1EPjbkk+ZWo3Lb7yFloJ7j97EzWTIVKvM3LuPl0zy4Mb1c78r8NIO8zdLOG6kDOslt6rBqqUU+fXWwGAWJQVSaYQmNmzUO5ZI9/8iYIz/Ptheq2/YP22Z6DVObQ+IfKH8NJfvLzHbWmEhPTVYxiksLreWSKuocuZ25hIiJhegpaRu7z5tqWUl+VbuJuE2wSUtJIGwWHzPo/yNn4zO3fPuh3j2eyIE/+UHv5+5V1/j5te+jpaSW0+9k7uPPXrw5+rQzmZoZ6O/75UPvp8P/v5n+7z/wLZ5/al3ojofzie+/BXe+1/+JEoYC8EHPvs55q/Pcfmt2ygZDQhQluT3f/SvsTE9dejrOhMIERuXr5TTSKUY23R7ZVK1UorNcppUKyDRDgkciVCKicVm9FSdxyogSFg0CibhazAcidvZy7FxeSUEt8bm+OD6y/ynSx8h2F7OqTVaCL5eeJT3bnwDAUy56ygx6K3aKuDqHpU4604h6hWg//FKWvzn1lP820/3G3qhNI4boCxJcMAZrlpKbj/5xLFU2bz5jreTbjR49+e/2LlOxZtPPsEL3/1hAPJra7z3j/90IOF87dYbkXHr3K6Bv/Tp3+DX/97fPTMloCJUSKUjwbWjXpMQbEyPsVnOYAeKwLF65ZvtbIJ2duvQ1liS/FqTVCNAC2jmk9RLqQtT7mmMv+HYCIWFjomsaiLPe8pd56NLn+dzk+/HtZK9yfAawUvFJ7G04j2b3yITtnln5TW+XnisF7qxVEgmbPFE7fbQ8z/9XMCjH73K7/2izY6GWTQQJPo//rm1JsXVVm9ggZeyWbkSxZJPHSH4+gfezzff+22MVau0stm+8tEb33wVoQYTznFVLrbnM/lggZXLl47nWrUm1fCxQk07YxM68YuoCBUTC3UyjagUsztVq5U7eg21tiT+Hu+bsiWb0w9/YncYxvgfAa371S6HoZTulVNmMjJ20tXDyLXmA74w8fTA7bYOudGRS7jWXCChA1zRv9UOpM2LxSd5evNbCOAD6y8z5a7zSuExPJngRv0+T1Vfw9GDSdBf+8VoiujPPl+EP4SpRJVk2N8YpIHq+JbxTNc8it0BIJ33NdkKKM/XzpQ+jLJtquPjA7fLMIxNdA7D9kcvjAfguAHTd6tRmK47f7qYpFpM4fiKIGH1dlST83WSLb9Xky9DTflBjaW5At4ZKLW0vbAnCtfO2GdmpzQqTv8VPoe4bcXSgt/TW8/lLaZmnVgtnHot5MF9r88Du3wtcaS5r+eFXNDk2za+zldLbyfoJGttrXi89hbT7lbysmnFSw370kEhsYiUQx9p3B/Q2InTx9nZRbtyJcf4Yp1sdav7VgDT92psTGZoFAeThN1jkq0Ay1eEzhnw/nfh7uOP8fYvfwW5oyIorqpFaM3ycXj9OmqwkmH/fi+34TK24UYVE1rTzjqsT2ZItvzB11xDfq3F6uXc6K9vv2jN+GKDbLXTQCgESgqWruUPHAo8yxjjf0CCIJpV25V90Doa1O55irlHdniv27o+t3/G79/xuPm21KkJp50k37b5Ta41F3gtN4dCcrNxj5n2at8xJb/CanLQm80ETQSKu+kZVlLj5PwmNxr3+I1f+LHeMT/76SIoTX69uU3oK0l1m267loK1SzkCu0F+o90zOFaoGV9qoCwxvLxPgAzPvvFfm53h1Xe/i8dfehk7CNBCoKSkNZYl1Wzh+D5KCJRl8fnv+yihM/qKFscNsYLBASqi8x+dnUmq4VOiGSWmd0pWEHncp0m26pGtulsLk9YIFWkKLdw4RDHAGcUY/wNS2Rgc0KJ1JPfQbqm+YSbVymBIoku9GlIoXYyXv+xtUl7bHHr/B1df4ndnP9Qnp2yrgG9ff5k/+M7vZ2EtQduz0AK0/CCLv54jSHY8MK2Zvlcl0Q56X9b8eot0w2NxrrC1Vdea/GY7dq5rcaVFK5vA3mzHZCgEfvJ8eHsvfM9HuP32J7j26msoaXH7ySeoTIxz7fVbXLn1Bu1Mmtff9RTViePR9hdaDxeU2obUkK77sYX2GmhnTrfUMrcx+DnpLkq2Fz403v/FsD4jpN0arvfjuf3GPwx17LFawz47+C8El9vLfHzhT/iL8afYSBQILyWYd0r8Vvkj5BejL6IgCgnoTlx4seOBJZtBn+GHyLg4bkiq4dMei5KHUmnEEOfeDhTVcppszUWEGklkhLSA9anMuYr1rs7Osjrbr8h3522Pc+dtjx/7uaM4/T6sf+eoainVZ2i7Sd/a+OlOHNstdxJXcnxeMcb/gKTSg0PNAdCQSPWHBrJjFhtrg/IQQjBUxllrjdvW+L4mlRI4h1AO3Q+uq6jXQgSCXEHinFJYoxuzB/j5T/eXSE4sNmI9sIQXIgOFsiXJ9nChr2Rry/grKaLwTjh4sJewCG3JgxtF8ustUg2f0JFUx9O4p+yFniuEYHUmS3mh3kvixslSaMBN2WxOZvATFvn1NjJUtLMOm+XMqYfYGvkE9tpgDkhLgf+QeP1gjP+BKZZs1tcC9HbPXUA6LUntMP7pTDQVa/tiIQTkCxbJ1OAHPAg09++4eK7uDe7OFSxmLjkjlVtYWfJ784WFgNVlmJ51TjQM9Wu/+BNDNe0PQmhLtGTAq9eC/hJDIdiYzDC+Q/hLCdicihqplC3ZnMpylrE9P1rIzmjXYSufZCFlM7bZxgoUfsKisNaCbYuBFrA+kwUhaBRTJ6qiaQWK7GYbxwtx0zaNwmBdf62UJlv1sP0wUgDtXPPq7FjfLtBxAwqrLRKtgCBhUSmfL2fhbH6CzjCWLZh7JMnygk+zEVX7FIoW5RghNCEEl64mqNcUlc2gM+t2+PCWhfsebrujV9IxULVKSColBkYvHpZ2S/UNlu/+u7Tgk81Z2PZoQxzbPfvdKnLiqOcTfQlaiL6IXsJC2dFr2MwlKC0L9LaOgujLKmjsqBdvFKMvemG1hR2EeI5FmLAoLjcIEhbViTR+8mx+JUpLyzz7md9jfHkFLSLphi9830fxjjCUXSjFO/7iSzzx1RexPZ8H1+f48oe/i0bhaKWtQcLqW0QbhSS59TaJdoCfsqmWUoSn4EEnWj7Td6tAFBrM1Dzya20WrxdQtkSGinRH/nnxao5Mwyfd8AkcSb2Y6ov1O+2AmTuV3g7HCRTJez6rs2O08udjTvBIPulCiI8B/xKwgF/SWv+zHfcngV8G3gusAT+mtb49inOfBomE5Mrc/t5gIQS5vLWnRHIY6kFpZSLjvLEejsz4VyuDCesujdroktA/+5d/MvrhCJ59tZwh3fQjDZeOJouWgtVLW2WAWgoWrxWYfFDD8cKoecuRrF7KoWOafJr5JM18kmTdZWq+jujow+h2SKbmsXIlTzt7try3VL3Bx37l13C8Tsmw1ly99Qa5zQr/+W/+jUPnJL7jt3+XuddvYXfKQ+defY3ZO3f5j3/nb/dkJUZB6FhsTp/+jqq8UB/IDYlAUVht4qXsAUXQ1dmxoSWnpeVmz/Bvf77x5SbzucS5yBMd+ZsuhLCAfw18FLgPfEkI8bzW+hvbDvs7wIbW+lEhxI8D/xz4scFnu7jsnBi2HX2A5p3TILbWfgRoKVicK5Bq+CTbnfF7ucTANj1IWizcKGL5CtD94Z7t8bYOhZVmFIqgX+9daBhfqFOZSCGBVjZxqpUdQilm79zl8RdfQu6Y1WspRX5jg/LCAquXDl6zn61UmHvt9T45CEnU/PX4iy/x8nc8c/Q/4AwhA4XtD37JBJCteYxV3IEYf3mhznzG6e0yt5Nsx89OtoJIqkKdgzLuUbh57wduaa3fBBBC/CrwA8B24/8DwD/p/Pz/AT8vhBBaP0Sp8yNi21FIKfAHX5JsbnQGKF+In1Fw0PP0PHs4ctw+DhkoSksNMvWoMauZS1Ar7q67sj1RaAWK8cV6VFJIVD64NpvFCjT59dbQYR52oBhfaoKAIs1IFOwAeYBk0ye30cLyNa0xh3opdSh5iLHNTb7vV/4DCdfF9v3YOcIayG1UDmX8SyurkbrnjrIzOwyZmp8/8POdFqmGR2GlheOHeEmbzck0Xnpw56Z3K0LSw1U+MzWPemkwJxFakUpo3HnUOengH4Xxvwzc2/b7feADw47RWgdCiAowAaxiAKLw0Mwlh/m7Xp+zKi0oT44uDJFKS0oTdl/CF6KE77B4f9ez/5/9d0ZJ2uNGa2buVLD9rYahbNUj2Q54cKO495Zaa6Z3PD7V9Jm5XaGRSwz9osO2hqTOMbmNNq1sAncfoaDsZpvxpUYvHJBwA3KbLgs3CgdeAD7ym8+Tqdd3HR4vtWZjqnyg5+1SLxaQMdvNUEo2j6kPYNSkq25fKCfV9Jm+67N8NT+QeNVWJNGQavZ77EpEktCpVkxPjh5e2lmZSMcWD9SLyXMR8oEzlvAVQnwC+ATAtHO6tb6nQXbM4vrNJJvrAZ6nyWQlhZI98k7gyWmHfMGKSj1FfKnncXv2u5GpeVhhf6eoACw/SsjtJfyVrvuxj5dK4/jDGyzipRBgrNLe2/grzfhyYyCmTKjIrbWoHGD3kK1UyG9s7Gr4A9ti8eqVA88K6LJZLrM6M015YbEv9KMsi2+99z2Hes4TRWvGl5sDIxuFhuJyk6Xrg0nrtUs5pu9UsELVW9zbWYfKRLqjR7TjAQJaY/GftUYhiRWovvBhI59k44xXi21nFMZ/Hri67fcrndvijrkvhLCBAlHitw+t9SeBTwI8kS5eyJBQIimZmj3+yfDJlOyVm564Z78HjhsgY3IgQoPjhbSATKVNcbWFHSh8x2JzKtP7ojpeGNvQJTXRtKeYYR7DPmxdg7IXCTd+UZEaMg2f3WeN9WP7QewQd4g0591Mhtfe9RQvP/vBAzzrIJ/74R/imd/7A6699nqn6arI5z/2vdSLp/8Z2Auhh0/cSrjxnfWhLXnwSJFkM8D2Q7y03avuqheSjFXc3nutBVTH08NzPkJQLWeojacj7SdbxBYYnGVGYfy/BDwmhLhBZOR/HPiJHcc8D/xN4AvAjwCfM/H+0+XZV/4BH/7pzhSrE/bs98JP2ijBYJONAD8he+GV7v0JL6Q8X2P1co7WWAIvacUaeNXx5EJbkttoRxVEnfs2J1IU19uxj2kU9q7sUpYYuoKEw4yC1iRbAclWQGBLWp1kdmVinMBxBkZCBpbFKx/8wJGTsdlKhZtf+wapVotb73wHf/bc92Ep1ScRfdaJKr8G+zsgMvJDEQI36+DSv5PbmM7SzCfJVN2o/yCfiM0dDFyHFFtSI+eMIxv/Tgz/p4DfIyr1/JTW+utCiH8KvKC1fh74t8D/K4S4BawTLRCGEyLWs//p1i6POF2aYwlKlkRsEwnTRF/q1liCy29sxmv0LDdpjSVoZx0Cx8L2QuSOxzdzCZr5JI1CMqrpFlEyOezU/E8sNvq8v+ZYgtY+4v1BwsJPWiTa4UBMuToe08TUyUukmi5a2mgJekmwNJfHT9r86V/5OB/5zd9CKo0VhviOQyOf5xvve+/BXswdXHv1NT7027+LUApLKR595WssX77MH/7ID8U/oCNqpqU4E7HsVMOjuNyMynqlQKHZbuqViOLxw3DcgFQjapRr5hJb3roQuBnnXDVpHRVxVh3wJ9JF/alHR1s6eJHo8+zPIZYfMr7U6FXrNMcc1mfGUJbg2qvrsdU6Grj7RJSsFKGitNwkW/NAa5q5BBtT2diyvb7zemGk6Kg0rbEEbnr/Ou4yUEzdq+J4Ya+ddbOcpjbRXzNvez7f8du/z9U3XkMqTSNX5LV3P0NlfIogIXnwSAmAbKXKYy+9zFi1ysL1Od564m1H6uy1fJ8f+/l/M7Cj8B2HL37vX+LNd7y97/Z0zWN8qYEVKLSAWjEVdUMfYhGw/JBsxUWGndf1EPr4qboXDW7f0fSnoROfE2xOpKmNpwae224HjC83SLU6fS6du5ev5PeVzD9P/PE//8tf1lq/b6/jzlTC13B4nvnUu86NZ78fQsdi5Up+sE5f66EaPcG2pLW2JOuzY6zPDhy2+3kTFtXy4RqclC1ZvFGMchaBxktZsXHgj/zmf2T63j2sTrXNWG2Dd3/h9/nSh7+fpsj3lCMbhTwvftfoHKDJBw9icwmO73PjG9/sM/7Jpk/5wZahFRpym22k0qzPHmz6VabqMtHR+4HoeVrZBKuXxw60AJR2JHghsuGhHfWDxI6B1DqaFlb1epVc26u5Judr3H+sdCZ2NSeNMf7nlAHP/ozF7UfGzi+lEGyW0wOGQInIyz4L+EkbhoTP8+vrTM3P9wx/F6FCrrz5DV5719GSuLuh5fDYdGj1m4LCamsg/yE1ZKsuG1OZoclNEWrSdQ+pNa2sg7IkEzs6a4WGdMMjU/NoHkAKYVillhUMn/87ttkmU/MYtt8TaFLN4Mx1dZ8ExvifA55+LiDzc9/tp1sAABm4SURBVP8QYMvgn3PP/ijUO0JgxdUWsrsD0NHEqCBh7StRd1rkNiuElsTeUZAitSZb3SS0Zd8OZpQsX74UNXbtwHccXn/3U3232X4Y3wgnoiqbIMb4Jxs+U/ervZBXiShnEje0RepoR3AQ4x/YEiemS3e3btrcxmDn7iBnM/R93Bjjf0YZ8OwvsLEfQAjqpajELr/eRhLZm1Q7mh+7OFfAPwMzYOPYLE9gBYMebCgllfHJSLfoiCGIZNOntNwg4YaElqQykaZeTKKl5A9/+Af56K9/GpTu9RG8/tQ7mX/kRt9zeCkb2/cGFwAVSW0n2gHKElTH09RKKdAwNV/tzEDeOjxT82KHtgAH/juHNVZVJtJDn2tP/X0N7TPsLBwnZ/MbcsEwnv3BEUpHip87b9dQWG2yeiV/Kte1F418njuPP9YnqKaA0LZ54bs/iJc+2lcy0fKZulftGUg7UJSWGwilqU2kWb10if/wk/89V2+9QaLtsjB3jdp4aeB5KuU06brXk2LuXqeAXjesDDTFlSaWrzpVMoMaCtvj69tRIqqtPwiNYgqhdW/Hp6SgMtFZfIbQzCViJ3P1ZJov5aLZwhcQY/xPkb4uWmPsD4Q1JP4bySoc/5g0GSrGNtokWwF+0qJWSvULyu3Cn//l56h88S944qsv4ngeC3PXeOHD/w2NwtEXrOLKYFJUaiiuNXtVMKHjcPvJJ+KfoIOftFmaK1BcbpBsBYS2JLQEyXb/ays7iWA/aQ2EdiB6P5oZe0A+oVZMHirOXi+lqRdTCBXV+e+1e6hMpKPdR6CiJr/ONdWK0Zzn/b5nDyPG+J8Qz3zqXYhv/+i5Lr88Swxr5NFw7Eqclh8ye7uCUDoa9tHwyW20WbqW32djkOSVZz/IK0fs0I1j6MLX6Yg9iLHzUjbL17ZkEmbf3BiaB5CBiu2EVkQGe/WyTabuI5U6ulqqEOh9PlxbkoUbRbJVl2TTJ3As6sXkhTb6XYzxP0YG9HE+bQz/qNCWpFFIRrXj2+u+T6Dqp7jcRIZbw2O6EhATiw0WbpyuNIKfsLDiRMrYpdP4AM/teGpgARAachV36MLQGnOirtkDhnmGEiPTvevhUlAvpnqFAoYIY/xHhPHsT5716SyhJclvtBAqqvNf7wwNKS1GdeXNfIJ2xhluKLQm1fRJ17zISBSSBHtM88o0/FhD57ghItToIwjx2W5Ifr1Fwg1wUza13fRlYqiUMyTuVweSotXx9JFj29VyhnSj0ufhq06HdLbqxT5mP7pI+0WEmtJyg2w10uBpZxzWZ7KnOnPhPGOM/xEwnv0pIwSVyQyVrqcvBIXVJvm1rRr1bNWlmUuwNhvTUKQ15Qd10nVvqwFpo836dHbXubJKEis8B1Cer9EsJGnkDz7NqTtmsCcJ3Q4Zq7osXtt/9VI767B6aYzSchPbV5FW0HiK6i6SB/vFS9msXMkzvliPnntb12+qsYEd03inrBHJQmjN9L0Kjhv2STjP3K7w4GbxUDMTLjrG+O+TZ1/5B72fjXd/xugYF8sLya+1BhqKMjWPejEY0G1JN/xOQ1L/8eNLDVq5xFCDUiumKOw4T/fHTNMn1fIZ27RZupY/kOGbWOwvYxQA/3979/cbSVbdAfx76ldX/27/HM+OZ2dmfwjYCBQkRIKQIhJ4AKRkBRIIHiIeQKtEQSJSHrLS/gP7lDceslJQ8hCFEBGyIJBWIoHwQBRBUCRYNgvDLrMztseesbvdP6vr18nDrW7b3VVut7vt7nadj7Q7drvHdd0zc+r2veeeEwJLe60Ta+89uhdAC1htth67TqeYQaeYAULulz2YFidvYvvppaHvfZh08O4sN53o3RdFaZdx75wsxz8R+IHechsjX3OGSmiI0ST4n0KycRZLtuXFPk4MFA86Q3V6cvWEA0AE2C0v8QBSfSULy/H714vr5Wo5PrJNVwXh45hVmuLgjJgZZsxmLQGw2z6Woho7nbwJJ2eqnsVdVUOIQTjYyA+P9yJTGAe+dy8Dp7LfATGDozo7cV2wjsu0Paw9aIB63RSYsb+RR7t88veZbnLJ7MvI7rqKJPhHZGa/wJhRPOigvD9ckrkn1/SwebeKh0+W+mv6TBTbwAWgxHr66suEx5uqBk/xoHOiDnyPFr3jOB78C9UOKo86/YNHjSUbtbWjQmlxZah7ilUHBFVsDRisUaPq13iWPrvDbURoREXVYm9ucb8lZKw/aBxrh6h+XXnYgps1T6zle1b8zxUCsaeNxWipD/792b0E/IW1stNU9VsSAmcvBGmBCjbbT6lWkM1Kpr95eBKfKQfdt3Q4eQuFenfoIBPjZHZN7tAZWhYpVh1wtG/RG0+h1h1aTjrxriLmMSB6d1N1xi66NnVECBPagQ5Sh8hizgawaol5vPuZa+twMwasrt9/fXqvQ6nmgAhj9VoWKQv+vdm9zOyvDsMNYgN/bICEynU3uwE824CbVS38eq34egdU926UTm0Uf1wnb4JjTrYyAa3K0ay/MrBHAKh3B6VqR21YE6G6lletKluqz0DSpnLcyAiqHs+80fwQWsiqXtHAOwEt5KGbJhD9OQ02RyfC3s0irr992O/z0E+1jW587eLZGrAI5coHf1m3v9rMrh9XVSCxnAzoZL2X+mpONXaJGnx0CtaZAz8AQCPsPVnC+v360fdllYbqHUsZ1WMKkgGqExWFUXqoppaTdC9Q2TQArt2P6S0bIySgk7/49p9npfkhVrcbqn4+VK59u2D2Twg3yxmE4Ng/pxCqINyg0oED3R8+ZwBE7xYOuxL8x3Clgr/M7NPHN/XY2WPvobj1fHdgXTwwdTQr588Vd20DD55ZQqbjg0JGN2eeuIEUDobLI/evrdPQzSYwdXUCldWMOe5g1XEhqRPPzUryISrdDUDMah39EmrXr9+vw+oGRzP0gFE4PCoUV9lrn5i99zDUYbK4ZbdiTC0ncX4LH/wXbWafbTZx543/g9VxsH3nNvY2b6SykcS0eLYR2z6xV+bB8FR6YL+QV1y+/zREbQCHhIylR+3EzmPV0zpjEeHRZgnX3qn3m5XHBctmOYPDtfga+70yy8dbUz6+XkBnjFLK4zIdH6Y7XBI6bu9iEAFqzyDmNdEGl4KOYWCs8tBiwYJ/b2b/lR/vHHWsWiA3fvMWPvLqdwBWfVmf+5+fYevObfzn838sN4AJ7N0sYWWnqVIvGfAtDfsbBXSzBnINF9mmG82M7Us/DWokLPcAQKBhKKVxkG/p2Hq6gutv1WDFfC/WCO1SJvZMAgUhrt2vq497jzGwtt3EVkZHMOIk83npfqj+Pp+zRSwlBPmubcB2hktXMFTmVJr6707D3Af/D33tffjDb0at7Poz+8UL/Jrv4w++891+GV9Atc+78fZvcevNX+Heu981w9EttlDX8GizBAoZxHwiELZLmQubEVLAMLwAgaEl9gYODUpesz/rDZ8ITt6EWYupn8PRIa8Y5cfq30vcVda2Gnj41HAp52lwbWN0Hf0EpxXmq27kce3eYf9cRe8Kj68PnwsQo81t8N+qrKklnSvSnvDag63Yx03Pw9Ov/1KC/xSwRglbiNO+EKP8uIPSQSfaQAZaRQv7G4Whw0+hrsG1NFgx6/Z6wP1+vaO0ShaKte6JLKaQgGYlftYPqM3wpMwg001+RzKp0NBQr9iq5+9AWuZZOAkzeNc2sHOngtJ+B5bjw7UN1Jez8BNufuJ0cxv8r5rTDg2FJNtYi6RQc1A66JzoWpVruAi1Fqobw3n2gaWDYoItkzoJPCr4a0GI9a0mgKMAygDcjI7qKbntTs5Eth1/A7hotfUcPNtA8aADPeBoqVO9WOoMBKCBTlRHZahaQKe9U/MtfbpnGZiR6fgAA27WGC/Ta8FJ1Lkke5s3Ym8AnmniN+/9nRmMSJxX6WC4M5TGQOGwG7vO7Vl6YpfYs/TrLVQdtaR17DGCKmvQ2wiO00ioq8MAuvYFz5ajEs57N9VynB4FeYL6n5s1sXO7jG7WQO8e2s0aeHirfGkB2HJ8bN6tYv1+HetbdWz++gDZevdSrj0PZOZ/SUJdxw8+9Tw++s1vAQC0IABrGt5+z7tx/5mnZzw6MQ49SMjZ52M5+8c0lmxVnmHg5K5v6kNpp3Hsthd7epkYyDY9NJcSAjkRHj1RwNr20buGXqCtnmP2TEGIpb028lGAbBcsVK/lE/c7gKgsBZ+8cWms6jDVGNi9Ve5v8F7qrDtkrL9TPzpMFv2yutPEjm2kokz0RMGfiJYB/DOA2wB+C+CzzFyNeV4A4OfRp+8w859Mct1FtfvkTfzLn7+AW7/6NaxuF9u3b6G2tjbrYYkxdW1TVaEceNw3tNgAFph6PyPJiGbqTlaVXj7Lpq9n6bATlm9K+22V35/wfTqlDHYsPeoREKBrG6ivnNIjgBnZpqp2GuqEZtlWa+rM2LhXh+EG/eWCfMOF3fGx9VQlsYhcphN/42JS/Q98S5/JUku25UbF5E6KKy1xVU06838RwL8z88tE9GL0+V/HPK/DzL874bWuBM+2cfd97531MMQEqus5bNw77Dc3750hONjIJwbhbs7E9lMVaAGDCbE5+Ukay1kUa8PLEQS1aWw5/qknWz3bwP4TxdEXYlX7KNPy+nn4pQMHraKJVtlWZyYGrq8FIfINN7FLl5sxYm9cxOqmNitqH2L48d5rmgaTBv/nAXwk+vgfAPwQ8cFfiCvDsw3s3K6gvN/ub9germRjA7Dmhyg/7iDbUmcN6sv2cJnnEXxLh5vRkOnGLDeR2jSdhlzDRabt9QN8L2DnGx4ybT82ZVXjqMQG4n+mxrLK+hns/tXNGjPN0knKKAoJ6MSUlriKJg3+15h5J/r4IYBrCc+zieinAHwALzPzv014XSFmys/oI2fTmh/iibdr/YwW0wthbTdRXwlwuDpe85Fm2Ya51x7O0GCGm53O1l1SfwMCYrt0ASpYnjaDD0wdu0+WsbzbhOWo/gOtUgbVa7NdVvEtHY1KBsVjVVRDUhk/nUI6DouN/FtDRN8HsBHzpZeOf8LMTJR4nOUWM28R0VMA/oOIfs7Mv4m51gsAXgCATEnWwsViKx50hrJ0NFaHr+rlDNg8+8y3VbFRrHWHylXUVnNHef7MMLwQoU7namuozkkkVw0dej6OThifxs0aeHi7Mnbj9YtWW8+jm7dUNhUzWqWMWr6ak/FdtJHBn5k/lvQ1ItolouvMvENE1wHsJXyPrejXt4johwDeD2Ao+DPzKwBeAYDi9WfTsfAmrqxsQpYOAKxvN7B76+wn1VkjPLxdRqHmINdwEeiE5lK2XwAt23SxvNOEFt1snJzaUB7nJtAs28jV3bOfCyBg5/YYqZnzFlRJVXFNyzLPoEnz/L8N4AvRx18A8OrgE4hoiYgy0cerAD4M4JcTXlekmO6FsKIKmvPMN7XE4mVWJ4CR0JowCWuExnIWu7fKeLxZ6gd+0/GxutWAETA0VpupdsvD2v3GWN+/mzdRX7YTzyQM8nrVR8VCmnSx8GUA3yCiLwK4B+CzAEBEHwDwZ8z8JQDvAfC3RBRC3WxeZmYJ/mJsFDJWtxqw214/zeZwJYv6mOvnl6W+nEWuEd9XGBrBPGNph1FKMSWj1SEwH0Y3GGtj9XA9j27OwOp260R/gsHyyyEBjSWpornIJgr+zLwP4KMxj/8UwJeij38MQHIbxcRWthtHB56iuFTe78C39Lks5+tmTXTyBrKtmBx95qmlOhpefL1/JoLhjxf8AcApZPDgWQtmVI/fMwjrW01Yjg8mgsaMZiWDZkWKqS0yOeErFgIFIXItL7ZRemm/M5fBHwAONgp44q1af/YMqFmzkzendorUyZmwHD+m5ATDPW/ZZqITzeB3b5VhdAMYfgA3Y5x6qvfcQkZ5v4PCodMvlne4ljvX5rUYTYK/WAh6wImZKEnlFuZBYOp4eKuM5d0WMh0fHFXirK5NL9WxsaRy6flYkbSQgEbFHjtIq3MJbeSaHkKdUF+y+xkwfka/uNx8Zqw/qCPTObqJFWtdZFsetu8knyAW5yfBXywE34xKJwzkmzOSD+zMC882sHurrFIdLyDjJTS0/qGzbC9oL2fRKo2XxaIFJ88lwAeWd1swuz5q16ZYSTOG5fgnAj8Qnbb1Tz9BLM5Pgr9YDEQ4WM9h5WHrRDOPUKOxD0zNzAWmOgamhoOYctLjiKseqjFQqnVRX8ldzFJPxHLiM580Bqy2BP+LIMFfLIx22UZg6ijtd2B4IZycKlI2z+mGFIQoVlVufqhraCzbF5dXPuEhKruVVISNYDk+nAvMh08qbc0Aiocu3KyDlmwwT5UEf7FQujkTj+Z0mYeCEOX9DvJ1V63tlzMo1BzoUf49ECDT8VBfyU733QozKo/a/bLRXkbHwbX82D1tfUsHd+Izk4Iz9B2YhJM3EegE8of7FgBq+cm3dOnTO0WyjS7ENISMjXuHKFYdGH4I0wtRedyB4fOJ2bTGKj1VO6UJy7hWdpooVlWDmV6Tl/X7dZgxzc5P01i2wQORn6FuJt4FNXvvo9NLUhCrchlieiT4CzEFuYYLwwuHNiyT8u+tMQNzEi3aEB1criFWh7/G4WUMPL5RhK8TQlK1g5ycib3N0lTGehqz68N0g8TSEgT0eyGI6ZBlHyGmILFpCWJuAMxTy103vAAhEfSB9pGE5E3U03QKFraeWVIF4jS60E3e43QvVG1OY9pgAip1tZ3SGjwXRYK/EFPgmxpCQmIhtx6Gysxxp9RD17f0ozIMA9c59zWILr2NoWsb0BICf6+xe3NJNnynSZZ9hJiCVtkemuL3UlFDAkItqn2f0bF7szS1tM9Q19AqZxAOXpuAw5UFSYGFOqvQqJz8OXpVPOpLGezcqchJ3ymTmb8QUxAaGnZvlrG604Ae1dpxMwYePVFAYGiwuj5CTbuQE7IH1/LwDQ2lqgMtYHRtHdW1/Ew7ZZ1HdT0PN2P0f45OwcThag7BJS09pY0EfyGmxM0a2L5Tge6r9evj6+Wn9didGBHqqzk0KzZWdprItjxs3K/DtXXsXy9cfKbOtBChVbEln/+SyC1ViGkiQmDql7ZR2seMjXcOkW15/Swjywmwca8ObY5rH4nZkeAvxBVgt/3+clMPAQAz8rXujEYl5pkEfyGuAMNLro1jjtkxTKSDBH8hroCkuv0hqb0IIQZJ8BfiCnBtHd2sMZQqGeoaWnPa6EbMlgR/Ia4CIuxtltBYshHohEAjtMoZ7Nwuqz4IQgyQ94NCXBUaobaeR219el3CxNUlwV8IMZFM20Nlrw2r6yMwNNSXs2hWMhfavEZMToK/EOLcrI6P9fv1fk0jzQuxtNcCBSEai9JhLaVkzV8IcW6Vx23QQD02jYHKfgcIR1S5EzMlwV8IcW6mE9P5K6JL/f25NlHwJ6LPENHrRBQS0QdOed7HiehNIrpLRC9Ock0hxPw4rfTzpZe4EGOZ9E/nFwA+DeBHSU8gIh3AVwF8AsBzAD5PRM9NeF0hxByoreaGykmHBDQqtqSYzrmJgj8zv8HMb4542gcB3GXmt5jZBfB1AM9Pcl0hxHzo5k08vl6Ab2hR/wKgvpxFbV02e+fdZWT73ABw/9jnDwD83iVcVwhxCTqlDLaKFohVExlJ8VwMI4M/EX0fwEbMl15i5lenORgiegHACwCQKa1N81sLIS4SkQr8YmGMDP7M/LEJr7EF4Oaxzzejx+Ku9QqAVwCgeP1ZyRMTQogLchnb8T8B8CwR3SEiC8DnAHz7Eq4rhBAiwaSpnp8iogcAPgTgu0T0WvT4E0T0PQBgZh/AlwG8BuANAN9g5tcnG7YQQohJTLThy8zfAvCtmMe3AXzy2OffA/C9Sa4lhBBieuQUhhBCpJAEfyGESCEJ/kIIkUIS/IUQIoUk+AshRApJ8BdCiBSS4C+EECkkwV8IIVJIgr8QQqSQBH8hhEghCf5CCJFCEvyFECKFJPgLIUQKSfAXQogUkuAvhBApJMFfCCFSSIK/EEKkkAR/IYRIIQn+QgiRQhL8hRAihST4CyFECknwF0KIFJLgL4QQKSTBXwghUoiYedZjiEVEjwDcm/U4ZmQVwONZD2KOyeszmrxGo13V1+gWM6+NetLcBv80I6KfMvMHZj2OeSWvz2jyGo2W9tdIln2EECKFJPgLIUQKSfCfT6/MegBzTl6f0eQ1Gi3Vr5Gs+QshRArJzF8IIVJIgv8cIqLPENHrRBQSUWqzEeIQ0ceJ6E0iuktEL856PPOGiL5GRHtE9ItZj2VeEdFNIvoBEf0y+nf2lVmPaRYk+M+nXwD4NIAfzXog84SIdABfBfAJAM8B+DwRPTfbUc2dvwfw8VkPYs75AP6KmZ8D8PsA/iKNf48k+M8hZn6Dmd+c9Tjm0AcB3GXmt5jZBfB1AM/PeExzhZl/BOBg1uOYZ8y8w8w/iz5uAHgDwI3ZjurySfAXi+QGgPvHPn+AFP6jFdNDRLcBvB/Af892JJfPmPUA0oqIvg9gI+ZLLzHzq5c9HiHShogKAL4J4C+ZuT7r8Vw2Cf4zwswfm/UYFtAWgJvHPt+MHhNiLERkQgX+f2Tmf531eGZBln3EIvkJgGeJ6A4RWQA+B+DbMx6TWDBERAD+DsAbzPw3sx7PrEjwn0NE9CkiegDgQwC+S0SvzXpM84CZfQBfBvAa1CbdN5j59dmOar4Q0T8B+C8A7yKiB0T0xVmPaQ59GMCfAvgjIvrf6L9PznpQl01O+AohRArJzF8IIVJIgr8QQqSQBH8hhEghCf5CCJFCEvyFECKFJPgLIUQKSfAXQogUkuAvhBAp9P++v+AJBX5jYAAAAABJRU5ErkJggg==\n",
      "text/plain": [
       "<Figure size 432x288 with 1 Axes>"
      ]
     },
     "metadata": {},
     "output_type": "display_data"
    },
    {
     "data": {
      "image/png": "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\n",
      "text/plain": [
       "<Figure size 432x288 with 1 Axes>"
      ]
     },
     "metadata": {},
     "output_type": "display_data"
    }
   ],
   "source": [
    "import numpy as np\n",
    "from sklearn import datasets, linear_model\n",
    "import matplotlib.pyplot as plt\n",
    "\n",
    "\n",
    "def generate_data():\n",
    "    np.random.seed(0)\n",
    "    X, y = datasets.make_moons(200, noise=0.20)\n",
    "    return X, y\n",
    "\n",
    "\n",
    "def visualize(X, y, clf):\n",
    "    # plt.scatter(X[:, 0], X[:, 1], s=40, c=y, cmap=plt.cm.Spectral)\n",
    "    # plt.show()\n",
    "    plot_decision_boundary(lambda x: clf.predict(x), X, y)\n",
    "    plt.title(\"Logistic Regression\")\n",
    "\n",
    "\n",
    "def plot_decision_boundary(pred_func, X, y):\n",
    "    # Set min and max values and give it some padding\n",
    "    x_min, x_max = X[:, 0].min() - .5, X[:, 0].max() + .5\n",
    "    y_min, y_max = X[:, 1].min() - .5, X[:, 1].max() + .5\n",
    "    h = 0.01\n",
    "    # Generate a grid of points with distance h between them\n",
    "    xx, yy = np.meshgrid(np.arange(x_min, x_max, h), np.arange(y_min, y_max, h))\n",
    "    # Predict the function value for the whole gid\n",
    "    Z = pred_func(np.c_[xx.ravel(), yy.ravel()])\n",
    "    Z = Z.reshape(xx.shape)\n",
    "    # Plot the contour and training examples\n",
    "    plt.contourf(xx, yy, Z, cmap=plt.cm.Spectral)\n",
    "    plt.scatter(X[:, 0], X[:, 1], c=y, cmap=plt.cm.Spectral)\n",
    "    plt.show()\n",
    "\n",
    "\n",
    "def classify(X, y):\n",
    "    clf = linear_model.LogisticRegressionCV(cv=5)\n",
    "    clf.fit(X, y)\n",
    "    return clf\n",
    "\n",
    "\n",
    "def main():\n",
    "    X, y = generate_data()\n",
    "    # visualize(X, y)\n",
    "    clf = classify(X, y)\n",
    "    visualize(X, y, clf)\n",
    "\n",
    "\n",
    "if __name__ == \"__main__\":\n",
    "    main()"
   ]
  },
  {
   "cell_type": "markdown",
   "metadata": {},
   "source": [
    "<!-- !split  -->\n",
    "## The two-dimensional Ising model, Predicting phase transition of the two-dimensional Ising model\n",
    "\n",
    "The Hamiltonian of the two-dimensional Ising model without an external field for a constant coupling constant $J$ is given by"
   ]
  },
  {
   "cell_type": "markdown",
   "metadata": {},
   "source": [
    "<!-- Equation labels as ordinary links -->\n",
    "<div id=\"_auto2\"></div>\n",
    "\n",
    "$$\n",
    "\\begin{equation}\n",
    "    H = -J \\sum_{\\langle ij\\rangle} S_i S_j,\n",
    "\\label{_auto2} \\tag{2}\n",
    "\\end{equation}\n",
    "$$"
   ]
  },
  {
   "cell_type": "markdown",
   "metadata": {},
   "source": [
    "where $S_i \\in \\{-1, 1\\}$ and $\\langle ij \\rangle$ signifies that we only iterate over the nearest neighbors in the lattice. We will be looking at a system of $L = 40$ spins in each dimension, i.e., $L^2 = 1600$ spins in total. Opposed to the one-dimensional Ising model we will get a phase transition from an **ordered** phase to a **disordered** phase at the critical temperature"
   ]
  },
  {
   "cell_type": "markdown",
   "metadata": {},
   "source": [
    "<!-- Equation labels as ordinary links -->\n",
    "<div id=\"_auto3\"></div>\n",
    "\n",
    "$$\n",
    "\\begin{equation}\n",
    "    \\frac{T_c}{J} = \\frac{2}{\\log\\left(1 + \\sqrt{2}\\right)} \\approx 2.26,\n",
    "\\label{_auto3} \\tag{3}\n",
    "\\end{equation}\n",
    "$$"
   ]
  },
  {
   "cell_type": "markdown",
   "metadata": {},
   "source": [
    "as shown by Lars Onsager.\n",
    "\n",
    "\n",
    "Here we use **logistic regression** to predict when a phase transition\n",
    "occurs. The data we will look at is a set of spin configurations,\n",
    "i.e., individual lattices with spins, labeled **ordered** `1` or\n",
    "**disordered** `0`. Our job is to build a model which will take in a\n",
    "spin configuration and predict whether or not the spin configuration\n",
    "constitutes an ordered or a disordered phase. To achieve this we will\n",
    "represent the lattices as flattened arrays with $1600$ elements\n",
    "instead of a matrix of $40 \\times 40$ elements. As an extra test of\n",
    "the performance of the algorithms we will divide the dataset into\n",
    "three pieces. We will do a conventional train-test-split on a\n",
    "combination of totally ordered and totally disordered phases. The\n",
    "remaining \"critical-like\" states will be used as test data which we\n",
    "hope the model will be able to make good extrapolated predictions on."
   ]
  },
  {
   "cell_type": "code",
   "execution_count": 3,
   "metadata": {},
   "outputs": [],
   "source": [
    "import pickle\n",
    "import os\n",
    "import glob\n",
    "import numpy as np\n",
    "import pandas as pd\n",
    "import matplotlib.pyplot as plt\n",
    "import seaborn as sns\n",
    "import sklearn.model_selection as skms\n",
    "import sklearn.linear_model as skl\n",
    "import sklearn.metrics as skm\n",
    "import tqdm\n",
    "import copy\n",
    "import time\n",
    "from IPython.display import display\n",
    "\n",
    "%matplotlib inline\n",
    "\n",
    "sns.set(color_codes=True)"
   ]
  },
  {
   "cell_type": "markdown",
   "metadata": {},
   "source": [
    "## Reading in the data\n",
    "\n",
    "Using the data from [Mehta et al.](https://physics.bu.edu/~pankajm/ML-Review-Datasets/isingMC/) (specifically the two datasets named `Ising2DFM_reSample_L40_T=All.pkl` and `Ising2DFM_reSample_L40_T=All_labels.pkl`) we have to unpack the data into numpy arrays."
   ]
  },
  {
   "cell_type": "code",
   "execution_count": 4,
   "metadata": {},
   "outputs": [],
   "source": [
    "filenames = glob.glob(os.path.join(\"..\", \"dat\", \"*\"))\n",
    "label_filename = list(filter(lambda x: \"label\" in x, filenames))[0]\n",
    "dat_filename = list(filter(lambda x: \"label\" not in x, filenames))[0]\n",
    "\n",
    "# Read in the labels\n",
    "with open(label_filename, \"rb\") as f:\n",
    "    labels = pickle.load(f)\n",
    "\n",
    "# Read in the corresponding configurations\n",
    "with open(dat_filename, \"rb\") as f:\n",
    "    data = np.unpackbits(pickle.load(f)).reshape(-1, 1600).astype(\"int\")\n",
    "\n",
    "# Set spin-down to -1\n",
    "data[data == 0] = -1"
   ]
  },
  {
   "cell_type": "markdown",
   "metadata": {},
   "source": [
    "This dataset consists of $10000$ samples, i.e., $10000$ spin\n",
    "configurations with $40 \\times 40$ spins each, for $16$ temperatures\n",
    "between $0.25$ to $4.0$. Next we create a train/test-split and keep\n",
    "the data in the critical phase as a separate dataset for\n",
    "extrapolation-testing."
   ]
  },
  {
   "cell_type": "code",
   "execution_count": 5,
   "metadata": {},
   "outputs": [],
   "source": [
    "# Set up slices of the dataset\n",
    "ordered = slice(0, 70000)\n",
    "critical = slice(70000, 100000)\n",
    "disordered = slice(100000, 160000)\n",
    "\n",
    "X_train, X_test, y_train, y_test = skms.train_test_split(\n",
    "    np.concatenate((data[ordered], data[disordered])),\n",
    "    np.concatenate((labels[ordered], labels[disordered])),\n",
    "    test_size=0.95\n",
    ")"
   ]
  },
  {
   "cell_type": "markdown",
   "metadata": {},
   "source": [
    "## Logistic regression\n",
    "\n",
    "Logistic regression is a linear model for classification. Recalling\n",
    "the cost function for ordinary least squares with both L2 (ridge) and\n",
    "L1 (LASSO) penalties we will see that the logistic cost function is\n",
    "very similar. In OLS we wish to predict a continuous variable\n",
    "$\\hat{y}$ using"
   ]
  },
  {
   "cell_type": "markdown",
   "metadata": {},
   "source": [
    "<!-- Equation labels as ordinary links -->\n",
    "<div id=\"_auto4\"></div>\n",
    "\n",
    "$$\n",
    "\\begin{equation}\n",
    "    \\hat{y} = X\\omega,\n",
    "\\label{_auto4} \\tag{4}\n",
    "\\end{equation}\n",
    "$$"
   ]
  },
  {
   "cell_type": "markdown",
   "metadata": {},
   "source": [
    "where $X \\in \\mathbb{R}^{n \\times p}$ is the input data and $\\omega^{p\n",
    "\\times d}$ are the weights of the regression. In a classification\n",
    "setting (binary classification in our situation) we are interested in\n",
    "a positive or negative answer. We can thus define either answer to be\n",
    "above or below some threshold. But, in order to limit the size of the\n",
    "answer and also to get a probability interpretation on how sure we are\n",
    "for either answer we can compute the sigmoid function of OLS. That is,"
   ]
  },
  {
   "cell_type": "markdown",
   "metadata": {},
   "source": [
    "<!-- Equation labels as ordinary links -->\n",
    "<div id=\"_auto5\"></div>\n",
    "\n",
    "$$\n",
    "\\begin{equation}\n",
    "    f(X\\omega) = \\frac{1}{1 + \\exp(-X\\omega)}.\n",
    "\\label{_auto5} \\tag{5}\n",
    "\\end{equation}\n",
    "$$"
   ]
  },
  {
   "cell_type": "markdown",
   "metadata": {},
   "source": [
    "We are thus interested in minizming the following cost function"
   ]
  },
  {
   "cell_type": "markdown",
   "metadata": {},
   "source": [
    "<!-- Equation labels as ordinary links -->\n",
    "<div id=\"_auto6\"></div>\n",
    "\n",
    "$$\n",
    "\\begin{equation}\n",
    "    C(X, \\omega) = \\sum_{i = 1}^n \\left\\{\n",
    "        - y_i\\log\\left( f(x_i^T\\omega) \\right)\n",
    "        - (1 - y_i)\\log\\left[1 - f(x_i^T\\omega)\\right]\n",
    "    \\right\\},\n",
    "\\label{_auto6} \\tag{6}\n",
    "\\end{equation}\n",
    "$$"
   ]
  },
  {
   "cell_type": "markdown",
   "metadata": {},
   "source": [
    "where we will restrict ourselves to a value for $f(z)$ as the sigmoid\n",
    "described above. We can also tack on a L2 (Ridge) or L1 (LASSO)\n",
    "penalization to this cost function in the same manner we did for\n",
    "linear regression.\n",
    "\n",
    "## Exploring the logistic regression\n",
    "\n",
    "The penalization factor $\\lambda$ is inverted in the case of the\n",
    "logistic regression model we use. We will explore several values of\n",
    "$\\lambda$ using both L1 and L2 penalization. We do this using a grid\n",
    "search over different parameters and run a 3-fold cross validation for\n",
    "each configuration. In other words, we fit a model 3 times for each\n",
    "configuration of the hyper parameters."
   ]
  },
  {
   "cell_type": "code",
   "execution_count": 6,
   "metadata": {},
   "outputs": [],
   "source": [
    "lambdas = np.logspace(-7, -1, 7)\n",
    "\n",
    "param_grid = {\n",
    "    \"C\": list(1.0/lambdas),\n",
    "    \"penalty\": [\"l1\", \"l2\"]\n",
    "}\n",
    "clf = skms.GridSearchCV(\n",
    "    skl.LogisticRegression(),\n",
    "    param_grid=param_grid,\n",
    "    n_jobs=-1,\n",
    "    return_train_score=True\n",
    ")\n",
    "t0 = time.time()\n",
    "clf.fit(X_train, y_train)\n",
    "t1 = time.time()\n",
    "\n",
    "print (\n",
    "    \"Time spent fitting GridSearchCV(LogisticRegression): {0:.3f} sec\".format(\n",
    "        t1 - t0\n",
    "    )\n",
    ")"
   ]
  },
  {
   "cell_type": "markdown",
   "metadata": {},
   "source": [
    "We can see that logistic regression is quite slow and using the grid\n",
    "search and cross validation results in quite a heavy\n",
    "computation. Below we show the results of the different\n",
    "configurations."
   ]
  },
  {
   "cell_type": "code",
   "execution_count": 7,
   "metadata": {},
   "outputs": [],
   "source": [
    "logreg_df = pd.DataFrame(clf.cv_results_)\n",
    "\n",
    "display(logreg_df)"
   ]
  },
  {
   "cell_type": "markdown",
   "metadata": {},
   "source": [
    "## Accuracy of a classification model\n",
    "\n",
    "To determine how well a classification model is performing we count\n",
    "the number of correctly labeled classes and divide by the number of\n",
    "classes in total. The accuracy is thus given by"
   ]
  },
  {
   "cell_type": "markdown",
   "metadata": {},
   "source": [
    "<!-- Equation labels as ordinary links -->\n",
    "<div id=\"_auto7\"></div>\n",
    "\n",
    "$$\n",
    "\\begin{equation}\n",
    "    a(y, \\hat{y}) = \\frac{1}{n}\\sum_{i = 1}^{n} I(y_i = \\hat{y}_i),\n",
    "\\label{_auto7} \\tag{7}\n",
    "\\end{equation}\n",
    "$$"
   ]
  },
  {
   "cell_type": "markdown",
   "metadata": {},
   "source": [
    "where $I(y_i = \\hat{y}_i)$ is the indicator function given by"
   ]
  },
  {
   "cell_type": "markdown",
   "metadata": {},
   "source": [
    "<!-- Equation labels as ordinary links -->\n",
    "<div id=\"_auto8\"></div>\n",
    "\n",
    "$$\n",
    "\\begin{equation}\n",
    "    I(x = y) = \\begin{array}{cc}\n",
    "    1 & x = y, \\\\\n",
    "    0 & x \\neq y.\n",
    "    \\end{array}\n",
    "\\label{_auto8} \\tag{8}\n",
    "\\end{equation}\n",
    "$$"
   ]
  },
  {
   "cell_type": "markdown",
   "metadata": {},
   "source": [
    "This is the accuracy provided by Scikit-learn when using **sklearn.metrics.accuracyscore**.\n",
    "\n",
    "Below we compute the accuracy of the best fit model on the training data (which should give a good accuracy), the test data (which has not been shown to the model) and the critical data (completely new data that needs to be extrapolated)."
   ]
  },
  {
   "cell_type": "code",
   "execution_count": 8,
   "metadata": {},
   "outputs": [],
   "source": [
    "train_accuracy = skm.accuracy_score(y_train, clf.predict(X_train))\n",
    "test_accuracy = skm.accuracy_score(y_test, clf.predict(X_test))\n",
    "critical_accuracy = skm.accuracy_score(labels[critical], clf.predict(data[critical]))\n",
    "\n",
    "print (\"Accuracy on train data: {0}\".format(train_accuracy))\n",
    "print (\"Accuracy on test data: {0}\".format(test_accuracy))\n",
    "print (\"Accuracy on critical data: {0}\".format(critical_accuracy))"
   ]
  },
  {
   "cell_type": "markdown",
   "metadata": {},
   "source": [
    "We can see that we get quite good accuracy on the training data, but gradually worsening accuracy on the test and critical data.\n",
    "\n",
    "## Analyzing the results\n",
    "\n",
    "Below we show a different metric for determining the quality of our\n",
    "model, namely the **reciever operating characteristic** (ROC). The ROC\n",
    "curve tells us how well the model correctly classifies the different\n",
    "labels. We plot the **true positive rate** (the rate of predicted\n",
    "positive classes that are positive) versus the **false positive rate**\n",
    "(the rate of predicted positive classes that are negative). The ROC\n",
    "curve is built by computing the true positive rate and the false\n",
    "positive rate for varying **thresholds**, i.e, which probability we\n",
    "should acredit a certain class.\n",
    "\n",
    "By computing the **area under the curve** (AUC) of the ROC curve we get an estimate of how well our model is performing. Pure guessing will get an AUC of $0.5$. A perfect score will get an AUC of $1.0$."
   ]
  },
  {
   "cell_type": "code",
   "execution_count": 9,
   "metadata": {},
   "outputs": [],
   "source": [
    "fig = plt.figure(figsize=(20, 14))\n",
    "\n",
    "for (_X, _y), label in zip(\n",
    "    [\n",
    "        (X_train, y_train),\n",
    "        (X_test, y_test),\n",
    "        (data[critical], labels[critical])\n",
    "    ],\n",
    "    [\"Train\", \"Test\", \"Critical\"]\n",
    "):\n",
    "    proba = clf.predict_proba(_X)\n",
    "    fpr, tpr, _ = skm.roc_curve(_y, proba[:, 1])\n",
    "    roc_auc = skm.auc(fpr, tpr)\n",
    "\n",
    "    print (\"LogisticRegression AUC ({0}): {1}\".format(label, roc_auc))\n",
    "\n",
    "    plt.plot(fpr, tpr, label=\"{0} (AUC = {1})\".format(label, roc_auc), linewidth=4.0)\n",
    "\n",
    "plt.plot([0, 1], [0, 1], \"--\", label=\"Guessing (AUC = 0.5)\", linewidth=4.0)\n",
    "\n",
    "plt.title(r\"The ROC curve for LogisticRegression\", fontsize=18)\n",
    "plt.xlabel(r\"False positive rate\", fontsize=18)\n",
    "plt.ylabel(r\"True positive rate\", fontsize=18)\n",
    "plt.axis([-0.01, 1.01, -0.01, 1.01])\n",
    "plt.xticks(fontsize=18)\n",
    "plt.yticks(fontsize=18)\n",
    "plt.legend(loc=\"best\", fontsize=18)\n",
    "plt.show()"
   ]
  },
  {
   "cell_type": "markdown",
   "metadata": {},
   "source": [
    "We can see that this plot of the ROC looks very strange. This tells us\n",
    "that logistic regression is quite inept at predicting the Ising model\n",
    "transition and is therefore highly non-linear. The ROC curve for the\n",
    "training data looks quite good, but as the testing data is so far off\n",
    "we see that we are dealing with an overfit model."
   ]
  }
 ],
 "metadata": {
  "kernelspec": {
   "display_name": "Python 3",
   "language": "python",
   "name": "python3"
  },
  "language_info": {
   "codemirror_mode": {
    "name": "ipython",
    "version": 3
   },
   "file_extension": ".py",
   "mimetype": "text/x-python",
   "name": "python",
   "nbconvert_exporter": "python",
   "pygments_lexer": "ipython3",
<<<<<<< Updated upstream
<<<<<<< Updated upstream
<<<<<<< Updated upstream
<<<<<<< Updated upstream
   "version": "3.7.3"
=======
   "version": "3.7.1"
>>>>>>> Stashed changes
=======
   "version": "3.7.1"
>>>>>>> Stashed changes
=======
   "version": "3.7.1"
>>>>>>> Stashed changes
=======
   "version": "3.7.1"
>>>>>>> Stashed changes
  }
 },
 "nbformat": 4,
 "nbformat_minor": 2
}
